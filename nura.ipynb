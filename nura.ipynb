{
 "cells": [
  {
   "cell_type": "code",
   "execution_count": 1,
   "metadata": {},
   "outputs": [],
   "source": [
    "# !pip install SMOTE"
   ]
  },
  {
   "cell_type": "code",
   "execution_count": 2,
   "metadata": {},
   "outputs": [],
   "source": [
    "# !pip install imbalanced-learn"
   ]
  },
  {
   "cell_type": "code",
   "execution_count": 3,
   "metadata": {},
   "outputs": [],
   "source": [
    "# !pip install -U scikit-learn imbalanced-learn"
   ]
  },
  {
   "cell_type": "code",
   "execution_count": 36,
   "metadata": {},
   "outputs": [
    {
     "name": "stdout",
     "output_type": "stream",
     "text": [
      "Requirement already satisfied: pyldavis in /opt/homebrew/anaconda3/lib/python3.9/site-packages (3.4.1)\n",
      "Requirement already satisfied: numpy>=1.24.2 in /opt/homebrew/anaconda3/lib/python3.9/site-packages (from pyldavis) (1.26.4)\n",
      "Requirement already satisfied: scipy in /opt/homebrew/anaconda3/lib/python3.9/site-packages (from pyldavis) (1.12.0)\n",
      "Requirement already satisfied: pandas>=2.0.0 in /opt/homebrew/anaconda3/lib/python3.9/site-packages (from pyldavis) (2.2.1)\n",
      "Requirement already satisfied: joblib>=1.2.0 in /opt/homebrew/anaconda3/lib/python3.9/site-packages (from pyldavis) (1.3.2)\n",
      "Requirement already satisfied: jinja2 in /opt/homebrew/anaconda3/lib/python3.9/site-packages (from pyldavis) (3.1.3)\n",
      "Requirement already satisfied: numexpr in /opt/homebrew/anaconda3/lib/python3.9/site-packages (from pyldavis) (2.8.1)\n",
      "Requirement already satisfied: funcy in /opt/homebrew/anaconda3/lib/python3.9/site-packages (from pyldavis) (2.0)\n",
      "Requirement already satisfied: scikit-learn>=1.0.0 in /opt/homebrew/anaconda3/lib/python3.9/site-packages (from pyldavis) (1.4.1.post1)\n",
      "Requirement already satisfied: gensim in /opt/homebrew/anaconda3/lib/python3.9/site-packages (from pyldavis) (4.1.2)\n",
      "Requirement already satisfied: setuptools in /opt/homebrew/anaconda3/lib/python3.9/site-packages (from pyldavis) (61.2.0)\n",
      "Requirement already satisfied: python-dateutil>=2.8.2 in /opt/homebrew/anaconda3/lib/python3.9/site-packages (from pandas>=2.0.0->pyldavis) (2.8.2)\n",
      "Requirement already satisfied: pytz>=2020.1 in /opt/homebrew/anaconda3/lib/python3.9/site-packages (from pandas>=2.0.0->pyldavis) (2021.3)\n",
      "Requirement already satisfied: tzdata>=2022.7 in /opt/homebrew/anaconda3/lib/python3.9/site-packages (from pandas>=2.0.0->pyldavis) (2024.1)\n",
      "Requirement already satisfied: threadpoolctl>=2.0.0 in /opt/homebrew/anaconda3/lib/python3.9/site-packages (from scikit-learn>=1.0.0->pyldavis) (2.2.0)\n",
      "Requirement already satisfied: smart-open>=1.8.1 in /opt/homebrew/anaconda3/lib/python3.9/site-packages (from gensim->pyldavis) (5.2.1)\n",
      "Requirement already satisfied: MarkupSafe>=2.0 in /opt/homebrew/anaconda3/lib/python3.9/site-packages (from jinja2->pyldavis) (2.0.1)\n",
      "Requirement already satisfied: packaging in /opt/homebrew/anaconda3/lib/python3.9/site-packages (from numexpr->pyldavis) (21.3)\n",
      "Requirement already satisfied: six>=1.5 in /opt/homebrew/anaconda3/lib/python3.9/site-packages (from python-dateutil>=2.8.2->pandas>=2.0.0->pyldavis) (1.16.0)\n",
      "Requirement already satisfied: pyparsing!=3.0.5,>=2.0.2 in /opt/homebrew/anaconda3/lib/python3.9/site-packages (from packaging->numexpr->pyldavis) (3.0.4)\n",
      "Note: you may need to restart the kernel to use updated packages.\n"
     ]
    }
   ],
   "source": [
    "pip install pyldavis"
   ]
  },
  {
   "cell_type": "code",
   "execution_count": 38,
   "metadata": {},
   "outputs": [],
   "source": [
    "import pandas as pd\n",
    "import matplotlib.pyplot as plt\n",
    "from sklearn.model_selection import train_test_split\n",
    "from sklearn.feature_extraction.text import TfidfVectorizer, CountVectorizer\n",
    "from sklearn.metrics import classification_report\n",
    "from sklearn.ensemble import RandomForestClassifier\n",
    "from imblearn.over_sampling import SMOTE\n",
    "from collections import Counter\n",
    "from imblearn.under_sampling import RandomUnderSampler\n",
    "from sklearn.decomposition import LatentDirichletAllocation\n",
    "import pyLDAvis.lda_model"
   ]
  },
  {
   "cell_type": "code",
   "execution_count": 5,
   "metadata": {},
   "outputs": [],
   "source": [
    "from functions import *"
   ]
  },
  {
   "cell_type": "code",
   "execution_count": 2,
   "metadata": {},
   "outputs": [],
   "source": [
    "train = pd.read_csv(\"train.csv\")\n",
    "test = pd.read_csv(\"test.csv\")"
   ]
  },
  {
   "cell_type": "code",
   "execution_count": null,
   "metadata": {},
   "outputs": [],
   "source": [
    "train.describe()"
   ]
  },
  {
   "cell_type": "code",
   "execution_count": null,
   "metadata": {},
   "outputs": [],
   "source": [
    "train.head(20)"
   ]
  },
  {
   "cell_type": "code",
   "execution_count": null,
   "metadata": {},
   "outputs": [],
   "source": [
    "train.isnull().sum()"
   ]
  },
  {
   "cell_type": "code",
   "execution_count": null,
   "metadata": {},
   "outputs": [],
   "source": [
    "# train = train.dropna()"
   ]
  },
  {
   "cell_type": "code",
   "execution_count": null,
   "metadata": {},
   "outputs": [],
   "source": [
    "train.isnull().sum()"
   ]
  },
  {
   "cell_type": "code",
   "execution_count": null,
   "metadata": {},
   "outputs": [],
   "source": [
    "train.duplicated().sum()"
   ]
  },
  {
   "cell_type": "code",
   "execution_count": null,
   "metadata": {},
   "outputs": [],
   "source": [
    "train = train.drop_duplicates()"
   ]
  },
  {
   "cell_type": "code",
   "execution_count": null,
   "metadata": {},
   "outputs": [],
   "source": [
    "train.shape"
   ]
  },
  {
   "cell_type": "code",
   "execution_count": null,
   "metadata": {},
   "outputs": [],
   "source": [
    "class_counts = train['overall'].value_counts()\n",
    "\n",
    "plt.bar(class_counts.index, class_counts.values)\n",
    "plt.xlabel('Class')\n",
    "plt.ylabel('Number of Samples')\n",
    "plt.title('Histogram of Sample Counts per Class')\n",
    "plt.show()"
   ]
  },
  {
   "cell_type": "code",
   "execution_count": null,
   "metadata": {},
   "outputs": [],
   "source": [
    "test.describe()"
   ]
  },
  {
   "cell_type": "code",
   "execution_count": null,
   "metadata": {},
   "outputs": [],
   "source": [
    "test.head(20)"
   ]
  },
  {
   "cell_type": "code",
   "execution_count": null,
   "metadata": {},
   "outputs": [],
   "source": [
    "test.isnull().sum()"
   ]
  },
  {
   "cell_type": "code",
   "execution_count": null,
   "metadata": {},
   "outputs": [],
   "source": [
    "test.duplicated().sum()"
   ]
  },
  {
   "cell_type": "code",
   "execution_count": null,
   "metadata": {},
   "outputs": [],
   "source": [
    "test.shape"
   ]
  },
  {
   "cell_type": "code",
   "execution_count": 6,
   "metadata": {},
   "outputs": [],
   "source": [
    "train[\"Review\"]= train[\"Review\"].astype(str)\n"
   ]
  },
  {
   "cell_type": "code",
   "execution_count": 7,
   "metadata": {},
   "outputs": [],
   "source": [
    "train[\"Review\"] = train[\"Review\"].apply(preprocess)"
   ]
  },
  {
   "cell_type": "code",
   "execution_count": null,
   "metadata": {},
   "outputs": [],
   "source": [
    "train"
   ]
  },
  {
   "cell_type": "code",
   "execution_count": null,
   "metadata": {},
   "outputs": [],
   "source": [
    "# train = train.head(8000).copy()"
   ]
  },
  {
   "cell_type": "code",
   "execution_count": 11,
   "metadata": {},
   "outputs": [],
   "source": [
    "vectorizer = TfidfVectorizer()"
   ]
  },
  {
   "cell_type": "code",
   "execution_count": null,
   "metadata": {},
   "outputs": [],
   "source": [
    "# vectorizer = CountVectorizer()"
   ]
  },
  {
   "cell_type": "code",
   "execution_count": null,
   "metadata": {},
   "outputs": [],
   "source": [
    "X = vectorizer.fit_transform(train[\"Review\"])"
   ]
  },
  {
   "cell_type": "code",
   "execution_count": null,
   "metadata": {},
   "outputs": [],
   "source": [
    "y = train[\"overall\"]\n",
    "X_train, X_test, y_train, y_test = train_test_split(X, y, stratify=y,test_size=0.3, random_state=42)\n",
    "print('Original class distribution:', Counter(y_train))\n"
   ]
  },
  {
   "cell_type": "code",
   "execution_count": null,
   "metadata": {},
   "outputs": [],
   "source": [
    "undersampler = RandomUnderSampler(sampling_strategy={5: Counter(y_train)[4]}, random_state=42)\n",
    "X_train_under, y_train_under = undersampler.fit_resample(X_train, y_train)"
   ]
  },
  {
   "cell_type": "code",
   "execution_count": null,
   "metadata": {},
   "outputs": [],
   "source": [
    "print('Class distribution after undersampling:', Counter(y_train_under))\n"
   ]
  },
  {
   "cell_type": "code",
   "execution_count": null,
   "metadata": {},
   "outputs": [],
   "source": [
    "smote = SMOTE()\n",
    "X_train_smote, y_train_smote = smote.fit_resample(X_train_under, y_train_under)"
   ]
  },
  {
   "cell_type": "code",
   "execution_count": null,
   "metadata": {},
   "outputs": [],
   "source": [
    "print('Class distribution after SMOTE:', Counter(y_train_smote))\n"
   ]
  },
  {
   "cell_type": "code",
   "execution_count": null,
   "metadata": {},
   "outputs": [],
   "source": [
    "model = RandomForestClassifier()\n",
    "model.fit(X_train_smote, y_train_smote)"
   ]
  },
  {
   "cell_type": "code",
   "execution_count": null,
   "metadata": {},
   "outputs": [],
   "source": [
    "y_pred = model.predict(X_test)\n",
    "print(classification_report(y_test, y_pred))\n",
    "y_train_pred = model.predict(X_train_smote)\n",
    "print(classification_report(y_train_smote, y_train_pred))"
   ]
  },
  {
   "cell_type": "code",
   "execution_count": 8,
   "metadata": {},
   "outputs": [],
   "source": [
    "high_rated = train[train['overall'] == 5]\n",
    "low_rated = train[train['overall'] == 1]"
   ]
  },
  {
   "cell_type": "code",
   "execution_count": 9,
   "metadata": {},
   "outputs": [
    {
     "name": "stderr",
     "output_type": "stream",
     "text": [
      "/var/folders/ly/mbvbtlm97tv5q9v_g2g81z5h0000gn/T/ipykernel_65509/4093898252.py:1: SettingWithCopyWarning: \n",
      "A value is trying to be set on a copy of a slice from a DataFrame.\n",
      "Try using .loc[row_indexer,col_indexer] = value instead\n",
      "\n",
      "See the caveats in the documentation: https://pandas.pydata.org/pandas-docs/stable/user_guide/indexing.html#returning-a-view-versus-a-copy\n",
      "  high_rated['Review'] = high_rated['Review'].apply(preprocess)\n",
      "/var/folders/ly/mbvbtlm97tv5q9v_g2g81z5h0000gn/T/ipykernel_65509/4093898252.py:2: SettingWithCopyWarning: \n",
      "A value is trying to be set on a copy of a slice from a DataFrame.\n",
      "Try using .loc[row_indexer,col_indexer] = value instead\n",
      "\n",
      "See the caveats in the documentation: https://pandas.pydata.org/pandas-docs/stable/user_guide/indexing.html#returning-a-view-versus-a-copy\n",
      "  low_rated['Review'] = low_rated['Review'].apply(preprocess)\n"
     ]
    }
   ],
   "source": [
    "high_rated['Review'] = high_rated['Review'].apply(preprocess)\n",
    "low_rated['Review'] = low_rated['Review'].apply(preprocess)"
   ]
  },
  {
   "cell_type": "code",
   "execution_count": 21,
   "metadata": {},
   "outputs": [],
   "source": [
    "high = vectorizer.fit_transform(high_rated['Review'])\n",
    "low = vectorizer.fit_transform(low_rated['Review'])"
   ]
  },
  {
   "cell_type": "code",
   "execution_count": 24,
   "metadata": {},
   "outputs": [
    {
     "data": {
      "text/html": [
       "<style>#sk-container-id-1 {\n",
       "  /* Definition of color scheme common for light and dark mode */\n",
       "  --sklearn-color-text: black;\n",
       "  --sklearn-color-line: gray;\n",
       "  /* Definition of color scheme for unfitted estimators */\n",
       "  --sklearn-color-unfitted-level-0: #fff5e6;\n",
       "  --sklearn-color-unfitted-level-1: #f6e4d2;\n",
       "  --sklearn-color-unfitted-level-2: #ffe0b3;\n",
       "  --sklearn-color-unfitted-level-3: chocolate;\n",
       "  /* Definition of color scheme for fitted estimators */\n",
       "  --sklearn-color-fitted-level-0: #f0f8ff;\n",
       "  --sklearn-color-fitted-level-1: #d4ebff;\n",
       "  --sklearn-color-fitted-level-2: #b3dbfd;\n",
       "  --sklearn-color-fitted-level-3: cornflowerblue;\n",
       "\n",
       "  /* Specific color for light theme */\n",
       "  --sklearn-color-text-on-default-background: var(--sg-text-color, var(--theme-code-foreground, var(--jp-content-font-color1, black)));\n",
       "  --sklearn-color-background: var(--sg-background-color, var(--theme-background, var(--jp-layout-color0, white)));\n",
       "  --sklearn-color-border-box: var(--sg-text-color, var(--theme-code-foreground, var(--jp-content-font-color1, black)));\n",
       "  --sklearn-color-icon: #696969;\n",
       "\n",
       "  @media (prefers-color-scheme: dark) {\n",
       "    /* Redefinition of color scheme for dark theme */\n",
       "    --sklearn-color-text-on-default-background: var(--sg-text-color, var(--theme-code-foreground, var(--jp-content-font-color1, white)));\n",
       "    --sklearn-color-background: var(--sg-background-color, var(--theme-background, var(--jp-layout-color0, #111)));\n",
       "    --sklearn-color-border-box: var(--sg-text-color, var(--theme-code-foreground, var(--jp-content-font-color1, white)));\n",
       "    --sklearn-color-icon: #878787;\n",
       "  }\n",
       "}\n",
       "\n",
       "#sk-container-id-1 {\n",
       "  color: var(--sklearn-color-text);\n",
       "}\n",
       "\n",
       "#sk-container-id-1 pre {\n",
       "  padding: 0;\n",
       "}\n",
       "\n",
       "#sk-container-id-1 input.sk-hidden--visually {\n",
       "  border: 0;\n",
       "  clip: rect(1px 1px 1px 1px);\n",
       "  clip: rect(1px, 1px, 1px, 1px);\n",
       "  height: 1px;\n",
       "  margin: -1px;\n",
       "  overflow: hidden;\n",
       "  padding: 0;\n",
       "  position: absolute;\n",
       "  width: 1px;\n",
       "}\n",
       "\n",
       "#sk-container-id-1 div.sk-dashed-wrapped {\n",
       "  border: 1px dashed var(--sklearn-color-line);\n",
       "  margin: 0 0.4em 0.5em 0.4em;\n",
       "  box-sizing: border-box;\n",
       "  padding-bottom: 0.4em;\n",
       "  background-color: var(--sklearn-color-background);\n",
       "}\n",
       "\n",
       "#sk-container-id-1 div.sk-container {\n",
       "  /* jupyter's `normalize.less` sets `[hidden] { display: none; }`\n",
       "     but bootstrap.min.css set `[hidden] { display: none !important; }`\n",
       "     so we also need the `!important` here to be able to override the\n",
       "     default hidden behavior on the sphinx rendered scikit-learn.org.\n",
       "     See: https://github.com/scikit-learn/scikit-learn/issues/21755 */\n",
       "  display: inline-block !important;\n",
       "  position: relative;\n",
       "}\n",
       "\n",
       "#sk-container-id-1 div.sk-text-repr-fallback {\n",
       "  display: none;\n",
       "}\n",
       "\n",
       "div.sk-parallel-item,\n",
       "div.sk-serial,\n",
       "div.sk-item {\n",
       "  /* draw centered vertical line to link estimators */\n",
       "  background-image: linear-gradient(var(--sklearn-color-text-on-default-background), var(--sklearn-color-text-on-default-background));\n",
       "  background-size: 2px 100%;\n",
       "  background-repeat: no-repeat;\n",
       "  background-position: center center;\n",
       "}\n",
       "\n",
       "/* Parallel-specific style estimator block */\n",
       "\n",
       "#sk-container-id-1 div.sk-parallel-item::after {\n",
       "  content: \"\";\n",
       "  width: 100%;\n",
       "  border-bottom: 2px solid var(--sklearn-color-text-on-default-background);\n",
       "  flex-grow: 1;\n",
       "}\n",
       "\n",
       "#sk-container-id-1 div.sk-parallel {\n",
       "  display: flex;\n",
       "  align-items: stretch;\n",
       "  justify-content: center;\n",
       "  background-color: var(--sklearn-color-background);\n",
       "  position: relative;\n",
       "}\n",
       "\n",
       "#sk-container-id-1 div.sk-parallel-item {\n",
       "  display: flex;\n",
       "  flex-direction: column;\n",
       "}\n",
       "\n",
       "#sk-container-id-1 div.sk-parallel-item:first-child::after {\n",
       "  align-self: flex-end;\n",
       "  width: 50%;\n",
       "}\n",
       "\n",
       "#sk-container-id-1 div.sk-parallel-item:last-child::after {\n",
       "  align-self: flex-start;\n",
       "  width: 50%;\n",
       "}\n",
       "\n",
       "#sk-container-id-1 div.sk-parallel-item:only-child::after {\n",
       "  width: 0;\n",
       "}\n",
       "\n",
       "/* Serial-specific style estimator block */\n",
       "\n",
       "#sk-container-id-1 div.sk-serial {\n",
       "  display: flex;\n",
       "  flex-direction: column;\n",
       "  align-items: center;\n",
       "  background-color: var(--sklearn-color-background);\n",
       "  padding-right: 1em;\n",
       "  padding-left: 1em;\n",
       "}\n",
       "\n",
       "\n",
       "/* Toggleable style: style used for estimator/Pipeline/ColumnTransformer box that is\n",
       "clickable and can be expanded/collapsed.\n",
       "- Pipeline and ColumnTransformer use this feature and define the default style\n",
       "- Estimators will overwrite some part of the style using the `sk-estimator` class\n",
       "*/\n",
       "\n",
       "/* Pipeline and ColumnTransformer style (default) */\n",
       "\n",
       "#sk-container-id-1 div.sk-toggleable {\n",
       "  /* Default theme specific background. It is overwritten whether we have a\n",
       "  specific estimator or a Pipeline/ColumnTransformer */\n",
       "  background-color: var(--sklearn-color-background);\n",
       "}\n",
       "\n",
       "/* Toggleable label */\n",
       "#sk-container-id-1 label.sk-toggleable__label {\n",
       "  cursor: pointer;\n",
       "  display: block;\n",
       "  width: 100%;\n",
       "  margin-bottom: 0;\n",
       "  padding: 0.5em;\n",
       "  box-sizing: border-box;\n",
       "  text-align: center;\n",
       "}\n",
       "\n",
       "#sk-container-id-1 label.sk-toggleable__label-arrow:before {\n",
       "  /* Arrow on the left of the label */\n",
       "  content: \"▸\";\n",
       "  float: left;\n",
       "  margin-right: 0.25em;\n",
       "  color: var(--sklearn-color-icon);\n",
       "}\n",
       "\n",
       "#sk-container-id-1 label.sk-toggleable__label-arrow:hover:before {\n",
       "  color: var(--sklearn-color-text);\n",
       "}\n",
       "\n",
       "/* Toggleable content - dropdown */\n",
       "\n",
       "#sk-container-id-1 div.sk-toggleable__content {\n",
       "  max-height: 0;\n",
       "  max-width: 0;\n",
       "  overflow: hidden;\n",
       "  text-align: left;\n",
       "  /* unfitted */\n",
       "  background-color: var(--sklearn-color-unfitted-level-0);\n",
       "}\n",
       "\n",
       "#sk-container-id-1 div.sk-toggleable__content.fitted {\n",
       "  /* fitted */\n",
       "  background-color: var(--sklearn-color-fitted-level-0);\n",
       "}\n",
       "\n",
       "#sk-container-id-1 div.sk-toggleable__content pre {\n",
       "  margin: 0.2em;\n",
       "  border-radius: 0.25em;\n",
       "  color: var(--sklearn-color-text);\n",
       "  /* unfitted */\n",
       "  background-color: var(--sklearn-color-unfitted-level-0);\n",
       "}\n",
       "\n",
       "#sk-container-id-1 div.sk-toggleable__content.fitted pre {\n",
       "  /* unfitted */\n",
       "  background-color: var(--sklearn-color-fitted-level-0);\n",
       "}\n",
       "\n",
       "#sk-container-id-1 input.sk-toggleable__control:checked~div.sk-toggleable__content {\n",
       "  /* Expand drop-down */\n",
       "  max-height: 200px;\n",
       "  max-width: 100%;\n",
       "  overflow: auto;\n",
       "}\n",
       "\n",
       "#sk-container-id-1 input.sk-toggleable__control:checked~label.sk-toggleable__label-arrow:before {\n",
       "  content: \"▾\";\n",
       "}\n",
       "\n",
       "/* Pipeline/ColumnTransformer-specific style */\n",
       "\n",
       "#sk-container-id-1 div.sk-label input.sk-toggleable__control:checked~label.sk-toggleable__label {\n",
       "  color: var(--sklearn-color-text);\n",
       "  background-color: var(--sklearn-color-unfitted-level-2);\n",
       "}\n",
       "\n",
       "#sk-container-id-1 div.sk-label.fitted input.sk-toggleable__control:checked~label.sk-toggleable__label {\n",
       "  background-color: var(--sklearn-color-fitted-level-2);\n",
       "}\n",
       "\n",
       "/* Estimator-specific style */\n",
       "\n",
       "/* Colorize estimator box */\n",
       "#sk-container-id-1 div.sk-estimator input.sk-toggleable__control:checked~label.sk-toggleable__label {\n",
       "  /* unfitted */\n",
       "  background-color: var(--sklearn-color-unfitted-level-2);\n",
       "}\n",
       "\n",
       "#sk-container-id-1 div.sk-estimator.fitted input.sk-toggleable__control:checked~label.sk-toggleable__label {\n",
       "  /* fitted */\n",
       "  background-color: var(--sklearn-color-fitted-level-2);\n",
       "}\n",
       "\n",
       "#sk-container-id-1 div.sk-label label.sk-toggleable__label,\n",
       "#sk-container-id-1 div.sk-label label {\n",
       "  /* The background is the default theme color */\n",
       "  color: var(--sklearn-color-text-on-default-background);\n",
       "}\n",
       "\n",
       "/* On hover, darken the color of the background */\n",
       "#sk-container-id-1 div.sk-label:hover label.sk-toggleable__label {\n",
       "  color: var(--sklearn-color-text);\n",
       "  background-color: var(--sklearn-color-unfitted-level-2);\n",
       "}\n",
       "\n",
       "/* Label box, darken color on hover, fitted */\n",
       "#sk-container-id-1 div.sk-label.fitted:hover label.sk-toggleable__label.fitted {\n",
       "  color: var(--sklearn-color-text);\n",
       "  background-color: var(--sklearn-color-fitted-level-2);\n",
       "}\n",
       "\n",
       "/* Estimator label */\n",
       "\n",
       "#sk-container-id-1 div.sk-label label {\n",
       "  font-family: monospace;\n",
       "  font-weight: bold;\n",
       "  display: inline-block;\n",
       "  line-height: 1.2em;\n",
       "}\n",
       "\n",
       "#sk-container-id-1 div.sk-label-container {\n",
       "  text-align: center;\n",
       "}\n",
       "\n",
       "/* Estimator-specific */\n",
       "#sk-container-id-1 div.sk-estimator {\n",
       "  font-family: monospace;\n",
       "  border: 1px dotted var(--sklearn-color-border-box);\n",
       "  border-radius: 0.25em;\n",
       "  box-sizing: border-box;\n",
       "  margin-bottom: 0.5em;\n",
       "  /* unfitted */\n",
       "  background-color: var(--sklearn-color-unfitted-level-0);\n",
       "}\n",
       "\n",
       "#sk-container-id-1 div.sk-estimator.fitted {\n",
       "  /* fitted */\n",
       "  background-color: var(--sklearn-color-fitted-level-0);\n",
       "}\n",
       "\n",
       "/* on hover */\n",
       "#sk-container-id-1 div.sk-estimator:hover {\n",
       "  /* unfitted */\n",
       "  background-color: var(--sklearn-color-unfitted-level-2);\n",
       "}\n",
       "\n",
       "#sk-container-id-1 div.sk-estimator.fitted:hover {\n",
       "  /* fitted */\n",
       "  background-color: var(--sklearn-color-fitted-level-2);\n",
       "}\n",
       "\n",
       "/* Specification for estimator info (e.g. \"i\" and \"?\") */\n",
       "\n",
       "/* Common style for \"i\" and \"?\" */\n",
       "\n",
       ".sk-estimator-doc-link,\n",
       "a:link.sk-estimator-doc-link,\n",
       "a:visited.sk-estimator-doc-link {\n",
       "  float: right;\n",
       "  font-size: smaller;\n",
       "  line-height: 1em;\n",
       "  font-family: monospace;\n",
       "  background-color: var(--sklearn-color-background);\n",
       "  border-radius: 1em;\n",
       "  height: 1em;\n",
       "  width: 1em;\n",
       "  text-decoration: none !important;\n",
       "  margin-left: 1ex;\n",
       "  /* unfitted */\n",
       "  border: var(--sklearn-color-unfitted-level-1) 1pt solid;\n",
       "  color: var(--sklearn-color-unfitted-level-1);\n",
       "}\n",
       "\n",
       ".sk-estimator-doc-link.fitted,\n",
       "a:link.sk-estimator-doc-link.fitted,\n",
       "a:visited.sk-estimator-doc-link.fitted {\n",
       "  /* fitted */\n",
       "  border: var(--sklearn-color-fitted-level-1) 1pt solid;\n",
       "  color: var(--sklearn-color-fitted-level-1);\n",
       "}\n",
       "\n",
       "/* On hover */\n",
       "div.sk-estimator:hover .sk-estimator-doc-link:hover,\n",
       ".sk-estimator-doc-link:hover,\n",
       "div.sk-label-container:hover .sk-estimator-doc-link:hover,\n",
       ".sk-estimator-doc-link:hover {\n",
       "  /* unfitted */\n",
       "  background-color: var(--sklearn-color-unfitted-level-3);\n",
       "  color: var(--sklearn-color-background);\n",
       "  text-decoration: none;\n",
       "}\n",
       "\n",
       "div.sk-estimator.fitted:hover .sk-estimator-doc-link.fitted:hover,\n",
       ".sk-estimator-doc-link.fitted:hover,\n",
       "div.sk-label-container:hover .sk-estimator-doc-link.fitted:hover,\n",
       ".sk-estimator-doc-link.fitted:hover {\n",
       "  /* fitted */\n",
       "  background-color: var(--sklearn-color-fitted-level-3);\n",
       "  color: var(--sklearn-color-background);\n",
       "  text-decoration: none;\n",
       "}\n",
       "\n",
       "/* Span, style for the box shown on hovering the info icon */\n",
       ".sk-estimator-doc-link span {\n",
       "  display: none;\n",
       "  z-index: 9999;\n",
       "  position: relative;\n",
       "  font-weight: normal;\n",
       "  right: .2ex;\n",
       "  padding: .5ex;\n",
       "  margin: .5ex;\n",
       "  width: min-content;\n",
       "  min-width: 20ex;\n",
       "  max-width: 50ex;\n",
       "  color: var(--sklearn-color-text);\n",
       "  box-shadow: 2pt 2pt 4pt #999;\n",
       "  /* unfitted */\n",
       "  background: var(--sklearn-color-unfitted-level-0);\n",
       "  border: .5pt solid var(--sklearn-color-unfitted-level-3);\n",
       "}\n",
       "\n",
       ".sk-estimator-doc-link.fitted span {\n",
       "  /* fitted */\n",
       "  background: var(--sklearn-color-fitted-level-0);\n",
       "  border: var(--sklearn-color-fitted-level-3);\n",
       "}\n",
       "\n",
       ".sk-estimator-doc-link:hover span {\n",
       "  display: block;\n",
       "}\n",
       "\n",
       "/* \"?\"-specific style due to the `<a>` HTML tag */\n",
       "\n",
       "#sk-container-id-1 a.estimator_doc_link {\n",
       "  float: right;\n",
       "  font-size: 1rem;\n",
       "  line-height: 1em;\n",
       "  font-family: monospace;\n",
       "  background-color: var(--sklearn-color-background);\n",
       "  border-radius: 1rem;\n",
       "  height: 1rem;\n",
       "  width: 1rem;\n",
       "  text-decoration: none;\n",
       "  /* unfitted */\n",
       "  color: var(--sklearn-color-unfitted-level-1);\n",
       "  border: var(--sklearn-color-unfitted-level-1) 1pt solid;\n",
       "}\n",
       "\n",
       "#sk-container-id-1 a.estimator_doc_link.fitted {\n",
       "  /* fitted */\n",
       "  border: var(--sklearn-color-fitted-level-1) 1pt solid;\n",
       "  color: var(--sklearn-color-fitted-level-1);\n",
       "}\n",
       "\n",
       "/* On hover */\n",
       "#sk-container-id-1 a.estimator_doc_link:hover {\n",
       "  /* unfitted */\n",
       "  background-color: var(--sklearn-color-unfitted-level-3);\n",
       "  color: var(--sklearn-color-background);\n",
       "  text-decoration: none;\n",
       "}\n",
       "\n",
       "#sk-container-id-1 a.estimator_doc_link.fitted:hover {\n",
       "  /* fitted */\n",
       "  background-color: var(--sklearn-color-fitted-level-3);\n",
       "}\n",
       "</style><div id=\"sk-container-id-1\" class=\"sk-top-container\"><div class=\"sk-text-repr-fallback\"><pre>LatentDirichletAllocation(random_state=0)</pre><b>In a Jupyter environment, please rerun this cell to show the HTML representation or trust the notebook. <br />On GitHub, the HTML representation is unable to render, please try loading this page with nbviewer.org.</b></div><div class=\"sk-container\" hidden><div class=\"sk-item\"><div class=\"sk-estimator fitted sk-toggleable\"><input class=\"sk-toggleable__control sk-hidden--visually\" id=\"sk-estimator-id-1\" type=\"checkbox\" checked><label for=\"sk-estimator-id-1\" class=\"sk-toggleable__label fitted sk-toggleable__label-arrow fitted\">&nbsp;&nbsp;LatentDirichletAllocation<a class=\"sk-estimator-doc-link fitted\" rel=\"noreferrer\" target=\"_blank\" href=\"https://scikit-learn.org/1.4/modules/generated/sklearn.decomposition.LatentDirichletAllocation.html\">?<span>Documentation for LatentDirichletAllocation</span></a><span class=\"sk-estimator-doc-link fitted\">i<span>Fitted</span></span></label><div class=\"sk-toggleable__content fitted\"><pre>LatentDirichletAllocation(random_state=0)</pre></div> </div></div></div></div>"
      ],
      "text/plain": [
       "LatentDirichletAllocation(random_state=0)"
      ]
     },
     "execution_count": 24,
     "metadata": {},
     "output_type": "execute_result"
    }
   ],
   "source": [
    "# Number of topics\n",
    "n_topics = 10\n",
    "\n",
    "# Run LDA\n",
    "lda_high = LatentDirichletAllocation(n_components=n_topics, random_state=0)\n",
    "lda_high.fit(high)\n",
    "\n",
    "lda_low = LatentDirichletAllocation(n_components=n_topics, random_state=0)\n",
    "lda_low.fit(low)\n",
    "\n"
   ]
  },
  {
   "cell_type": "code",
   "execution_count": 41,
   "metadata": {},
   "outputs": [
    {
     "ename": "AssertionError",
     "evalue": "Term frequencies and vocabulary are of different sizes, 40236 != 11760.",
     "output_type": "error",
     "traceback": [
      "\u001b[0;31m---------------------------------------------------------------------------\u001b[0m",
      "\u001b[0;31mAssertionError\u001b[0m                            Traceback (most recent call last)",
      "Input \u001b[0;32mIn [41]\u001b[0m, in \u001b[0;36m<cell line: 1>\u001b[0;34m()\u001b[0m\n\u001b[0;32m----> 1\u001b[0m panel_high \u001b[38;5;241m=\u001b[39m \u001b[43mpyLDAvis\u001b[49m\u001b[38;5;241;43m.\u001b[39;49m\u001b[43mlda_model\u001b[49m\u001b[38;5;241;43m.\u001b[39;49m\u001b[43mprepare\u001b[49m\u001b[43m(\u001b[49m\u001b[43mlda_high\u001b[49m\u001b[43m,\u001b[49m\u001b[43m \u001b[49m\u001b[43mhigh\u001b[49m\u001b[43m,\u001b[49m\u001b[43m \u001b[49m\u001b[43mvectorizer\u001b[49m\u001b[43m,\u001b[49m\u001b[43m \u001b[49m\u001b[43mmds\u001b[49m\u001b[38;5;241;43m=\u001b[39;49m\u001b[38;5;124;43m'\u001b[39;49m\u001b[38;5;124;43mtsne\u001b[39;49m\u001b[38;5;124;43m'\u001b[39;49m\u001b[43m)\u001b[49m\n\u001b[1;32m      2\u001b[0m pyLDAvis\u001b[38;5;241m.\u001b[39mdisplay(panel_high)\n",
      "File \u001b[0;32m/opt/homebrew/anaconda3/lib/python3.9/site-packages/pyLDAvis/lda_model.py:94\u001b[0m, in \u001b[0;36mprepare\u001b[0;34m(lda_model, dtm, vectorizer, **kwargs)\u001b[0m\n\u001b[1;32m     62\u001b[0m \u001b[38;5;28;01mdef\u001b[39;00m \u001b[38;5;21mprepare\u001b[39m(lda_model, dtm, vectorizer, \u001b[38;5;241m*\u001b[39m\u001b[38;5;241m*\u001b[39mkwargs):\n\u001b[1;32m     63\u001b[0m \u001b[38;5;250m    \u001b[39m\u001b[38;5;124;03m\"\"\"Create Prepared Data from sklearn's LatentDirichletAllocation and CountVectorizer.\u001b[39;00m\n\u001b[1;32m     64\u001b[0m \n\u001b[1;32m     65\u001b[0m \u001b[38;5;124;03m    Parameters\u001b[39;00m\n\u001b[0;32m   (...)\u001b[0m\n\u001b[1;32m     92\u001b[0m \u001b[38;5;124;03m    See `pyLDAvis.prepare` for **kwargs.\u001b[39;00m\n\u001b[1;32m     93\u001b[0m \u001b[38;5;124;03m    \"\"\"\u001b[39;00m\n\u001b[0;32m---> 94\u001b[0m     opts \u001b[38;5;241m=\u001b[39m fp\u001b[38;5;241m.\u001b[39mmerge(\u001b[43m_extract_data\u001b[49m\u001b[43m(\u001b[49m\u001b[43mlda_model\u001b[49m\u001b[43m,\u001b[49m\u001b[43m \u001b[49m\u001b[43mdtm\u001b[49m\u001b[43m,\u001b[49m\u001b[43m \u001b[49m\u001b[43mvectorizer\u001b[49m\u001b[43m)\u001b[49m, kwargs)\n\u001b[1;32m     95\u001b[0m     \u001b[38;5;28;01mreturn\u001b[39;00m pyLDAvis\u001b[38;5;241m.\u001b[39mprepare(\u001b[38;5;241m*\u001b[39m\u001b[38;5;241m*\u001b[39mopts)\n",
      "File \u001b[0;32m/opt/homebrew/anaconda3/lib/python3.9/site-packages/pyLDAvis/lda_model.py:45\u001b[0m, in \u001b[0;36m_extract_data\u001b[0;34m(lda_model, dtm, vectorizer)\u001b[0m\n\u001b[1;32m     41\u001b[0m topic_term_dists \u001b[38;5;241m=\u001b[39m _get_topic_term_dists(lda_model)\n\u001b[1;32m     42\u001b[0m err_msg \u001b[38;5;241m=\u001b[39m (\u001b[38;5;124m'\u001b[39m\u001b[38;5;124mTopic-term distributions and document-term matrix\u001b[39m\u001b[38;5;124m'\u001b[39m\n\u001b[1;32m     43\u001b[0m            \u001b[38;5;124m'\u001b[39m\u001b[38;5;124mhave different number of columns, \u001b[39m\u001b[38;5;132;01m{}\u001b[39;00m\u001b[38;5;124m != \u001b[39m\u001b[38;5;132;01m{}\u001b[39;00m\u001b[38;5;124m.\u001b[39m\u001b[38;5;124m'\u001b[39m)\n\u001b[0;32m---> 45\u001b[0m \u001b[38;5;28;01massert\u001b[39;00m term_freqs\u001b[38;5;241m.\u001b[39mshape[\u001b[38;5;241m0\u001b[39m] \u001b[38;5;241m==\u001b[39m \u001b[38;5;28mlen\u001b[39m(vocab), \\\n\u001b[1;32m     46\u001b[0m     (\u001b[38;5;124m'\u001b[39m\u001b[38;5;124mTerm frequencies and vocabulary are of different sizes, \u001b[39m\u001b[38;5;132;01m{}\u001b[39;00m\u001b[38;5;124m != \u001b[39m\u001b[38;5;132;01m{}\u001b[39;00m\u001b[38;5;124m.\u001b[39m\u001b[38;5;124m'\u001b[39m\n\u001b[1;32m     47\u001b[0m      \u001b[38;5;241m.\u001b[39mformat(term_freqs\u001b[38;5;241m.\u001b[39mshape[\u001b[38;5;241m0\u001b[39m], \u001b[38;5;28mlen\u001b[39m(vocab)))\n\u001b[1;32m     49\u001b[0m \u001b[38;5;28;01massert\u001b[39;00m topic_term_dists\u001b[38;5;241m.\u001b[39mshape[\u001b[38;5;241m1\u001b[39m] \u001b[38;5;241m==\u001b[39m dtm\u001b[38;5;241m.\u001b[39mshape[\u001b[38;5;241m1\u001b[39m], \\\n\u001b[1;32m     50\u001b[0m     (err_msg\u001b[38;5;241m.\u001b[39mformat(topic_term_dists\u001b[38;5;241m.\u001b[39mshape[\u001b[38;5;241m1\u001b[39m], \u001b[38;5;28mlen\u001b[39m(vocab)))\n\u001b[1;32m     52\u001b[0m \u001b[38;5;66;03m# column dimensions of document-term matrix and topic-term distributions\u001b[39;00m\n\u001b[1;32m     53\u001b[0m \u001b[38;5;66;03m# must match first before transforming to document-topic distributions\u001b[39;00m\n",
      "\u001b[0;31mAssertionError\u001b[0m: Term frequencies and vocabulary are of different sizes, 40236 != 11760."
     ]
    }
   ],
   "source": [
    "panel_high = pyLDAvis.lda_model.prepare(lda_high, high, vectorizer, mds='tsne')\n",
    "pyLDAvis.display(panel_high)"
   ]
  },
  {
   "cell_type": "code",
   "execution_count": 39,
   "metadata": {},
   "outputs": [
    {
     "name": "stderr",
     "output_type": "stream",
     "text": [
      "/opt/homebrew/anaconda3/lib/python3.9/site-packages/pandas/core/computation/expressions.py:21: UserWarning: Pandas requires version '2.8.4' or newer of 'numexpr' (version '2.8.1' currently installed).\n",
      "  from pandas.core.computation.check import NUMEXPR_INSTALLED\n",
      "/opt/homebrew/anaconda3/lib/python3.9/site-packages/pandas/core/computation/expressions.py:21: UserWarning: Pandas requires version '2.8.4' or newer of 'numexpr' (version '2.8.1' currently installed).\n",
      "  from pandas.core.computation.check import NUMEXPR_INSTALLED\n",
      "/opt/homebrew/anaconda3/lib/python3.9/site-packages/pandas/core/computation/expressions.py:21: UserWarning: Pandas requires version '2.8.4' or newer of 'numexpr' (version '2.8.1' currently installed).\n",
      "  from pandas.core.computation.check import NUMEXPR_INSTALLED\n",
      "/opt/homebrew/anaconda3/lib/python3.9/site-packages/pandas/core/computation/expressions.py:21: UserWarning: Pandas requires version '2.8.4' or newer of 'numexpr' (version '2.8.1' currently installed).\n",
      "  from pandas.core.computation.check import NUMEXPR_INSTALLED\n",
      "/opt/homebrew/anaconda3/lib/python3.9/site-packages/pandas/core/computation/expressions.py:21: UserWarning: Pandas requires version '2.8.4' or newer of 'numexpr' (version '2.8.1' currently installed).\n",
      "  from pandas.core.computation.check import NUMEXPR_INSTALLED\n",
      "/opt/homebrew/anaconda3/lib/python3.9/site-packages/pandas/core/arrays/masked.py:60: UserWarning: Pandas requires version '1.3.6' or newer of 'bottleneck' (version '1.3.4' currently installed).\n",
      "  from pandas.core import (\n",
      "/opt/homebrew/anaconda3/lib/python3.9/site-packages/pandas/core/arrays/masked.py:60: UserWarning: Pandas requires version '1.3.6' or newer of 'bottleneck' (version '1.3.4' currently installed).\n",
      "  from pandas.core import (\n",
      "/opt/homebrew/anaconda3/lib/python3.9/site-packages/pandas/core/arrays/masked.py:60: UserWarning: Pandas requires version '1.3.6' or newer of 'bottleneck' (version '1.3.4' currently installed).\n",
      "  from pandas.core import (\n",
      "/opt/homebrew/anaconda3/lib/python3.9/site-packages/pandas/core/computation/expressions.py:21: UserWarning: Pandas requires version '2.8.4' or newer of 'numexpr' (version '2.8.1' currently installed).\n",
      "  from pandas.core.computation.check import NUMEXPR_INSTALLED\n",
      "/opt/homebrew/anaconda3/lib/python3.9/site-packages/pandas/core/arrays/masked.py:60: UserWarning: Pandas requires version '1.3.6' or newer of 'bottleneck' (version '1.3.4' currently installed).\n",
      "  from pandas.core import (\n",
      "/opt/homebrew/anaconda3/lib/python3.9/site-packages/pandas/core/computation/expressions.py:21: UserWarning: Pandas requires version '2.8.4' or newer of 'numexpr' (version '2.8.1' currently installed).\n",
      "  from pandas.core.computation.check import NUMEXPR_INSTALLED\n",
      "/opt/homebrew/anaconda3/lib/python3.9/site-packages/pandas/core/arrays/masked.py:60: UserWarning: Pandas requires version '1.3.6' or newer of 'bottleneck' (version '1.3.4' currently installed).\n",
      "  from pandas.core import (\n",
      "/opt/homebrew/anaconda3/lib/python3.9/site-packages/pandas/core/computation/expressions.py:21: UserWarning: Pandas requires version '2.8.4' or newer of 'numexpr' (version '2.8.1' currently installed).\n",
      "  from pandas.core.computation.check import NUMEXPR_INSTALLED\n",
      "/opt/homebrew/anaconda3/lib/python3.9/site-packages/pandas/core/arrays/masked.py:60: UserWarning: Pandas requires version '1.3.6' or newer of 'bottleneck' (version '1.3.4' currently installed).\n",
      "  from pandas.core import (\n",
      "/opt/homebrew/anaconda3/lib/python3.9/site-packages/pandas/core/arrays/masked.py:60: UserWarning: Pandas requires version '1.3.6' or newer of 'bottleneck' (version '1.3.4' currently installed).\n",
      "  from pandas.core import (\n",
      "/opt/homebrew/anaconda3/lib/python3.9/site-packages/pandas/core/arrays/masked.py:60: UserWarning: Pandas requires version '1.3.6' or newer of 'bottleneck' (version '1.3.4' currently installed).\n",
      "  from pandas.core import (\n"
     ]
    },
    {
     "data": {
      "text/html": [
       "\n",
       "<link rel=\"stylesheet\" type=\"text/css\" href=\"https://cdn.jsdelivr.net/gh/bmabey/pyLDAvis@3.4.0/pyLDAvis/js/ldavis.v1.0.0.css\">\n",
       "\n",
       "\n",
       "<div id=\"ldavis_el6550961966261441047736459\" style=\"background-color:white;\"></div>\n",
       "<script type=\"text/javascript\">\n",
       "\n",
       "var ldavis_el6550961966261441047736459_data = {\"mdsDat\": {\"x\": [-7.26446533203125, -16.58208465576172, 20.812538146972656, -35.10981369018555, -45.247859954833984, 27.456218719482422, -0.3667813539505005, -28.379663467407227, 9.070245742797852, 37.750518798828125], \"y\": [-29.621675491333008, 0.6996666789054871, -31.973684310913086, -25.297283172607422, 4.244246482849121, 23.882976531982422, 27.900165557861328, 30.547880172729492, -2.3147215843200684, -5.634824275970459], \"topics\": [1, 2, 3, 4, 5, 6, 7, 8, 9, 10], \"cluster\": [1, 1, 1, 1, 1, 1, 1, 1, 1, 1], \"Freq\": [21.596345459382114, 19.764307917701522, 17.68268468600491, 8.242357916330029, 7.70736112878759, 6.5891080848311425, 6.246446849378568, 4.356788670368252, 3.9873660686360557, 3.827233218579815]}, \"tinfo\": {\"Term\": [\"work\", \"small\", \"quality\", \"poor\", \"waste\", \"money\", \"expected\", \"broke\", \"broken\", \"color\", \"bead\", \"fit\", \"picture\", \"machine\", \"junk\", \"cut\", \"cheaply\", \"yarn\", \"tiny\", \"arrived\", \"bobbin\", \"dried\", \"bad\", \"received\", \"ink\", \"scissors\", \"worth\", \"blade\", \"size\", \"made\", \"wind\", \"rug\", \"winding\", \"palette\", \"speed\", \"grommet\", \"omg\", \"program\", \"thats\", \"hinge\", \"tension\", \"ridiculously\", \"follow\", \"play\", \"net\", \"wouldnt\", \"patch\", \"serger\", \"noise\", \"duplicate\", \"fragile\", \"moving\", \"pan\", \"brighter\", \"trace\", \"brake\", \"watched\", \"inserted\", \"gear\", \"rubbish\", \"easier\", \"pop\", \"threading\", \"help\", \"cross\", \"winder\", \"sent\", \"canvas\", \"brother\", \"beware\", \"included\", \"machine\", \"buyer\", \"difficult\", \"back\", \"paint\", \"bobbin\", \"returned\", \"instruction\", \"missing\", \"thread\", \"great\", \"get\", \"needle\", \"review\", \"one\", \"pattern\", \"job\", \"would\", \"fine\", \"make\", \"something\", \"use\", \"tried\", \"product\", \"top\", \"like\", \"work\", \"even\", \"time\", \"could\", \"well\", \"better\", \"bought\", \"thing\", \"item\", \"used\", \"money\", \"really\", \"disappointed\", \"color\", \"buy\", \"sharpener\", \"cm\", \"inconsistent\", \"ie\", \"oz\", \"ref\", \"link\", \"utf8\", \"cast\", \"dp\", \"glossy\", \"cold\", \"duty\", \"cr\", \"scent\", \"nbsp\", \"sharpen\", \"linked\", \"arp\", \"href\", \"rvw\", \"txt\", \"master\", \"beeswax\", \"copper\", \"bunched\", \"matte\", \"stripe\", \"copic\", \"firm\", \"stained\", \"coloring\", \"tearing\", \"fell\", \"book\", \"pencil\", \"2nd\", \"bristle\", \"brush\", \"pin\", \"throw\", \"snapped\", \"chalk\", \"apart\", \"clay\", \"blend\", \"colored\", \"hot\", \"point\", \"cheap\", \"water\", \"unable\", \"away\", \"using\", \"tip\", \"heavy\", \"week\", \"use\", \"cord\", \"could\", \"last\", \"used\", \"time\", \"one\", \"get\", \"quality\", \"even\", \"would\", \"paint\", \"product\", \"buy\", \"tried\", \"paper\", \"good\", \"first\", \"money\", \"color\", \"thread\", \"like\", \"waste\", \"work\", \"needle\", \"yarn\", \"trimmer\", \"olfa\", \"cuttlebug\", \"glow\", \"rotary\", \"tim\", \"gingher\", \"die\", \"cleanly\", \"holtz\", \"dy\", \"cancer\", \"screwed\", \"punching\", \"sizzix\", \"reorder\", \"cardstock\", \"nickel\", \"chipboard\", \"fiskars\", \"healing\", \"spellbinder\", \"weave\", \"action\", \"minimal\", \"measurement\", \"woven\", \"delighted\", \"bow\", \"facepaint\", \"cutter\", \"mat\", \"jar\", \"cutting\", \"cut\", \"blade\", \"punch\", \"circle\", \"rhinestone\", \"ruler\", \"truly\", \"inch\", \"paper\", \"crap\", \"scissors\", \"thin\", \"tape\", \"fabric\", \"good\", \"sharp\", \"break\", \"would\", \"dull\", \"needle\", \"one\", \"product\", \"use\", \"even\", \"money\", \"buy\", \"get\", \"piece\", \"like\", \"time\", \"work\", \"recommend\", \"well\", \"small\", \"quality\", \"really\", \"waste\", \"chain\", \"pale\", \"kleenex\", \"fake\", \"economic\", \"ainda\", \"encomenda\", \"minha\", \"recebi\", \"pink\", \"stazon\", \"brown\", \"stolen\", \"ruby\", \"bronze\", \"notreceive\", \"drab\", \"rainbow\", \"925\", \"lavender\", \"maroon\", \"foiling\", \"tarnished\", \"skiens\", \"brassy\", \"represented\", \"dice\", \"hemp\", \"sucked\", \"milky\", \"advertising\", \"green\", \"false\", \"variety\", \"white\", \"picture\", \"shown\", \"bead\", \"gold\", \"blue\", \"style\", \"sharpie\", \"bright\", \"color\", \"ok\", \"pictured\", \"show\", \"black\", \"look\", \"received\", \"red\", \"ugly\", \"dark\", \"purple\", \"ordered\", \"like\", \"orange\", \"misleading\", \"disappointed\", \"looking\", \"nothing\", \"different\", \"wrong\", \"glass\", \"product\", \"cheap\", \"one\", \"really\", \"got\", \"item\", \"size\", \"buy\", \"244\", \"yardage\", \"pfaff\", \"364\", \"crimp\", \"cordless\", \"ash\", \"effectively\", \"practicing\", \"spacers\", \"se400\", \"perforated\", \"teeny\", \"wont\", \"consisted\", \"periodically\", \"correspond\", \"differant\", \"totaly\", \"apologized\", \"peg\", \"crewel\", \"marbling\", \"falsely\", \"embroidering\", \"spindle\", \"bias\", \"static\", \"hardware\", \"grossly\", \"overpriced\", \"tiny\", \"yard\", \"small\", \"loom\", \"spray\", \"sized\", \"fit\", \"ring\", \"jump\", \"bobbin\", \"worth\", \"ribbon\", \"yarn\", \"dirty\", \"skein\", \"bigger\", \"machine\", \"description\", \"size\", \"christmas\", \"paid\", \"hole\", \"terrible\", \"money\", \"thread\", \"work\", \"big\", \"way\", \"return\", \"would\", \"bead\", \"use\", \"one\", \"waste\", \"stay\", \"get\", \"enough\", \"well\", \"product\", \"mesh\", \"pom\", \"cheaply\", \"arrival\", \"packet\", \"ugh\", \"finely\", \"beige\", \"weeding\", \"gun\", \"improvise\", \"damaged\", \"leaked\", \"grain\", \"shed\", \"pmps\", \"deco\", \"beadsmith\", \"mug\", \"cushioned\", \"damaging\", \"incomplete\", \"decorate\", \"trigger\", \"powdery\", \"moda\", \"harsh\", \"sash\", \"21\", \"halfway\", \"scratchy\", \"expected\", \"broken\", \"dried\", \"bulky\", \"arrived\", \"empty\", \"delivered\", \"zipper\", \"strand\", \"rubber\", \"made\", \"horrible\", \"glue\", \"came\", \"flimsy\", \"tied\", \"hook\", \"pen\", \"bent\", \"knot\", \"followed\", \"product\", \"stick\", \"use\", \"disappointed\", \"one\", \"cheap\", \"like\", \"got\", \"plastic\", \"item\", \"color\", \"used\", \"work\", \"received\", \"even\", \"time\", \"waste\", \"watery\", \"unraveled\", \"plural\", \"continually\", \"wobbly\", \"ripper\", \"curl\", \"binder\", \"pool\", \"separting\", \"shuttle\", \"pliable\", \"dont\", \"stud\", \"bra\", \"ding\", \"filler\", \"webcaster\", \"carve\", \"crafted\", \"chipped\", \"wast\", \"splinter\", \"mud\", \"subpar\", \"sugru\", \"syicking\", \"chunky\", \"overcharged\", \"backwards\", \"transfer\", \"leaking\", \"coated\", \"broke\", \"wash\", \"stiff\", \"messy\", \"useless\", \"ink\", \"ugly\", \"dry\", \"described\", \"hard\", \"leather\", \"hook\", \"immediately\", \"love\", \"happy\", \"yarn\", \"used\", \"use\", \"first\", \"waste\", \"apart\", \"time\", \"money\", \"color\", \"work\", \"bought\", \"buy\", \"product\", \"well\", \"get\", \"paper\", \"cheap\", \"disappointed\", \"like\", \"one\", \"unlucky\", \"overlay\", \"compressor\", \"ceap7\", \"hose\", \"bomb\", \"weaving\", \"toothpick\", \"age\", \"artex\", \"expel\", \"introduce\", \"pastime\", \"smelling\", \"confusing\", \"lane\", \"leakage\", \"advertized\", \"arriving\", \"flammable\", \"slow\", \"bath\", \"golf\", \"mildew\", \"heal\", \"blank\", \"screne\", \"released\", \"di\", \"latch\", \"tarnish\", \"bothered\", \"rock\", \"priced\", \"poor\", \"terribly\", \"include\", \"ship\", \"tin\", \"junk\", \"sakura\", \"quality\", \"work\", \"jumbo\", \"smell\", \"bad\", \"hate\", \"child\", \"awful\", \"grey\", \"incredibly\", \"felting\", \"chinese\", \"already\", \"hard\", \"good\", \"expensive\", \"disappointed\", \"well\", \"really\", \"product\", \"small\", \"buy\", \"easily\", \"way\", \"get\", \"great\", \"ripoff\", \"thimble\", \"cheep\", \"4x\", \"3x\", \"zebra\", \"34\", \"ya\", \"explore\", \"complicated\", \"220\", \"thermoweb\", \"sue\", \"outfit\", \"solder\", \"noir\", \"gouch\", \"joannes\", \"spectrum\", \"maintains\", \"smarter\", \"disappears\", \"rack\", \"uniball\", \"bough\", \"uncomfortable\", \"itchy\", \"resort\", \"location\", \"dinky\", \"doesnt\", \"pleased\", \"sparkle\", \"cricut\", \"worthy\", \"ridiculous\", \"joint\", \"elsewhere\", \"garbage\", \"thick\", \"perfect\", \"worthless\", \"normal\", \"dress\", \"cost\", \"cheaper\", \"exact\", \"buy\", \"order\", \"yard\", \"expecting\", \"price\", \"three\", \"yarn\", \"item\", \"skein\", \"direction\", \"spool\", \"work\", \"pay\", \"returned\", \"much\", \"didnt\", \"accurately\", \"lobster\", \"imprint\", \"complex\", \"amt\", \"border\", \"coral\", \"jerrysartarama\", \"coarser\", \"mandrel\", \"skewer\", \"unpleasant\", \"saver\", \"cuticle\", \"pounder\", \"perforate\", \"oracle\", \"cove\", \"dewent\", \"rereceived\", \"scrubber\", \"topaz\", \"mouth\", \"deposed\", \"nigerian\", \"prince\", \"grandson\", \"returnable\", \"existing\", \"awkward\", \"panel\", \"cameo\", \"meet\", \"softer\", \"print\", \"cupcake\", \"waste\", \"total\", \"expectation\", \"money\", \"letter\", \"scissors\", \"stamping\", \"measuring\", \"wrong\", \"frame\", \"fit\", \"sturdy\", \"yarn\", \"super\", \"size\", \"work\", \"vinyl\", \"well\", \"back\", \"made\", \"way\", \"use\", \"like\", \"product\", \"color\"], \"Freq\": [184.0, 129.0, 119.0, 64.0, 114.0, 142.0, 53.0, 70.0, 50.0, 122.0, 73.0, 65.0, 59.0, 99.0, 44.0, 112.0, 27.0, 106.0, 44.0, 50.0, 44.0, 35.0, 61.0, 76.0, 44.0, 31.0, 64.0, 64.0, 81.0, 84.0, 11.812666780442438, 4.3778284120192925, 4.829245296146182, 6.081431205503239, 3.9225028141321188, 3.3152061285603285, 3.163482847054559, 3.8297938137054346, 4.747745443236768, 3.0135434533735665, 9.503873064950621, 3.542804968984619, 5.145314485926452, 5.270407002919329, 2.6374340986761173, 2.968489051304049, 5.7193113032075305, 3.7198810491593677, 3.1010414161049815, 2.1899935472823278, 6.700626923385891, 3.418222918345284, 3.525257603903144, 2.1979196268494148, 2.8364292125382455, 2.0081426369694015, 4.67069442716432, 1.9562098257820948, 3.782313556620283, 1.9393960179495109, 10.085964383410879, 5.824980881377116, 6.249501261276857, 15.180902279726661, 4.361903509539736, 5.792196807674926, 28.726033408224975, 14.524135992433358, 14.912576219020744, 10.605422804517966, 7.866607116121887, 47.15303937700316, 9.827208634753362, 18.20712232566139, 43.14668495870524, 33.556862965767216, 22.8625475897057, 33.30650550719991, 15.336797168537291, 15.644070361198903, 37.89686779291567, 28.021960365498497, 51.41649100410332, 36.61037274807899, 23.572720775576453, 51.2862081254036, 12.025810841611301, 9.639973713363089, 45.69679824857053, 18.271491177583012, 27.949784183667198, 19.63932882876224, 48.24012118324509, 25.859853771005994, 41.08184681753112, 15.044978537895206, 40.35237811849945, 44.342787660748485, 33.81204535785326, 33.56210529761068, 24.377025403695235, 24.782991241631077, 22.00496425534814, 23.37266869574098, 20.610641825606912, 22.165105119854193, 23.36410064129759, 24.679736061718295, 22.01591301324448, 22.68830637225184, 23.005780943048098, 22.89058977750963, 6.659233074092065, 4.390739686655566, 5.633932241174949, 3.895199270126454, 10.902205948898532, 3.784804909056267, 7.188809678101852, 3.6274984414893594, 5.040731788618327, 3.525864516510837, 3.5106280262297718, 3.4678342806011035, 4.446819031688547, 3.375034623338864, 3.165720045657786, 3.123454587962557, 6.535924226672442, 3.082201233831965, 3.0271762454896436, 3.0271762454896436, 3.0271762454896436, 3.0271762454896436, 2.9565843085532366, 3.5557481850289525, 3.7775940276480418, 2.7434424432631395, 3.229430172600021, 2.995941851308056, 2.4667828974884523, 3.029548407043061, 3.4268097185445274, 6.7948759365573075, 3.7780264019155245, 18.71529329671023, 10.44074304020059, 24.316630902981082, 5.665688798674647, 10.517811144171942, 39.81137352144755, 22.076364024910525, 10.572548578639704, 6.730217456291261, 12.422753040148345, 21.99178391599958, 8.765182884789583, 5.366097756511575, 9.077003317342715, 8.696967601339729, 14.268313449258518, 35.91048342073676, 13.277612723845554, 7.859681906422042, 21.26781187146504, 25.851381936205325, 19.842618916339962, 9.874227986108554, 13.19106579559931, 47.13303158460058, 9.843304427474504, 23.680385152336786, 13.679888726472402, 28.032834147759427, 30.31069791893327, 37.30010135728917, 33.932830643545515, 29.501100881218793, 29.43570046937391, 34.02738801307189, 21.67448638988407, 31.74190740434948, 26.695560877933627, 20.24147821240431, 23.68734394199628, 23.771322733208073, 19.5856064548059, 25.481343361343093, 23.730066105446834, 21.466722458621263, 25.563718962535873, 22.22315701284517, 24.997141326363693, 20.965362337089044, 20.5230011648562, 6.448228733718053, 6.82340752389027, 5.447959114017543, 15.489914717194601, 9.031616807709096, 3.629578482600725, 3.331218841033105, 19.626714800885576, 4.13594042233577, 2.998202281371147, 13.535972010024846, 2.732630430163619, 2.6990440940845764, 2.5806043701815136, 4.294054070857897, 3.757173932528943, 10.4898399764409, 2.3856281077974417, 2.695356750347609, 9.319186964333914, 2.8088321057648042, 4.235485321685243, 2.1105834756683137, 2.550201653799124, 2.0087012072155197, 4.700746756519174, 2.094638303398986, 1.8937803908938364, 2.174868130497411, 1.8306473499870863, 18.590363256168757, 20.96633957428817, 6.267978662035516, 24.415812960894367, 75.39901894276595, 43.826627014860186, 27.937955768088937, 9.826299788009944, 6.260638027160092, 11.923143806347188, 5.56686131042043, 15.393975272019153, 47.46306111703298, 14.716958795057606, 16.251348836989866, 27.74962870118919, 15.986232429137402, 30.137019950108517, 40.03588164155919, 14.019473604744825, 22.06877936487463, 43.55072690670895, 16.415951834090738, 29.480417825750788, 40.54319475353516, 33.981739613985745, 36.626572282833166, 28.07330136818888, 29.86582152051404, 27.034346028246997, 29.255476370603233, 21.32892819349103, 28.621802642556293, 24.58630411464514, 27.565571800180596, 18.289928006132353, 19.942863979708044, 20.50446183715937, 19.941770542174783, 18.509250912123075, 18.891508864994364, 10.077074619646977, 3.9804164524523804, 2.3548029207703225, 8.074181947142979, 2.047970048417394, 1.9137583476882862, 1.9137583476882862, 1.9137583476882862, 1.9137583476882862, 14.032084699710099, 1.8519128084592524, 7.447515661977592, 1.818717553458733, 1.5104223108241697, 1.4584087234466587, 1.4153169719736673, 1.6425558082146072, 1.6911672956221373, 1.3218569519568721, 1.4474205124117399, 1.3005265669636634, 1.3091164081261453, 3.441387599663874, 1.2795932781094563, 1.271699397160063, 1.4674510758665342, 1.2337017340010052, 1.4616371627857163, 1.7501976561429173, 1.2914023174301654, 3.821221971483465, 11.221418138969284, 4.734251707192057, 4.327539630882764, 18.477595687113084, 29.28716662288481, 10.262169377913672, 34.70634830025447, 8.611454684467096, 10.5642543462965, 4.141533098777571, 3.554257985435248, 6.367797039109565, 41.86759096678406, 12.184601133009458, 8.879049777350389, 11.024455199107349, 11.85618044281336, 22.275377929188256, 22.98598810730608, 11.31873690894907, 8.186895160036906, 8.49798879414002, 4.8847635311187, 16.368688989444816, 31.033491754571813, 5.564120384474469, 6.352433453804161, 17.308403729981226, 10.02748609329956, 10.673943419532746, 10.91885040207531, 10.169455954917925, 7.24483602421649, 13.276518041260145, 10.62881197217998, 11.270068722669908, 10.185912889025914, 9.888430596115077, 9.423048751606244, 9.18958439563421, 8.994272462813743, 5.913175240052858, 3.659513053608244, 2.983497489040327, 7.333180154929116, 4.821424469003722, 2.254278604341546, 1.7267127164320435, 1.6573088490870027, 2.0253860455799497, 1.8774667161902707, 1.6239408619318896, 1.4310792053930022, 3.686797735347137, 1.6931212720233189, 1.3856352093353523, 1.3856352093353523, 1.3823939749134577, 1.3823939749134577, 1.3823939749134577, 1.336636064299086, 6.193596223821775, 1.5725028766422042, 1.2386028814521044, 1.4479151937687758, 1.6123455357139438, 2.0043610164727745, 2.50084352796551, 1.1228826442698494, 2.1228099003630456, 1.3212051274127672, 6.751082697098264, 23.872539258755243, 13.884696857242707, 61.95657054064686, 4.43910641312661, 6.299972586267609, 4.67320976725068, 27.537745776893082, 12.453004102549828, 3.862484677849374, 16.772859233590907, 22.135652207547036, 5.650742271399571, 25.549627336132108, 4.146039915592948, 12.601060510853648, 6.524073027316514, 21.606952454469948, 11.039872146824967, 17.468783067908294, 5.0716624172241005, 8.24535182601686, 9.542330229288934, 11.190406469674034, 19.702353297245526, 13.241047461707826, 17.94419388416427, 8.80181872776949, 11.191478394395565, 9.800612509125262, 12.674601191329403, 9.648006540809773, 12.173697283242348, 11.370855339474135, 10.247059945242432, 7.929252945970764, 9.292477327114016, 7.629357446869528, 7.987442164570681, 7.938686689898026, 3.746480414781087, 4.919874208862798, 20.679965968800975, 3.34103596296665, 1.8051132090860307, 4.493134271213762, 1.311159766269166, 1.5463056716841055, 1.5273323107678012, 7.543476975296961, 1.2117065295646285, 13.261536142482816, 5.233245197557822, 1.866319115295257, 3.431593836195112, 1.101017014793837, 1.3584759333666079, 1.4573651634530556, 1.0675745122828455, 1.035635046636005, 0.9919411434041633, 1.393488120276987, 1.1290945268673882, 1.1978414256962298, 1.0194132196376215, 0.9231573705476401, 0.9201770615703644, 0.9192557886197618, 2.535219163082661, 1.8899352999252668, 4.316457223933502, 29.066174788149297, 26.081760249015773, 16.88485798708214, 3.5428767387297535, 22.603434042815497, 5.0846136378008415, 2.8209860014070953, 4.035375109310281, 4.5536515961046815, 4.670294461708571, 19.989315501564544, 12.393350048327443, 12.537485675138864, 13.843937642662219, 8.874247750923415, 2.8395386683522545, 10.323776846464217, 9.702351147697296, 5.801116444762685, 4.335887982291057, 4.53638326896406, 13.152526967322315, 7.817102512729455, 12.352362198468095, 9.781428290868934, 10.997626146314783, 8.773567575286881, 10.189118817898454, 7.711723155938822, 7.5276726003669445, 7.411662417964375, 8.028222449120248, 7.482005779880777, 7.753724518061977, 6.676049189528646, 6.9852305528820455, 6.870166564333509, 6.685478075323497, 4.271193597854751, 3.034978965932738, 2.206542929666826, 2.607553045814665, 3.135811223982231, 4.098719076957048, 2.428402287550143, 3.0418257839284384, 1.4724531119742474, 1.424753484110925, 1.375066515314621, 2.2289228979934927, 8.369242055656164, 1.4816798577310202, 1.2431391764535416, 1.6477291189294139, 1.35792264273812, 1.1800145134074365, 1.1765706256648296, 1.1682969621789716, 4.5416468357183035, 2.5092703996258203, 2.41666096816872, 1.4734749776295215, 1.6432566923777254, 0.9751049569234597, 0.9444739991790352, 2.016967634119745, 0.9376288777216415, 2.068824061980222, 7.811730042962378, 2.7092273777157776, 2.3167765450315536, 27.557578456381187, 6.150846801925061, 7.011675372612973, 4.388569950916365, 15.147267325742423, 11.824009119865915, 6.184586536797356, 9.10747923340396, 6.0665214244965044, 13.113827148529289, 5.1137177620670835, 9.473192962768147, 5.315731502144519, 7.883683014811315, 8.287448596126534, 12.770768161141449, 12.209764257780108, 16.029898931090763, 9.728347159113328, 10.957552930444084, 7.121193181502275, 10.743495676106857, 11.14300429727306, 10.509792044225174, 11.873729885571555, 8.788855945991283, 8.853631230100547, 8.931506767573346, 7.762388032136435, 8.175297472389316, 7.621496912001681, 7.428435243874241, 7.445657742581159, 7.357358202141271, 7.405619701465368, 1.9139690318961393, 2.6389021572400226, 1.8914671854207803, 1.4514536731271932, 1.449863185891522, 1.8370569276676314, 2.3117347337470284, 1.445695870125667, 2.052204674490909, 1.1047231707521592, 1.1047231707521592, 1.1047231707521592, 1.1047231707521592, 1.345315905438673, 2.2802979640302152, 1.0654747227296142, 1.2618416584724599, 1.0303333919333857, 1.013493064068165, 1.3474172310117842, 4.4563880783963965, 1.9385396164449944, 0.9710860210240233, 0.9512348852648501, 0.9484537841045085, 2.3233699784522845, 0.943409611930229, 1.6449650308256587, 0.9379951187289511, 3.0332528502190943, 3.6707268839985, 1.5541478179310448, 2.5682174436684244, 10.657257560573305, 29.50622586023369, 3.522720667738905, 2.6801716636768838, 6.2558271158472225, 2.8249124767716896, 14.581199776014396, 1.5856693722858517, 29.921978013334705, 35.41501891200625, 1.8737024041122505, 5.7060036899472095, 10.569106694470202, 5.478716088229204, 4.748317245873335, 5.921638284105056, 3.0520429934373743, 2.2956029674706424, 1.9362837715344083, 2.395300494890096, 3.9301716496694166, 5.052740620910952, 5.609988124949057, 3.5867341946469193, 5.033500931002559, 4.391754658181915, 4.161689994565213, 4.486618432137891, 4.2965978533848475, 4.1411143449248025, 3.5405442458450116, 3.7434173951110608, 3.2676806423528793, 3.0823836169759806, 7.761794009734603, 3.5714515267794784, 3.4566591902910537, 2.8259740782423153, 2.440776253625548, 2.1585798562530645, 1.9401929022276445, 1.6183028879856869, 2.9543165544517156, 2.0010320391229244, 1.257684501151101, 1.2161795239351008, 1.165691215476127, 1.3413838683132966, 1.0950706818791107, 1.0413882140619453, 0.9753819371869245, 0.95008145948927, 1.0289677951994778, 0.8970875513511188, 0.8970875513511188, 1.4943265923846647, 1.072597601674109, 0.8587800820474824, 0.8530202932816432, 5.13688632199129, 1.036501071197247, 0.9565994081309869, 1.077695671183181, 0.8008279098421521, 6.373218913532475, 5.689219444731016, 2.1143802979617536, 6.056149653814341, 1.5010063600502586, 3.9768335664924663, 1.2644788847752493, 2.826184891738212, 5.339440837374667, 5.178855042479124, 3.9201330765884728, 3.9533710501614125, 3.381711460822143, 1.7180472967352187, 4.220406405556042, 3.086422979899225, 2.303321128873764, 7.529640535583528, 5.276466730885169, 3.662268761508254, 3.350319042002058, 4.772802173151242, 3.4423943455711097, 5.095667459783015, 4.3086020766685795, 3.6509671708058185, 3.018626902650105, 2.92654811908541, 3.8379252259442365, 3.126637224234856, 3.038386423126924, 3.029134520988129, 6.241128977384904, 2.64928251203399, 1.861348702876797, 2.03464938566484, 2.5289436145735706, 1.6812520117920922, 1.4893878022230456, 1.3626827499993182, 1.3306793801781818, 1.1938020917640866, 1.3831029104436328, 1.1268069700283723, 2.457756732432362, 4.343129057519589, 1.1673148764637185, 1.0017188561486974, 0.9987070949518366, 1.2419817008967304, 0.9181948576498986, 0.8897584202244593, 0.8897584202244593, 0.886198986347073, 0.8760502721672265, 0.8725800699634434, 0.8715764249128841, 0.8715764249128841, 0.8715764249128841, 1.2323129175985028, 1.8827207656265947, 0.9791642181494702, 2.8938798672430863, 2.630317728939778, 3.217246693158485, 3.454133284236863, 1.185260081903918, 4.401691673971959, 1.335041551899372, 21.388483514363973, 6.5513832628084305, 2.8260371453090536, 17.361546015736522, 3.497887127458062, 5.864124475841503, 2.041488832512127, 1.6390539732392166, 4.0653592724838346, 1.8393335380815148, 4.633230812441042, 2.2848470205185176, 5.270910794022957, 3.2291319480317964, 4.523260642028635, 5.529115912961569, 2.5783605585130736, 3.518752874082102, 3.405850344907675, 3.010814984987552, 2.8875402277209057, 3.0584091442500156, 2.980737881472221, 2.6719743635026103, 2.601926938531336], \"Total\": [184.0, 129.0, 119.0, 64.0, 114.0, 142.0, 53.0, 70.0, 50.0, 122.0, 73.0, 65.0, 59.0, 99.0, 44.0, 112.0, 27.0, 106.0, 44.0, 50.0, 44.0, 35.0, 61.0, 76.0, 44.0, 31.0, 64.0, 64.0, 81.0, 84.0, 12.899829026408254, 5.032387634610292, 5.5811959320804805, 7.040732669643491, 4.688809544745532, 3.9969984940897976, 3.817057527706099, 4.622361474425143, 5.777736881542247, 3.667385276691101, 11.569395174664793, 4.323116993801567, 6.3823257087718, 6.574756409292242, 3.290975793672223, 3.7506191108904128, 7.36543592904307, 4.800489589672738, 4.005199909011804, 2.8443896111225873, 8.7052138025107, 4.444651384627364, 4.59518046115901, 2.8668816239418913, 3.7443925350651677, 2.661692747166003, 6.200531689998019, 2.6097750306411434, 5.0533627614956105, 2.5929385022770273, 13.550487802686227, 7.841628324197902, 8.422578757792424, 21.72034257773686, 5.864778804422141, 7.928772120419956, 45.12215639084808, 22.0112641556467, 23.88704339912409, 16.571793773302343, 11.812267540940253, 99.59342243353973, 15.519672148571736, 32.64118968442968, 94.22059631014501, 71.7488419217782, 44.73019005471565, 72.65052667601309, 27.782962331534733, 28.643768137377634, 93.00677917926865, 64.69550840720552, 150.27609130370354, 104.40502502110448, 55.847082292696626, 176.0583440163241, 21.916611132883563, 15.888087854201924, 157.07994917736548, 40.905130380145245, 77.99000564674743, 46.11146255312531, 189.01475547114566, 72.76903772865849, 158.85217790971745, 31.064037149505133, 157.2950935850991, 184.3491899876771, 119.80053958872827, 119.31851140077396, 72.09312887026049, 90.78390067682552, 69.32709805964271, 86.73373362291454, 60.58867178545398, 78.84244803185744, 101.62378474588789, 142.5725753513128, 86.88600373070666, 105.0440986331936, 122.71266407741751, 119.75800724542077, 7.367251768982542, 5.045460792906118, 6.51956642616742, 4.5510981824375545, 12.777259569896335, 4.439521776561838, 8.44182762274924, 4.282215689658715, 5.957940177579747, 4.180582556079279, 4.165344394140217, 4.122540752922875, 5.295853890236902, 4.029800735412602, 3.8204569912864073, 3.778162687914824, 7.923921310753398, 3.7369135809160907, 3.681888389723972, 3.681888389723972, 3.681888389723972, 3.681888389723972, 3.6113017286907327, 4.363994526779739, 4.649070262903178, 3.402508941085852, 4.042652783135504, 3.7906285949864564, 3.121500669311632, 3.8338123502416095, 4.3483157638096825, 8.703939474603839, 4.812934446626765, 25.600627918189815, 14.016891583676454, 34.711606731712955, 7.392149399762193, 14.501999696330758, 69.89719400993717, 36.72867147429998, 15.605626828252902, 9.652689681902599, 20.55306437993681, 42.37456480801559, 13.785823954054672, 7.443921085594212, 14.75781923800175, 14.014227724728865, 27.335587560449415, 98.11779965015737, 25.30282842278246, 12.487050370561109, 51.01379529211285, 67.76055602910965, 48.25029415378296, 17.53781425838042, 27.30944627639178, 189.01475547114566, 17.61589810493143, 72.09312887026049, 30.408319648695553, 101.62378474588789, 119.31851140077396, 176.0583440163241, 150.27609130370354, 119.47103238507691, 119.80053958872827, 157.07994917736548, 71.7488419217782, 158.85217790971745, 119.75800724542077, 72.76903772865849, 106.34369191459483, 111.89232928099356, 70.74525957258396, 142.5725753513128, 122.71266407741751, 93.00677917926865, 157.2950935850991, 114.75167989812904, 184.3491899876771, 104.40502502110448, 106.01506851596181, 7.105239301688965, 7.615288631219103, 6.104931658078572, 17.36043621874821, 10.125592149571796, 4.286578497009433, 3.9896588123189853, 23.77742170418601, 5.0238516716009585, 3.655207212775597, 16.625260049867098, 3.389735041468946, 3.371385677694235, 3.2378109080196764, 5.388002119764069, 4.724012954967964, 13.2366933776101, 3.0430150906420304, 3.4582844011812646, 11.969139275714731, 3.615966317304531, 5.4547073741084215, 2.7675801281909163, 3.3716852964598445, 2.66576160355116, 6.29973637849433, 2.8212517122698713, 2.5508578300631064, 2.930151403909602, 2.4876181325313573, 25.292292776160522, 29.032188775896476, 8.617580205322163, 34.827941460514594, 112.19150373223732, 64.6595402922234, 41.79218214653468, 14.505699236452147, 8.83978200361096, 18.795131737080858, 7.9134133624809735, 27.29579958263288, 106.34369191459483, 25.92574477377618, 31.64212228005106, 63.43383365807408, 32.22210831797521, 75.1610911446945, 111.89232928099356, 28.70628900458841, 54.58569106365653, 157.07994917736548, 37.697352012004245, 104.40502502110448, 176.0583440163241, 158.85217790971745, 189.01475547114566, 119.80053958872827, 142.5725753513128, 119.75800724542077, 150.27609130370354, 73.94820820611199, 157.2950935850991, 119.31851140077396, 184.3491899876771, 59.915171292466056, 90.78390067682552, 129.7630196784059, 119.47103238507691, 86.88600373070666, 114.75167989812904, 11.389037631669822, 4.881386371907944, 3.0182927087247995, 10.430281812096137, 2.711449359704231, 2.5772376598778757, 2.5772376598778757, 2.5772376598778757, 2.5772376598778757, 19.12124017208363, 2.5531275696846216, 10.367049067928566, 2.5661809045599036, 2.173901621562137, 2.1218929303401177, 2.078796284073142, 2.4171211745997607, 2.492907545123089, 1.9853625345250767, 2.1773096581600604, 1.9640356666576435, 1.9790740827824778, 5.211972054751724, 1.9430725926307446, 1.9351845902089595, 2.2380660448365646, 1.8984920744542415, 2.2558014586703288, 2.705652384887381, 2.0153054432722977, 6.129922983599184, 19.03696588989739, 7.833342456363658, 7.173651979542656, 35.08011860269826, 59.87272862558779, 19.056141021242606, 73.94311492594153, 16.290712499828174, 21.32191273255972, 7.271630984491983, 6.118040242516332, 12.312874279757459, 122.71266407741751, 28.324003800621718, 19.25949883009979, 25.852637296693107, 28.933898964044815, 73.44582340528393, 76.83231878251412, 29.993690348405817, 19.368573000414465, 21.08754686321461, 9.589212415396746, 58.177143147827316, 157.2950935850991, 11.761098578215151, 14.77025099063961, 105.0440986331936, 37.28976428628883, 45.68851602474225, 50.53699273090751, 43.004204103420115, 20.849085972418223, 158.85217790971745, 98.11779965015737, 176.0583440163241, 86.88600373070666, 79.50743128028174, 78.84244803185744, 81.40984031107087, 119.75800724542077, 6.5786819847674884, 4.325019683711352, 3.6490197235648574, 9.084093565881169, 6.115558328224608, 2.919800637019892, 2.3922602918981437, 2.3228163648652083, 2.8417581139794255, 2.6876782255874865, 2.3721502209718834, 2.0966243502595328, 5.404180795168518, 2.485232079140838, 2.051138933421522, 2.051138933421522, 2.0478976996157714, 2.0478976996157714, 2.0478976996157714, 2.0021422852163786, 9.294709965253965, 2.4027993241367924, 1.904115866433535, 2.2635217129303813, 2.525278308571509, 3.186575391126119, 3.9805899967944933, 1.7883993040177366, 3.3925493473386417, 2.1205113797061026, 10.975607522899713, 44.64132668158291, 25.32577952261007, 129.7630196784059, 7.853412052161963, 11.775154522859722, 8.424483968411073, 65.16727819493074, 26.660135236060867, 6.843158267600971, 44.73019005471565, 64.99049391733942, 13.019620160537853, 106.01506851596181, 8.680006381528173, 41.11441468717694, 16.323000045588874, 99.59342243353973, 39.18607472748229, 81.40984031107087, 12.192999829331157, 26.968996457245492, 35.39494980743673, 47.09847103722117, 142.5725753513128, 93.00677917926865, 184.3491899876771, 42.08405752765012, 86.69991508334698, 73.72267863688955, 157.07994917736548, 73.94311492594153, 189.01475547114566, 176.0583440163241, 114.75167989812904, 40.25654794154869, 150.27609130370354, 50.179486848098, 90.78390067682552, 158.85217790971745, 4.506383691306056, 6.105059446840715, 27.96045009364791, 4.6396154614795995, 2.551256394052513, 6.465853006923959, 1.9792275706077613, 2.3481270451187006, 2.3202333629059257, 11.494016435502568, 1.8793407157812678, 20.728228852418965, 8.236421180535345, 2.9454877848334307, 5.481489106839427, 1.768669799931174, 2.188384618548055, 2.355282794611978, 1.736636151145905, 1.7039121937966308, 1.659613071551997, 2.3558817050361847, 1.9239772888305622, 2.045660777828802, 1.750397460533866, 1.5911526214216796, 1.5878112501176016, 1.586889975255471, 4.377659631998433, 3.2650025728203054, 7.560580018813727, 53.987334078783555, 50.07808130552884, 35.51197600699383, 6.625449489925292, 50.82369885907384, 10.046743039548778, 5.490273184867919, 9.264337257050668, 10.947147308215044, 11.511506623935093, 84.98560028639875, 46.633597780919274, 52.31295279416692, 60.5888597923803, 35.61129581597589, 6.113464072218566, 47.16597758749029, 45.725820483370306, 21.51675874882165, 12.953167364655906, 14.415727586971242, 158.85217790971745, 53.346877011172744, 189.01475547114566, 105.0440986331936, 176.0583440163241, 98.11779965015737, 157.2950935850991, 79.50743128028174, 73.20454479724246, 78.84244803185744, 122.71266407741751, 101.62378474588789, 184.3491899876771, 76.83231878251412, 119.80053958872827, 119.31851140077396, 114.75167989812904, 4.941362657989429, 3.843412939988269, 2.874225614397629, 3.5137238239820245, 4.422457833125556, 5.867318663839926, 3.490011153776273, 4.383112184289244, 2.1401692562720376, 2.0924300672230247, 2.0427554517298288, 3.341102558162701, 12.554234993946471, 2.245268937011825, 1.9108285074639635, 2.5338779808884, 2.1141290606544767, 1.8476910971300229, 1.8442497014634802, 1.835973549151647, 7.321895726128246, 4.09015177923687, 3.9812590326473325, 2.4292177768553547, 2.721777801243238, 1.6427863809900962, 1.612150585118742, 3.4478491392290884, 1.6053054603468362, 3.5522854170799967, 13.621768411292072, 4.677311440836456, 4.098323237780841, 70.89497876250852, 13.192865406540154, 17.60110618368826, 9.85972586133441, 52.43974783733848, 44.99852303318105, 19.368573000414465, 35.990321640157084, 21.350297199586393, 74.2131934920923, 16.874422290346015, 47.16597758749029, 18.227477922355117, 36.11517527996735, 39.81223060918754, 106.01506851596181, 101.62378474588789, 189.01475547114566, 70.74525957258396, 114.75167989812904, 42.37456480801559, 119.31851140077396, 142.5725753513128, 122.71266407741751, 184.3491899876771, 86.73373362291454, 119.75800724542077, 158.85217790971745, 90.78390067682552, 150.27609130370354, 106.34369191459483, 98.11779965015737, 105.0440986331936, 157.2950935850991, 176.0583440163241, 2.582033958580617, 3.7015459709396876, 2.755842328618929, 2.119422235788994, 2.1179024971943483, 2.708501186452459, 3.4807048972828207, 2.2101536736561758, 3.2866773240499194, 1.7726917277126202, 1.7726917277126202, 1.7726917277126202, 1.7726917277126202, 2.1608831258873775, 3.6948522964493105, 1.7334538803177526, 2.0796768575828097, 1.6983438917703588, 1.6814626647245754, 2.2517840448998077, 7.46775750613378, 3.2495891757468636, 1.6390781886904329, 1.6192387379463105, 1.6175515293332678, 3.967574830746094, 1.6113781711319037, 2.81125181055238, 1.605963677312955, 5.236441447291111, 6.384418268374242, 2.7003785583983118, 4.5798999707417485, 21.074816889642847, 64.26836613536422, 6.68132131747333, 4.9472474794489605, 12.746700872035497, 5.398399163211206, 44.64777337668995, 2.795405134158401, 119.47103238507691, 184.3491899876771, 3.6346130125988125, 19.607633154612415, 61.92609488747205, 23.528327184608386, 19.532690877931632, 29.533310906587545, 9.144702258930442, 5.501864582936265, 3.9269118229483695, 6.720105284872469, 27.626507944081172, 74.2131934920923, 111.89232928099356, 27.042316399824614, 105.0440986331936, 90.78390067682552, 86.88600373070666, 158.85217790971745, 129.7630196784059, 119.75800724542077, 46.49055516012838, 86.69991508334698, 150.27609130370354, 64.69550840720552, 9.043812766302931, 4.239057537122153, 4.1241767366115445, 3.493405273631196, 3.1082609954248146, 2.8260148638468863, 2.6076531746860216, 2.2858777359799953, 4.224566380748358, 2.998256493549557, 1.925114578098336, 1.8836463742897058, 1.8331212944000608, 2.124187144040634, 1.7625047908604818, 1.7089116008452048, 1.6428194094219535, 1.617588936927345, 1.7622292578278218, 1.5645176280380895, 1.5645176280380895, 2.6307419981929736, 1.8975363827041896, 1.526228890715943, 1.520554899377697, 9.218879255791267, 1.8660784168697109, 1.7414570744155882, 1.9744120926563349, 1.4683451852910168, 12.170368570222887, 12.034961075710907, 4.199636557992342, 16.546729748047095, 3.0959914133590547, 11.46226387344912, 2.5068371303677273, 9.11414951472963, 25.64408583421197, 26.67138226309954, 17.27461867254023, 19.94327829367638, 15.318560688074909, 4.408350160963441, 29.000940439840686, 15.385629308857657, 8.292664971217627, 119.75800724542077, 56.13508511960438, 25.32577952261007, 20.64097441062202, 56.810933883880594, 27.834291022434478, 106.01506851596181, 78.84244803185744, 41.11441468717694, 20.200418291896106, 21.479479731768638, 184.3491899876771, 39.659467877684484, 72.65052667601309, 81.9999577570725, 6.91009774922755, 3.318305672086395, 2.5303291900054883, 2.7855104391734744, 3.529440837388207, 2.350134070583827, 2.1583404090444516, 2.0315648089743057, 1.9995625690848775, 1.8626841503673388, 2.167088531358227, 1.7957589441037969, 3.9228421357433714, 7.061887085418052, 1.937299279234002, 1.6706053746289677, 1.6676098669563353, 2.081889748272954, 1.5870769179755104, 1.558640480273818, 1.558640480273818, 1.5551115913709732, 1.5450404309933976, 1.5414676232540185, 1.5404584839843096, 1.5404584839843096, 1.5404584839843096, 2.184450758402474, 3.4200423392455157, 1.7975519000116367, 5.3137662344980505, 5.459603412299092, 6.994556805258968, 7.88277521604396, 2.2447832793334235, 11.570983668405646, 2.6727298031814, 114.75167989812904, 24.187072197655297, 7.624364619717239, 142.5725753513128, 12.411295960108937, 31.64212228005106, 5.712546046497428, 3.98614386946384, 43.004204103420115, 5.983660322242644, 65.16727819493074, 10.70044704676734, 106.01506851596181, 28.913592884595534, 81.40984031107087, 184.3491899876771, 18.06771365162358, 90.78390067682552, 94.22059631014501, 84.98560028639875, 86.69991508334698, 189.01475547114566, 157.2950935850991, 158.85217790971745, 122.71266407741751], \"Category\": [\"Default\", \"Default\", \"Default\", \"Default\", \"Default\", \"Default\", \"Default\", \"Default\", \"Default\", \"Default\", \"Default\", \"Default\", \"Default\", \"Default\", \"Default\", \"Default\", \"Default\", \"Default\", \"Default\", \"Default\", \"Default\", \"Default\", \"Default\", \"Default\", \"Default\", \"Default\", \"Default\", \"Default\", \"Default\", \"Default\", \"Topic1\", \"Topic1\", \"Topic1\", \"Topic1\", \"Topic1\", \"Topic1\", \"Topic1\", \"Topic1\", \"Topic1\", \"Topic1\", \"Topic1\", \"Topic1\", \"Topic1\", \"Topic1\", \"Topic1\", \"Topic1\", \"Topic1\", \"Topic1\", \"Topic1\", \"Topic1\", \"Topic1\", \"Topic1\", \"Topic1\", \"Topic1\", \"Topic1\", \"Topic1\", \"Topic1\", \"Topic1\", \"Topic1\", \"Topic1\", \"Topic1\", \"Topic1\", \"Topic1\", \"Topic1\", \"Topic1\", \"Topic1\", \"Topic1\", \"Topic1\", \"Topic1\", \"Topic1\", \"Topic1\", \"Topic1\", \"Topic1\", \"Topic1\", \"Topic1\", \"Topic1\", \"Topic1\", \"Topic1\", \"Topic1\", \"Topic1\", \"Topic1\", \"Topic1\", \"Topic1\", \"Topic1\", \"Topic1\", \"Topic1\", \"Topic1\", \"Topic1\", \"Topic1\", \"Topic1\", \"Topic1\", \"Topic1\", \"Topic1\", \"Topic1\", \"Topic1\", \"Topic1\", \"Topic1\", \"Topic1\", \"Topic1\", \"Topic1\", \"Topic1\", \"Topic1\", \"Topic1\", \"Topic1\", \"Topic1\", \"Topic1\", \"Topic1\", \"Topic1\", \"Topic1\", \"Topic1\", \"Topic1\", \"Topic1\", \"Topic2\", \"Topic2\", \"Topic2\", \"Topic2\", \"Topic2\", \"Topic2\", \"Topic2\", \"Topic2\", \"Topic2\", \"Topic2\", \"Topic2\", \"Topic2\", \"Topic2\", \"Topic2\", \"Topic2\", \"Topic2\", \"Topic2\", \"Topic2\", \"Topic2\", \"Topic2\", \"Topic2\", \"Topic2\", \"Topic2\", \"Topic2\", \"Topic2\", \"Topic2\", \"Topic2\", \"Topic2\", \"Topic2\", \"Topic2\", \"Topic2\", \"Topic2\", \"Topic2\", \"Topic2\", \"Topic2\", \"Topic2\", \"Topic2\", \"Topic2\", \"Topic2\", \"Topic2\", \"Topic2\", \"Topic2\", \"Topic2\", \"Topic2\", \"Topic2\", \"Topic2\", \"Topic2\", \"Topic2\", \"Topic2\", \"Topic2\", \"Topic2\", \"Topic2\", \"Topic2\", \"Topic2\", \"Topic2\", \"Topic2\", \"Topic2\", \"Topic2\", \"Topic2\", \"Topic2\", \"Topic2\", \"Topic2\", \"Topic2\", \"Topic2\", \"Topic2\", \"Topic2\", \"Topic2\", \"Topic2\", \"Topic2\", \"Topic2\", \"Topic2\", \"Topic2\", \"Topic2\", \"Topic2\", \"Topic2\", \"Topic2\", \"Topic2\", \"Topic2\", \"Topic2\", \"Topic2\", \"Topic2\", \"Topic2\", \"Topic2\", \"Topic3\", \"Topic3\", \"Topic3\", \"Topic3\", \"Topic3\", \"Topic3\", \"Topic3\", \"Topic3\", \"Topic3\", \"Topic3\", \"Topic3\", \"Topic3\", \"Topic3\", \"Topic3\", \"Topic3\", \"Topic3\", \"Topic3\", \"Topic3\", \"Topic3\", \"Topic3\", \"Topic3\", \"Topic3\", \"Topic3\", \"Topic3\", \"Topic3\", \"Topic3\", \"Topic3\", \"Topic3\", \"Topic3\", \"Topic3\", \"Topic3\", \"Topic3\", \"Topic3\", \"Topic3\", \"Topic3\", \"Topic3\", \"Topic3\", \"Topic3\", \"Topic3\", \"Topic3\", \"Topic3\", \"Topic3\", \"Topic3\", \"Topic3\", \"Topic3\", \"Topic3\", \"Topic3\", \"Topic3\", \"Topic3\", \"Topic3\", \"Topic3\", \"Topic3\", \"Topic3\", \"Topic3\", \"Topic3\", \"Topic3\", \"Topic3\", \"Topic3\", \"Topic3\", \"Topic3\", \"Topic3\", \"Topic3\", \"Topic3\", \"Topic3\", \"Topic3\", \"Topic3\", \"Topic3\", \"Topic3\", \"Topic3\", \"Topic3\", \"Topic3\", \"Topic4\", \"Topic4\", \"Topic4\", \"Topic4\", \"Topic4\", \"Topic4\", \"Topic4\", \"Topic4\", \"Topic4\", \"Topic4\", \"Topic4\", \"Topic4\", \"Topic4\", \"Topic4\", \"Topic4\", \"Topic4\", \"Topic4\", \"Topic4\", \"Topic4\", \"Topic4\", \"Topic4\", \"Topic4\", \"Topic4\", \"Topic4\", \"Topic4\", \"Topic4\", \"Topic4\", \"Topic4\", \"Topic4\", \"Topic4\", \"Topic4\", \"Topic4\", \"Topic4\", \"Topic4\", \"Topic4\", \"Topic4\", \"Topic4\", \"Topic4\", \"Topic4\", \"Topic4\", \"Topic4\", \"Topic4\", \"Topic4\", \"Topic4\", \"Topic4\", \"Topic4\", \"Topic4\", \"Topic4\", \"Topic4\", \"Topic4\", \"Topic4\", \"Topic4\", \"Topic4\", \"Topic4\", \"Topic4\", \"Topic4\", \"Topic4\", \"Topic4\", \"Topic4\", \"Topic4\", \"Topic4\", \"Topic4\", \"Topic4\", \"Topic4\", \"Topic4\", \"Topic4\", \"Topic4\", \"Topic4\", \"Topic4\", \"Topic4\", \"Topic4\", \"Topic4\", \"Topic5\", \"Topic5\", \"Topic5\", \"Topic5\", \"Topic5\", \"Topic5\", \"Topic5\", \"Topic5\", \"Topic5\", \"Topic5\", \"Topic5\", \"Topic5\", \"Topic5\", \"Topic5\", \"Topic5\", \"Topic5\", \"Topic5\", \"Topic5\", \"Topic5\", \"Topic5\", \"Topic5\", \"Topic5\", \"Topic5\", \"Topic5\", \"Topic5\", \"Topic5\", \"Topic5\", \"Topic5\", \"Topic5\", \"Topic5\", \"Topic5\", \"Topic5\", \"Topic5\", \"Topic5\", \"Topic5\", \"Topic5\", \"Topic5\", \"Topic5\", \"Topic5\", \"Topic5\", \"Topic5\", \"Topic5\", \"Topic5\", \"Topic5\", \"Topic5\", \"Topic5\", \"Topic5\", \"Topic5\", \"Topic5\", \"Topic5\", \"Topic5\", \"Topic5\", \"Topic5\", \"Topic5\", \"Topic5\", \"Topic5\", \"Topic5\", \"Topic5\", \"Topic5\", \"Topic5\", \"Topic5\", \"Topic5\", \"Topic5\", \"Topic5\", \"Topic5\", \"Topic5\", \"Topic5\", \"Topic5\", \"Topic5\", \"Topic5\", \"Topic6\", \"Topic6\", \"Topic6\", \"Topic6\", \"Topic6\", \"Topic6\", \"Topic6\", \"Topic6\", \"Topic6\", \"Topic6\", \"Topic6\", \"Topic6\", \"Topic6\", \"Topic6\", \"Topic6\", \"Topic6\", \"Topic6\", \"Topic6\", \"Topic6\", \"Topic6\", \"Topic6\", \"Topic6\", \"Topic6\", \"Topic6\", \"Topic6\", \"Topic6\", \"Topic6\", \"Topic6\", \"Topic6\", \"Topic6\", \"Topic6\", \"Topic6\", \"Topic6\", \"Topic6\", \"Topic6\", \"Topic6\", \"Topic6\", \"Topic6\", \"Topic6\", \"Topic6\", \"Topic6\", \"Topic6\", \"Topic6\", \"Topic6\", \"Topic6\", \"Topic6\", \"Topic6\", \"Topic6\", \"Topic6\", \"Topic6\", \"Topic6\", \"Topic6\", \"Topic6\", \"Topic6\", \"Topic6\", \"Topic6\", \"Topic6\", \"Topic6\", \"Topic6\", \"Topic6\", \"Topic6\", \"Topic6\", \"Topic6\", \"Topic6\", \"Topic6\", \"Topic6\", \"Topic6\", \"Topic6\", \"Topic6\", \"Topic7\", \"Topic7\", \"Topic7\", \"Topic7\", \"Topic7\", \"Topic7\", \"Topic7\", \"Topic7\", \"Topic7\", \"Topic7\", \"Topic7\", \"Topic7\", \"Topic7\", \"Topic7\", \"Topic7\", \"Topic7\", \"Topic7\", \"Topic7\", \"Topic7\", \"Topic7\", \"Topic7\", \"Topic7\", \"Topic7\", \"Topic7\", \"Topic7\", \"Topic7\", \"Topic7\", \"Topic7\", \"Topic7\", \"Topic7\", \"Topic7\", \"Topic7\", \"Topic7\", \"Topic7\", \"Topic7\", \"Topic7\", \"Topic7\", \"Topic7\", \"Topic7\", \"Topic7\", \"Topic7\", \"Topic7\", \"Topic7\", \"Topic7\", \"Topic7\", \"Topic7\", \"Topic7\", \"Topic7\", \"Topic7\", \"Topic7\", \"Topic7\", \"Topic7\", \"Topic7\", \"Topic7\", \"Topic7\", \"Topic7\", \"Topic7\", \"Topic7\", \"Topic7\", \"Topic7\", \"Topic7\", \"Topic7\", \"Topic7\", \"Topic7\", \"Topic7\", \"Topic7\", \"Topic7\", \"Topic7\", \"Topic8\", \"Topic8\", \"Topic8\", \"Topic8\", \"Topic8\", \"Topic8\", \"Topic8\", \"Topic8\", \"Topic8\", \"Topic8\", \"Topic8\", \"Topic8\", \"Topic8\", \"Topic8\", \"Topic8\", \"Topic8\", \"Topic8\", \"Topic8\", \"Topic8\", \"Topic8\", \"Topic8\", \"Topic8\", \"Topic8\", \"Topic8\", \"Topic8\", \"Topic8\", \"Topic8\", \"Topic8\", \"Topic8\", \"Topic8\", \"Topic8\", \"Topic8\", \"Topic8\", \"Topic8\", \"Topic8\", \"Topic8\", \"Topic8\", \"Topic8\", \"Topic8\", \"Topic8\", \"Topic8\", \"Topic8\", \"Topic8\", \"Topic8\", \"Topic8\", \"Topic8\", \"Topic8\", \"Topic8\", \"Topic8\", \"Topic8\", \"Topic8\", \"Topic8\", \"Topic8\", \"Topic8\", \"Topic8\", \"Topic8\", \"Topic8\", \"Topic8\", \"Topic8\", \"Topic8\", \"Topic8\", \"Topic8\", \"Topic8\", \"Topic8\", \"Topic8\", \"Topic8\", \"Topic8\", \"Topic9\", \"Topic9\", \"Topic9\", \"Topic9\", \"Topic9\", \"Topic9\", \"Topic9\", \"Topic9\", \"Topic9\", \"Topic9\", \"Topic9\", \"Topic9\", \"Topic9\", \"Topic9\", \"Topic9\", \"Topic9\", \"Topic9\", \"Topic9\", \"Topic9\", \"Topic9\", \"Topic9\", \"Topic9\", \"Topic9\", \"Topic9\", \"Topic9\", \"Topic9\", \"Topic9\", \"Topic9\", \"Topic9\", \"Topic9\", \"Topic9\", \"Topic9\", \"Topic9\", \"Topic9\", \"Topic9\", \"Topic9\", \"Topic9\", \"Topic9\", \"Topic9\", \"Topic9\", \"Topic9\", \"Topic9\", \"Topic9\", \"Topic9\", \"Topic9\", \"Topic9\", \"Topic9\", \"Topic9\", \"Topic9\", \"Topic9\", \"Topic9\", \"Topic9\", \"Topic9\", \"Topic9\", \"Topic9\", \"Topic9\", \"Topic9\", \"Topic9\", \"Topic9\", \"Topic9\", \"Topic9\", \"Topic9\", \"Topic10\", \"Topic10\", \"Topic10\", \"Topic10\", \"Topic10\", \"Topic10\", \"Topic10\", \"Topic10\", \"Topic10\", \"Topic10\", \"Topic10\", \"Topic10\", \"Topic10\", \"Topic10\", \"Topic10\", \"Topic10\", \"Topic10\", \"Topic10\", \"Topic10\", \"Topic10\", \"Topic10\", \"Topic10\", \"Topic10\", \"Topic10\", \"Topic10\", \"Topic10\", \"Topic10\", \"Topic10\", \"Topic10\", \"Topic10\", \"Topic10\", \"Topic10\", \"Topic10\", \"Topic10\", \"Topic10\", \"Topic10\", \"Topic10\", \"Topic10\", \"Topic10\", \"Topic10\", \"Topic10\", \"Topic10\", \"Topic10\", \"Topic10\", \"Topic10\", \"Topic10\", \"Topic10\", \"Topic10\", \"Topic10\", \"Topic10\", \"Topic10\", \"Topic10\", \"Topic10\", \"Topic10\", \"Topic10\", \"Topic10\", \"Topic10\", \"Topic10\", \"Topic10\", \"Topic10\", \"Topic10\", \"Topic10\"], \"logprob\": [30.0, 29.0, 28.0, 27.0, 26.0, 25.0, 24.0, 23.0, 22.0, 21.0, 20.0, 19.0, 18.0, 17.0, 16.0, 15.0, 14.0, 13.0, 12.0, 11.0, 10.0, 9.0, 8.0, 7.0, 6.0, 5.0, 4.0, 3.0, 2.0, 1.0, -6.5747, -7.5673, -7.4692, -7.2386, -7.6771, -7.8453, -7.8922, -7.701, -7.4862, -7.9407, -6.7921, -7.7789, -7.4058, -7.3817, -8.074, -7.9558, -7.3, -7.7302, -7.9121, -8.2599, -7.1416, -7.8147, -7.7839, -8.2563, -8.0013, -8.3466, -7.5025, -8.3728, -7.7135, -8.3815, -6.7327, -7.2817, -7.2113, -6.3238, -7.5709, -7.2873, -5.686, -6.368, -6.3416, -6.6825, -6.9812, -5.1904, -6.7587, -6.142, -5.2792, -5.5306, -5.9143, -5.5381, -6.3136, -6.2938, -5.409, -5.7109, -5.1039, -5.4435, -5.8838, -5.1064, -6.5568, -6.7779, -5.2218, -6.1385, -5.7134, -6.0663, -5.1677, -5.7912, -5.3283, -6.3328, -5.3462, -5.2519, -5.523, -5.5304, -5.8502, -5.8337, -5.9526, -5.8923, -6.018, -5.9453, -5.8926, -5.8379, -5.9521, -5.922, -5.9081, -5.9131, -7.0592, -7.4757, -7.2264, -7.5955, -6.5662, -7.6242, -6.9827, -7.6667, -7.3376, -7.6951, -7.6994, -7.7117, -7.463, -7.7388, -7.8028, -7.8163, -7.0779, -7.8296, -7.8476, -7.8476, -7.8476, -7.8476, -7.8712, -7.6866, -7.6261, -7.946, -7.7829, -7.8579, -8.0523, -7.8468, -7.7236, -7.039, -7.626, -6.0259, -6.6095, -5.764, -7.2208, -6.6021, -5.271, -5.8607, -6.5969, -7.0486, -6.4357, -5.8645, -6.7844, -7.2751, -6.7495, -6.7922, -6.2972, -5.3742, -6.3691, -6.8934, -5.898, -5.7028, -5.9674, -6.6653, -6.3757, -5.1022, -6.6684, -5.7905, -6.3393, -5.6218, -5.5437, -5.3362, -5.4308, -5.5708, -5.573, -5.428, -5.8791, -5.4976, -5.6707, -5.9475, -5.7903, -5.7867, -5.9804, -5.7172, -5.7885, -5.8887, -5.714, -5.8541, -5.7364, -5.9123, -5.9336, -6.9801, -6.9235, -7.1487, -6.1037, -6.6432, -7.5548, -7.6406, -5.867, -7.4242, -7.7459, -6.2386, -7.8386, -7.851, -7.8959, -7.3867, -7.5202, -6.4935, -7.9744, -7.8524, -6.6118, -7.8111, -7.4004, -8.0969, -7.9077, -8.1464, -7.2962, -8.1045, -8.2053, -8.0669, -8.2392, -5.9213, -5.801, -7.0085, -5.6487, -4.5211, -5.0637, -5.5139, -6.5588, -7.0096, -6.3654, -7.1271, -6.1099, -4.984, -6.1549, -6.0557, -5.5207, -6.0722, -5.4381, -5.1541, -6.2035, -5.7497, -5.07, -6.0457, -5.4602, -5.1415, -5.3181, -5.2431, -5.5091, -5.4472, -5.5468, -5.4678, -5.7838, -5.4897, -5.6417, -5.5273, -5.9376, -5.851, -5.8233, -5.8511, -5.9256, -5.9052, -5.7703, -6.6992, -7.2241, -5.9919, -7.3638, -7.4315, -7.4315, -7.4315, -7.4315, -5.4393, -7.4644, -6.0727, -7.4825, -7.6682, -7.7033, -7.7333, -7.5844, -7.5552, -7.8016, -7.7108, -7.8178, -7.8113, -6.8447, -7.8341, -7.8403, -7.6971, -7.8706, -7.701, -7.5209, -7.8249, -6.74, -5.6628, -6.5258, -6.6156, -5.164, -4.7035, -5.7521, -4.5337, -5.9275, -5.7231, -6.6595, -6.8125, -6.2294, -4.3461, -5.5804, -5.8969, -5.6805, -5.6078, -4.9771, -4.9457, -5.6541, -5.9781, -5.9408, -6.4945, -5.2852, -4.6455, -6.3643, -6.2318, -5.2294, -5.7753, -5.7128, -5.6901, -5.7612, -6.1003, -5.4946, -5.717, -5.6585, -5.7596, -5.7892, -5.8374, -5.8625, -5.884, -6.2363, -6.7162, -6.9204, -6.0211, -6.4404, -7.2007, -7.4673, -7.5083, -7.3077, -7.3836, -7.5286, -7.6551, -6.7087, -7.4869, -7.6873, -7.6873, -7.6897, -7.6897, -7.6897, -7.7233, -6.19, -7.5608, -7.7995, -7.6434, -7.5358, -7.3182, -7.0969, -7.8976, -7.2608, -7.7349, -6.1038, -4.8408, -5.3827, -3.8871, -6.523, -6.1729, -6.4716, -4.6979, -5.4915, -6.6622, -5.1937, -4.9163, -6.2817, -4.7729, -6.5913, -5.4797, -6.138, -4.9405, -5.612, -5.1531, -6.3898, -5.9038, -5.7578, -5.5984, -5.0328, -5.4302, -5.1262, -5.8385, -5.5983, -5.731, -5.4739, -5.7467, -5.5142, -5.5824, -5.6865, -5.9429, -5.7843, -5.9815, -5.9356, -5.9417, -6.5359, -6.2635, -4.8276, -6.6505, -7.2661, -6.3542, -7.5858, -7.4209, -7.4332, -5.8361, -7.6647, -5.2719, -6.2017, -7.2328, -6.6237, -7.7605, -7.5504, -7.4801, -7.7913, -7.8217, -7.8648, -7.5249, -7.7353, -7.6762, -7.8375, -7.9367, -7.9399, -7.9409, -6.9265, -7.2202, -6.3943, -4.4872, -4.5955, -5.0303, -6.5918, -4.7386, -6.2305, -6.8196, -6.4616, -6.3408, -6.3155, -4.8615, -5.3396, -5.328, -5.2289, -5.6736, -6.8131, -5.5223, -5.5844, -6.0987, -6.3898, -6.3446, -5.2801, -5.8004, -5.3429, -5.5763, -5.4591, -5.685, -5.5354, -5.814, -5.8382, -5.8537, -5.7738, -5.8442, -5.8086, -5.9582, -5.9129, -5.9295, -5.9568, -6.3514, -6.6931, -7.0119, -6.8449, -6.6604, -6.3927, -6.9161, -6.6909, -7.4164, -7.4493, -7.4848, -7.0018, -5.6788, -7.4102, -7.5857, -7.3039, -7.4974, -7.6378, -7.6407, -7.6478, -6.29, -6.8833, -6.9209, -7.4157, -7.3067, -7.8285, -7.8605, -7.1017, -7.8677, -7.0764, -5.7477, -6.8067, -6.9632, -4.4871, -5.9867, -5.8558, -6.3243, -5.0855, -5.3332, -5.9813, -5.5942, -6.0005, -5.2297, -6.1714, -5.5549, -6.1327, -5.7385, -5.6886, -5.2562, -5.3011, -5.0289, -5.5283, -5.4093, -5.8403, -5.429, -5.3925, -5.451, -5.329, -5.6298, -5.6225, -5.6137, -5.754, -5.7022, -5.7724, -5.798, -5.7957, -5.8076, -5.8011, -6.7939, -6.4727, -6.8057, -7.0705, -7.0716, -6.8349, -6.6051, -7.0745, -6.7241, -7.3435, -7.3435, -7.3435, -7.3435, -7.1464, -6.6187, -7.3796, -7.2105, -7.4132, -7.4297, -7.1449, -5.9487, -6.7811, -7.4724, -7.493, -7.496, -6.6, -7.5013, -6.9453, -7.5071, -6.3334, -6.1427, -7.0021, -6.4998, -5.0768, -4.0585, -6.1838, -6.4572, -5.6095, -6.4046, -4.7633, -6.982, -4.0445, -3.8759, -6.8151, -5.7015, -5.0851, -5.7422, -5.8853, -5.6644, -6.3272, -6.6121, -6.7823, -6.5695, -6.0744, -5.8231, -5.7185, -6.1658, -5.8269, -5.9633, -6.0171, -5.942, -5.9852, -6.0221, -6.1788, -6.1231, -6.259, -6.3174, -5.3052, -6.0815, -6.1141, -6.3156, -6.4621, -6.585, -6.6917, -6.8731, -6.2712, -6.6608, -7.1252, -7.1587, -7.2011, -7.0607, -7.2636, -7.3139, -7.3794, -7.4057, -7.3259, -7.4631, -7.4631, -6.9528, -7.2844, -7.5067, -7.5134, -5.718, -7.3186, -7.3988, -7.2796, -7.5766, -5.5023, -5.6159, -6.6057, -5.5534, -6.9483, -5.974, -7.1198, -6.3155, -5.6793, -5.7099, -5.9883, -5.9799, -6.1361, -6.8133, -5.9145, -6.2274, -6.5201, -5.3356, -5.6912, -6.0564, -6.1454, -5.7915, -6.1183, -5.7261, -5.8938, -6.0595, -6.2496, -6.2806, -6.0095, -6.2145, -6.2431, -6.2462, -5.4823, -6.3392, -6.6922, -6.6031, -6.3857, -6.7939, -6.9151, -7.004, -7.0278, -7.1363, -6.9891, -7.1941, -6.4142, -5.8449, -7.1588, -7.3117, -7.3148, -7.0968, -7.3988, -7.4303, -7.4303, -7.4343, -7.4458, -7.4498, -7.4509, -7.4509, -7.4509, -7.1046, -6.6807, -7.3345, -6.2509, -6.3464, -6.1449, -6.0739, -7.1435, -5.8315, -7.0245, -4.2506, -5.4338, -6.2746, -4.4592, -6.0613, -5.5446, -6.5998, -6.8193, -5.911, -6.7041, -5.7802, -6.4872, -5.6513, -6.1412, -5.8042, -5.6034, -6.3663, -6.0554, -6.088, -6.2112, -6.2531, -6.1956, -6.2213, -6.3306, -6.3572], \"loglift\": [30.0, 29.0, 28.0, 27.0, 26.0, 25.0, 24.0, 23.0, 22.0, 21.0, 20.0, 19.0, 18.0, 17.0, 16.0, 15.0, 14.0, 13.0, 12.0, 11.0, 10.0, 9.0, 8.0, 7.0, 6.0, 5.0, 4.0, 3.0, 2.0, 1.0, 1.4446, 1.3933, 1.3879, 1.3862, 1.3542, 1.3456, 1.3448, 1.3446, 1.3363, 1.3363, 1.336, 1.3336, 1.3172, 1.3115, 1.3113, 1.2988, 1.2797, 1.2776, 1.2768, 1.2712, 1.2709, 1.2701, 1.2676, 1.2669, 1.2549, 1.2509, 1.2493, 1.2444, 1.2429, 1.2422, 1.2374, 1.2354, 1.2342, 1.1744, 1.2366, 1.2187, 1.0811, 1.1169, 1.0615, 1.0863, 1.1261, 0.7849, 1.0757, 0.9489, 0.7516, 0.7727, 0.8615, 0.7527, 0.9385, 0.9278, 0.6348, 0.6959, 0.4601, 0.4847, 0.6701, 0.2993, 0.9325, 1.033, 0.2979, 0.7267, 0.5065, 0.6791, 0.167, 0.498, 0.1802, 0.8076, 0.1722, 0.1078, 0.2676, 0.2642, 0.4483, 0.2343, 0.3851, 0.2214, 0.4543, 0.2637, 0.0626, -0.2212, 0.1598, 0.0001, -0.1415, -0.1221, 1.5203, 1.4823, 1.4753, 1.4657, 1.4626, 1.4617, 1.4606, 1.4554, 1.4541, 1.451, 1.4503, 1.4484, 1.4466, 1.444, 1.4333, 1.431, 1.4287, 1.4287, 1.4255, 1.4255, 1.4255, 1.4255, 1.4213, 1.4165, 1.4137, 1.406, 1.3967, 1.386, 1.3859, 1.3858, 1.3831, 1.3737, 1.3792, 1.308, 1.3267, 1.2654, 1.3553, 1.3001, 1.0584, 1.1122, 1.2319, 1.2607, 1.1178, 0.9654, 1.1684, 1.294, 1.1353, 1.1442, 0.9711, 0.6162, 0.9765, 1.1583, 0.7464, 0.6577, 0.7327, 1.0469, 0.8936, 0.2324, 1.0393, 0.508, 0.8225, 0.3334, 0.251, 0.0695, 0.1332, 0.2226, 0.2177, 0.0917, 0.4243, 0.011, 0.1203, 0.3417, 0.1196, 0.0722, 0.337, -0.1006, -0.0218, 0.1551, -0.1957, -0.0203, -0.3768, 0.0159, -0.0207, 1.6356, 1.6228, 1.6187, 1.6186, 1.6182, 1.5662, 1.5522, 1.5407, 1.5381, 1.5344, 1.527, 1.5171, 1.5102, 1.5057, 1.5056, 1.5036, 1.5, 1.4892, 1.4833, 1.4823, 1.48, 1.4796, 1.4616, 1.4533, 1.4496, 1.4398, 1.4348, 1.4347, 1.4345, 1.4259, 1.4247, 1.4071, 1.4142, 1.3774, 1.3352, 1.3437, 1.3299, 1.3431, 1.3876, 1.2775, 1.3809, 1.1598, 0.9259, 1.1663, 1.0663, 0.9058, 1.0317, 0.8187, 0.7048, 1.0159, 0.827, 0.4498, 0.9012, 0.468, 0.2641, 0.1904, 0.0915, 0.2816, 0.1694, 0.2442, 0.0962, 0.4893, 0.0286, 0.153, -0.1677, 0.546, 0.217, -0.1125, -0.0577, 0.1863, -0.0715, 2.3735, 2.2918, 2.2476, 2.2398, 2.2152, 2.1982, 2.1982, 2.1982, 2.1982, 2.1864, 2.1748, 2.1651, 2.1516, 2.1317, 2.1209, 2.1114, 2.1096, 2.1079, 2.0891, 2.0876, 2.0837, 2.0826, 2.0808, 2.0782, 2.076, 2.0738, 2.0648, 2.0619, 2.0603, 2.0508, 2.0233, 1.9673, 1.9923, 1.9905, 1.8548, 1.7808, 1.877, 1.7395, 1.8584, 1.7936, 1.933, 1.9528, 1.8365, 1.4206, 1.6523, 1.7216, 1.6436, 1.6037, 1.3028, 1.2891, 1.5214, 1.6348, 1.587, 1.8214, 1.2278, 0.8728, 1.7474, 1.6521, 0.6927, 1.1825, 1.0418, 0.9637, 1.054, 1.4389, 0.0139, 0.2733, -0.2528, 0.3523, 0.4114, 0.3716, 0.3145, -0.093, 2.4563, 2.3959, 2.3616, 2.3489, 2.3252, 2.3043, 2.237, 2.2254, 2.2243, 2.2042, 2.1841, 2.1811, 2.1806, 2.1792, 2.1708, 2.1708, 2.17, 2.17, 2.17, 2.1589, 2.1571, 2.139, 2.133, 2.1162, 2.1143, 2.0994, 2.0982, 2.0976, 2.0942, 2.0899, 2.077, 1.9371, 1.962, 1.8237, 1.9925, 1.9375, 1.9737, 1.7016, 1.8018, 1.9911, 1.5821, 1.4859, 1.7283, 1.14, 1.8241, 1.3804, 1.6459, 1.0349, 1.2962, 1.0239, 1.6858, 1.378, 1.2522, 1.1258, 0.5839, 0.6136, 0.2334, 0.9983, 0.5157, 0.5451, 0.0458, 0.5264, -0.1796, -0.1768, 0.1472, 0.9383, -0.2203, 0.6794, 0.1324, -0.4332, 2.5351, 2.5039, 2.4181, 2.3914, 2.3738, 2.3558, 2.308, 2.302, 2.3016, 2.2986, 2.2809, 2.2731, 2.2662, 2.2634, 2.2514, 2.2458, 2.243, 2.2397, 2.2332, 2.2218, 2.2051, 2.1946, 2.1868, 2.1846, 2.1791, 2.1753, 2.1742, 2.1738, 2.1735, 2.173, 2.1592, 2.1006, 2.0674, 1.9763, 2.0938, 1.9095, 2.0387, 2.0539, 1.8887, 1.8426, 1.8176, 1.2725, 1.3946, 1.2912, 1.2435, 1.3302, 1.9529, 1.2005, 1.1695, 1.409, 1.6253, 1.5636, 0.2284, 0.7993, -0.0082, 0.3459, -0.0534, 0.3053, -0.0171, 0.3866, 0.4451, 0.3554, -0.0071, 0.111, -0.4489, 0.2767, -0.1223, -0.1349, -0.1231, 2.6274, 2.537, 2.5088, 2.4749, 2.4293, 2.4144, 2.4105, 2.4079, 2.3992, 2.3888, 2.3774, 2.3684, 2.3677, 2.3575, 2.3433, 2.3428, 2.3305, 2.3247, 2.3237, 2.3211, 2.2956, 2.2846, 2.2739, 2.2732, 2.2686, 2.2516, 2.2385, 2.237, 2.2354, 2.2325, 2.2171, 2.2271, 2.2028, 1.8282, 2.0101, 1.8528, 1.9637, 1.5313, 1.4367, 1.6316, 1.399, 1.5149, 1.0399, 1.5793, 1.168, 1.5409, 1.2512, 1.2037, 0.6567, 0.6541, 0.3058, 0.7891, 0.4244, 0.9897, 0.3657, 0.2241, 0.3156, 0.0307, 0.4838, 0.1685, -0.1052, 0.314, -0.1382, 0.1375, 0.1923, 0.1264, -0.2893, -0.3954, 2.834, 2.795, 2.7571, 2.7549, 2.7545, 2.7452, 2.7242, 2.709, 2.6625, 2.6605, 2.6605, 2.6605, 2.6605, 2.6595, 2.6508, 2.6467, 2.6338, 2.6337, 2.6272, 2.6199, 2.6172, 2.6168, 2.61, 2.6015, 2.5996, 2.5983, 2.5981, 2.5975, 2.5957, 2.5874, 2.58, 2.581, 2.555, 2.4516, 2.355, 2.4934, 2.5205, 2.4217, 2.4858, 2.0144, 2.5665, 1.749, 1.4837, 2.4708, 1.899, 1.3654, 1.6761, 1.7191, 1.5265, 2.0361, 2.2593, 2.4264, 2.1018, 1.1833, 0.4464, 0.1404, 1.1133, 0.0952, 0.1047, 0.0948, -0.4334, -0.2745, -0.2311, 0.5585, -0.009, -0.695, 0.0894, 3.0692, 3.0507, 3.0455, 3.01, 2.9803, 2.9526, 2.9264, 2.8767, 2.8644, 2.8177, 2.7963, 2.7845, 2.7693, 2.7624, 2.7461, 2.7267, 2.7007, 2.6899, 2.684, 2.6659, 2.6659, 2.6564, 2.6516, 2.647, 2.644, 2.6372, 2.6341, 2.6229, 2.6166, 2.6158, 2.5751, 2.4728, 2.5358, 2.2169, 2.4981, 2.1635, 2.5377, 2.0511, 1.6528, 1.583, 1.7389, 1.6037, 1.7114, 2.2797, 1.2946, 1.6156, 1.941, 0.4554, 0.8575, 1.2883, 1.4038, 0.7452, 1.1319, 0.1868, 0.3152, 0.8007, 1.3211, 1.2288, -0.6499, 0.6817, 0.0477, -0.0764, 3.1612, 3.0379, 2.956, 2.9489, 2.9297, 2.9281, 2.8921, 2.8637, 2.8558, 2.8182, 2.814, 2.797, 2.7955, 2.7769, 2.7564, 2.7516, 2.7503, 2.7465, 2.7158, 2.7024, 2.7024, 2.7007, 2.6956, 2.694, 2.6935, 2.6935, 2.6935, 2.6906, 2.6661, 2.6555, 2.6553, 2.5328, 2.4864, 2.4379, 2.6244, 2.2965, 2.5689, 1.5831, 1.9569, 2.2706, 1.1574, 1.9966, 1.5774, 2.234, 2.3743, 0.9042, 2.0834, 0.6193, 1.719, 0.2616, 1.0709, 0.3728, -0.2438, 1.3161, 0.0127, -0.0571, -0.0772, -0.139, -0.8609, -0.7029, -0.8221, -0.5906]}, \"token.table\": {\"Topic\": [3, 6, 9, 5, 1, 2, 9, 5, 9, 9, 9, 4, 10, 3, 1, 4, 5, 8, 8, 4, 1, 2, 3, 4, 6, 7, 8, 10, 1, 2, 3, 5, 7, 8, 9, 5, 2, 2, 6, 1, 2, 3, 4, 5, 6, 7, 8, 9, 8, 8, 5, 1, 2, 3, 4, 5, 6, 7, 10, 1, 2, 3, 4, 5, 6, 7, 8, 3, 10, 1, 2, 3, 4, 5, 6, 7, 8, 10, 1, 7, 1, 2, 3, 4, 5, 6, 7, 8, 10, 8, 1, 2, 3, 4, 5, 6, 7, 9, 6, 2, 6, 1, 2, 3, 4, 5, 6, 1, 2, 3, 4, 5, 6, 7, 8, 9, 10, 1, 2, 3, 4, 6, 3, 5, 1, 2, 3, 4, 5, 6, 7, 8, 1, 2, 3, 5, 7, 1, 2, 3, 4, 5, 6, 7, 10, 1, 2, 3, 4, 6, 9, 2, 8, 1, 2, 3, 5, 1, 2, 3, 4, 7, 1, 2, 3, 4, 5, 8, 1, 2, 7, 9, 10, 10, 8, 9, 1, 2, 3, 4, 5, 6, 7, 8, 9, 10, 3, 7, 1, 4, 1, 2, 3, 5, 6, 7, 8, 1, 2, 4, 1, 1, 2, 6, 1, 2, 3, 4, 5, 6, 7, 1, 2, 3, 4, 6, 8, 4, 1, 2, 3, 5, 2, 4, 6, 1, 2, 3, 4, 5, 6, 7, 8, 9, 1, 3, 6, 9, 2, 1, 2, 3, 4, 5, 6, 7, 8, 9, 10, 1, 2, 3, 4, 6, 1, 2, 3, 4, 5, 6, 7, 8, 9, 10, 2, 10, 3, 1, 2, 3, 4, 5, 8, 1, 3, 7, 7, 2, 8, 2, 4, 1, 2, 4, 6, 7, 8, 1, 2, 3, 4, 5, 6, 7, 8, 9, 10, 1, 2, 5, 9, 1, 2, 3, 5, 6, 9, 1, 2, 3, 5, 6, 8, 2, 3, 4, 8, 3, 3, 7, 9, 1, 2, 3, 5, 3, 7, 1, 2, 3, 2, 3, 4, 6, 3, 2, 10, 1, 7, 2, 1, 2, 3, 4, 5, 6, 7, 8, 9, 10, 2, 3, 4, 2, 7, 10, 9, 8, 8, 5, 7, 2, 2, 10, 2, 3, 4, 5, 6, 7, 5, 5, 1, 2, 3, 4, 5, 9, 1, 2, 3, 4, 5, 6, 7, 8, 10, 2, 7, 1, 2, 3, 4, 5, 6, 7, 5, 1, 2, 3, 4, 6, 8, 9, 10, 5, 10, 1, 4, 3, 10, 7, 6, 1, 2, 3, 4, 5, 6, 7, 9, 10, 1, 2, 3, 1, 2, 3, 4, 3, 1, 2, 3, 5, 6, 6, 1, 2, 3, 4, 7, 6, 6, 3, 1, 6, 10, 1, 2, 3, 4, 5, 6, 7, 9, 1, 2, 3, 4, 5, 6, 9, 10, 8, 4, 10, 1, 2, 3, 5, 5, 1, 2, 3, 4, 5, 6, 7, 8, 9, 10, 1, 2, 3, 4, 6, 7, 7, 9, 1, 2, 3, 4, 6, 9, 1, 2, 5, 6, 9, 1, 2, 3, 4, 5, 6, 7, 8, 9, 10, 1, 2, 3, 9, 1, 2, 3, 7, 2, 4, 2, 9, 1, 2, 3, 4, 6, 7, 1, 2, 3, 4, 6, 7, 8, 1, 2, 3, 4, 7, 1, 2, 1, 2, 3, 1, 2, 3, 6, 1, 2, 3, 4, 5, 6, 7, 8, 4, 5, 1, 2, 3, 9, 5, 1, 2, 3, 5, 6, 4, 1, 2, 3, 4, 5, 6, 7, 8, 10, 1, 2, 3, 4, 5, 6, 7, 8, 9, 10, 1, 2, 3, 9, 10, 2, 3, 6, 9, 10, 1, 2, 3, 4, 5, 6, 9, 1, 2, 3, 4, 5, 6, 7, 9, 10, 8, 1, 2, 3, 5, 7, 8, 6, 9, 1, 2, 3, 4, 6, 7, 8, 9, 10, 3, 1, 2, 4, 1, 4, 5, 5, 1, 2, 7, 8, 10, 7, 8, 7, 1, 2, 3, 5, 6, 7, 6, 2, 1, 2, 3, 4, 5, 6, 7, 1, 3, 1, 2, 3, 4, 5, 7, 10, 8, 1, 2, 3, 4, 5, 6, 7, 10, 4, 1, 1, 2, 3, 6, 7, 1, 3, 6, 1, 8, 10, 1, 2, 3, 4, 5, 7, 8, 9, 10, 1, 2, 1, 2, 3, 4, 5, 6, 7, 8, 9, 10, 3, 1, 2, 3, 4, 6, 7, 9, 2, 2, 3, 4, 1, 2, 3, 4, 5, 6, 7, 10, 1, 2, 4, 7, 8, 8, 1, 2, 3, 4, 5, 6, 7, 8, 9, 10, 1, 2, 3, 4, 5, 6, 7, 8, 9, 10, 9, 6, 10, 1, 2, 3, 4, 5, 6, 7, 8, 1, 2, 4, 2, 6, 7, 8, 9, 10, 1, 5, 5, 6, 6, 1, 2, 3, 4, 5, 7, 8, 1, 2, 3, 4, 5, 6, 7, 8, 9, 2, 5, 6, 1, 2, 3, 4, 5, 6, 7, 8, 9, 8, 3, 1, 2, 3, 4, 1, 2, 3, 4, 4, 1, 1, 2, 3, 4, 5, 6, 3, 1, 2, 3, 4, 5, 6, 7, 8, 9, 10, 1, 2, 3, 4, 5, 6, 7, 9, 10, 8, 2, 3, 4, 6, 2, 2, 1, 2, 3, 4, 7, 10, 10, 6, 1, 2, 3, 4, 5, 6, 9, 3, 8, 1, 2, 3, 6, 2, 1, 3, 8, 1, 2, 3, 4, 7, 1, 1, 2, 3, 4, 5, 6, 7, 8, 8, 9, 1, 2, 3, 4, 5, 6, 7, 9, 10, 2, 3, 5, 10, 9, 1, 2, 3, 4, 9, 4, 8, 1, 3, 5, 1, 2, 3, 5, 6, 7, 8, 4, 1, 2, 6, 8, 1, 2, 3, 4, 9, 1, 6, 8, 4, 8, 2, 3, 6, 6, 7, 2, 3, 7, 1, 5, 6, 8, 10, 1, 2, 3, 4, 5, 6, 7, 8, 9, 10, 2, 4, 2, 10, 9, 1, 2, 3, 4, 5, 6, 7, 9, 1, 2, 3, 4, 5, 6, 7, 2, 5, 1, 2, 3, 4, 5, 6, 7, 10, 1, 2, 3, 5, 10, 1, 2, 3, 4, 5, 6, 7, 8, 9, 10, 9, 1, 2, 3, 4, 5, 6, 7, 8, 9, 10, 5, 4, 2, 1, 2, 3, 10, 2, 3, 5, 3, 4, 10, 2, 3, 10, 6, 1, 2, 7, 8, 8, 4, 4, 3, 1, 2, 3, 4, 5, 1, 2, 3, 5, 6, 7, 6, 1, 2, 3, 4, 5, 6, 7, 9, 10, 10, 1, 1, 2, 3, 4, 5, 6, 7, 9, 10, 7, 6, 2, 1, 2, 3, 4, 5, 6, 7, 1, 3, 10, 9, 1, 1, 2, 3, 5, 9, 1, 2, 3, 4, 5, 6, 9, 10, 4, 1, 2, 3, 4, 5, 3, 1, 1, 2, 3, 4, 5, 6, 7, 8, 9, 10, 10, 1, 2, 4, 5, 1, 2, 3, 4, 5, 6, 7, 8, 9, 10, 1, 2, 3, 4, 5, 6, 7, 8, 9, 7, 8, 1, 2, 4, 5, 9, 2, 3, 6, 1, 2, 3, 4, 5, 6, 7, 8, 10, 1, 2, 3, 4, 6, 7, 4, 1, 1, 1, 3, 10, 1, 2, 3, 4, 5, 7, 8, 10, 8, 1, 8, 1, 2, 3, 6, 9, 1, 2, 3, 5, 6, 7, 8, 9, 2, 5, 1, 2, 3, 4, 6, 7, 8, 1, 2, 3, 4, 5, 6, 10, 1, 2, 3, 4, 9, 10, 5, 5, 5, 1, 2, 3, 4, 5, 6, 1, 2, 3, 4, 1, 2, 3, 4, 5, 6, 7, 8, 10, 1, 2, 3, 5, 6, 1, 2, 4, 5, 6, 1, 2, 3, 4, 5, 6, 7, 8, 9, 1, 2, 1, 2, 3, 4, 9, 7, 7, 6, 1, 2, 3, 6, 7, 8, 9, 1, 6, 7, 1, 2, 3, 4, 5, 6, 7, 8, 1, 2, 6, 10, 6, 5, 1, 2, 3, 4, 5, 6, 7, 9, 10, 1, 2, 3, 7, 8, 9, 10, 10, 1, 2, 3, 7, 10, 1, 2, 3, 4, 5, 6, 7, 8, 9, 10, 1, 1, 2, 3, 9, 3, 2, 4, 6, 1, 2, 3, 4, 5, 6, 7, 8, 9, 10, 9, 4, 1, 2, 3, 4, 5, 6, 7, 8, 9, 4, 1, 2, 3, 4, 5, 6, 7, 8, 1, 2, 3, 4, 5, 6, 7, 8, 10, 1, 2, 3, 4, 5, 6, 7, 10, 2, 8, 3, 4, 10, 9, 1, 2, 3, 4, 5, 6, 7, 8, 10, 9, 10, 1, 2, 3, 4, 5, 6, 7, 8, 9, 10, 1, 2, 3, 4, 5, 6, 2, 3, 4, 2, 3, 5, 6, 1, 2, 3, 5, 9, 1, 1, 2, 3, 5, 6, 9, 10, 2, 9, 4, 7, 3, 6, 8, 1, 3, 1, 2, 4, 6, 1, 4, 1, 2, 3, 4, 5, 8, 2, 8, 6, 2, 5, 10, 2, 1, 2, 3, 6, 10, 2, 6, 8, 3, 10, 5, 1, 2, 3, 4, 5, 6, 7, 7, 1, 1, 2, 3, 4, 6, 7, 9, 10, 2, 9, 2, 1, 4, 7, 6, 8, 1, 2, 3, 5, 8, 1, 2, 3, 4, 5, 7, 9, 1, 2, 3, 4, 5, 7, 1, 2, 3, 4, 5, 6, 8, 10, 1, 2, 5, 7, 2, 3, 1, 2, 3, 5, 6, 7, 8, 9, 10, 4, 1, 2, 8, 1, 2, 3, 4, 5, 6, 7, 8, 10, 9, 1, 2, 3, 8, 10, 8, 1, 2, 6, 10, 9, 1, 2, 3, 4, 5, 6, 5, 2, 9, 9, 1, 1, 3, 5, 3, 7, 1, 2, 3, 4, 5, 6, 9, 2, 3, 4, 5, 2, 1, 2, 3, 10, 5, 1, 2, 3, 4, 5, 6, 7, 9, 10, 4, 1, 2, 3, 4, 5, 6, 7, 8, 9, 10, 1, 2, 3, 6, 7, 4, 1, 4, 6, 7, 2, 7, 1, 2, 3, 5, 6, 10, 1, 3, 4, 5, 7, 4, 9, 7, 1, 2, 5, 6, 7, 10, 7, 1, 2, 3, 4, 5, 1, 7, 8, 1, 4, 2, 1, 2, 5, 1, 2, 1, 2, 3, 4, 5, 6, 7, 8, 9, 2, 8, 1, 9, 1, 2, 3, 4, 6, 7, 9, 9, 1, 2, 3, 4, 5, 6, 7, 8, 10, 1, 2, 3, 4, 5, 6, 7, 9, 10, 1, 2, 3, 4, 5, 6, 7, 8, 1, 2, 9, 1, 2, 3, 5, 6, 7, 9, 1, 2, 3, 9, 3, 6, 3, 1, 2, 3, 4, 5, 6, 7, 8, 9, 10, 3, 8, 1, 2, 3, 4, 5, 7, 1, 2, 3, 4, 6, 7, 8, 10, 8, 1, 2, 3, 4, 5, 7, 10, 1, 2, 3, 4, 5, 6, 10, 5, 1, 2, 4, 7, 1, 2, 3, 4, 5, 6, 7, 9, 10, 6, 3, 1, 3, 2, 2, 3, 6, 1, 2, 4, 7, 1, 2, 3, 7, 1, 2, 3, 9, 9, 8, 6, 10, 7, 1, 2, 3, 4, 5, 6, 7, 8, 9, 10, 1, 2, 3, 4, 5, 6, 7, 8, 9, 1, 2, 3, 4, 5, 6, 7, 8, 9, 10, 1, 2, 3, 4, 5, 6, 7, 8, 10, 2, 2, 3, 4, 1, 2, 4, 5, 6, 7, 10, 1, 2, 7, 9, 7, 1, 2, 3, 4, 5, 6, 7, 8, 10, 1, 3, 1, 2, 3, 5, 6, 9, 7, 1, 2, 3, 4, 5, 6, 7, 8, 9, 10, 3, 2, 8, 7, 6, 1, 2, 3, 4, 6, 1, 2, 3, 4, 5, 6, 7, 8, 9, 10, 1, 2, 3, 4, 5, 6, 7, 1, 5, 1, 5, 1, 7, 5, 1, 2, 3, 4, 5, 6, 7, 8, 9, 10, 1, 2, 3, 4, 5, 6, 7, 8, 10, 1, 2, 3, 5, 6, 7, 9, 10, 9, 1, 2, 3, 4, 5, 6, 7, 8, 9, 10, 1, 3, 1, 2, 3, 4, 5, 6, 7, 10, 9, 1, 2, 3, 5, 9, 5, 1, 2, 3, 4, 5, 6, 7, 8, 9, 10, 9, 3, 5, 6], \"Freq\": [0.22843256078899238, 0.6852976823669772, 0.5194496012740284, 0.9120367900276394, 0.13527865116364804, 0.8116719069818883, 0.7669731616977066, 0.7705777080820931, 0.1100825297260133, 0.6434466098387129, 0.8587609409777042, 0.5036863457480386, 0.9040758436560007, 0.8897627554831107, 0.16313418662445414, 0.6525367464978166, 0.16313418662445414, 0.5888089007448291, 0.6085172965916696, 0.7760246682468436, 0.2533798341132619, 0.2171827149542245, 0.14478847663614966, 0.036197119159037415, 0.14478847663614966, 0.10859135747711225, 0.14478847663614966, 0.8510152782488508, 0.1179953121088856, 0.5191793732790967, 0.07079718726533137, 0.04719812484355424, 0.16519343695243985, 0.02359906242177712, 0.02359906242177712, 0.49946500175532055, 0.8147992775590103, 0.21553510378230664, 0.6466053113469199, 0.137731022281749, 0.11805516195578485, 0.0983793016298207, 0.07870344130385656, 0.01967586032596414, 0.45254478749717525, 0.05902758097789242, 0.03935172065192828, 0.01967586032596414, 0.5947203116542589, 0.5641138751690022, 0.8360294265525329, 0.15682032583913366, 0.41165335532772585, 0.11761524437935024, 0.05880762218967512, 0.13721778510924196, 0.039205081459783415, 0.07841016291956683, 0.019602540729891708, 0.27088056687256024, 0.16930035429535015, 0.13544028343628012, 0.03386007085907003, 0.06772014171814006, 0.06772014171814006, 0.03386007085907003, 0.20316042515442018, 0.188190438922171, 0.5645713167665131, 0.45637579981405896, 0.21226781386700416, 0.1485874697069029, 0.031840172080050626, 0.05306695346675104, 0.021226781386700415, 0.04245356277340083, 0.010613390693350207, 0.031840172080050626, 0.28150891119047716, 0.5630178223809543, 0.2745207820853432, 0.11303796909396485, 0.19377937558965402, 0.048444843897413506, 0.048444843897413506, 0.08074140649568919, 0.016148281299137836, 0.17763109429051618, 0.03229656259827567, 0.6154624144266894, 0.14876300533210104, 0.1081912766051644, 0.0811434574538733, 0.4733368351475942, 0.13523909575645549, 0.04057172872693665, 0.0270478191512911, 0.01352390957564555, 0.4245774657241299, 0.9165914337091673, 0.8517426704647907, 0.2788524084896655, 0.18590160565977704, 0.13942620424483276, 0.09295080282988852, 0.04647540141494426, 0.2788524084896655, 0.3173362309363246, 0.2740631085359167, 0.2019412378685702, 0.0288487482669386, 0.0288487482669386, 0.0288487482669386, 0.0432731224004079, 0.0144243741334693, 0.0288487482669386, 0.0288487482669386, 0.6637784750689651, 0.06034349773354228, 0.12068699546708456, 0.06034349773354228, 0.06034349773354228, 0.25121904059581224, 0.7536571217874368, 0.2138577059516376, 0.1425718039677584, 0.23761967327959735, 0.0712859019838792, 0.2138577059516376, 0.0712859019838792, 0.04752393465591947, 0.023761967327959734, 0.1837897440189446, 0.12252649601262973, 0.24505299202525946, 0.42884273604420403, 0.6844451781894041, 0.10368460896777165, 0.24193075425813387, 0.0691230726451811, 0.4147384358710866, 0.03456153632259055, 0.10368460896777165, 0.03456153632259055, 0.03456153632259055, 0.15465621863078263, 0.09279373117846958, 0.6804873619754436, 0.015465621863078262, 0.04639686558923479, 0.015465621863078262, 0.2520431353305949, 0.5040862706611898, 0.13433780241642296, 0.6716890120821148, 0.13433780241642296, 0.13433780241642296, 0.09380021506916175, 0.1876004301383235, 0.09380021506916175, 0.5159011828803896, 0.14070032260374263, 0.5141941040685393, 0.044712530788568634, 0.044712530788568634, 0.022356265394284317, 0.3800565117028334, 0.7384157740095216, 0.0713424937355271, 0.713424937355271, 0.0713424937355271, 0.0713424937355271, 0.0713424937355271, 0.463318944411889, 0.7406368984007448, 0.6576546498973898, 0.2651794064348169, 0.2305907882041886, 0.17294309115314146, 0.04611815764083772, 0.06917723646125658, 0.05764769705104715, 0.10376585469188487, 0.01152953941020943, 0.02305907882041886, 0.02305907882041886, 0.6825585863349817, 0.5233332013280417, 0.7514015290192566, 0.516746570357932, 0.1648783742520437, 0.29311710978141103, 0.4030360259494402, 0.01831981936133819, 0.05495945808401457, 0.03663963872267638, 0.01831981936133819, 0.24364741585415542, 0.24364741585415542, 0.48729483170831084, 0.6976221073439542, 0.20686802253616438, 0.7585160826326026, 0.06895600751205479, 0.1833698271290661, 0.1974751984466866, 0.08463222790572282, 0.04231611395286141, 0.02821074263524094, 0.07052685658810236, 0.3949503968933732, 0.1597505294021072, 0.1797193455773706, 0.0798752647010536, 0.0199688161752634, 0.5191892205568484, 0.0199688161752634, 0.4712773136200186, 0.6279554882271463, 0.08372739843028618, 0.04186369921514309, 0.25118219529085856, 0.09645946435168262, 0.6752162504617784, 0.09645946435168262, 0.2146008893843074, 0.5722690383581531, 0.014306725958953827, 0.028613451917907654, 0.028613451917907654, 0.05722690383581531, 0.028613451917907654, 0.028613451917907654, 0.014306725958953827, 0.15093315578371058, 0.15093315578371058, 0.6037326231348423, 0.15093315578371058, 0.8817023120129118, 0.19205396389792934, 0.22545465327148226, 0.22545465327148226, 0.07515155109049408, 0.05845120640371762, 0.05010103406032939, 0.07515155109049408, 0.03340068937355293, 0.06680137874710586, 0.008350172343388232, 0.644343508307957, 0.1288687016615914, 0.0644343508307957, 0.0644343508307957, 0.0644343508307957, 0.19805621101173337, 0.21456089526271116, 0.14854215825880002, 0.049514052752933344, 0.016504684250977782, 0.23106557951368895, 0.06601873700391113, 0.033009368501955565, 0.016504684250977782, 0.033009368501955565, 0.28593662982281715, 0.4289049447342257, 0.8850249247504448, 0.6814692647333456, 0.09086256863111274, 0.09086256863111274, 0.04543128431555637, 0.04543128431555637, 0.09086256863111274, 0.07554756852579984, 0.7554756852579984, 0.07554756852579984, 0.5422259248335315, 0.839216214156604, 0.4718267002741583, 0.0878037313020436, 0.878037313020436, 0.1459636356186621, 0.5838545424746484, 0.0486545452062207, 0.0486545452062207, 0.0973090904124414, 0.0486545452062207, 0.15287746008861852, 0.36690590421268443, 0.10191830672574567, 0.11211013739832024, 0.050959153362872836, 0.09172647605317111, 0.07134281470802196, 0.030575492017723704, 0.010191830672574568, 0.010191830672574568, 0.3249785822619196, 0.2599828658095357, 0.12999143290476786, 0.19498714935715178, 0.03576480337944135, 0.10729441013832405, 0.0715296067588827, 0.03576480337944135, 0.7510608709682683, 0.7274179046130849, 0.40956978482870154, 0.10239244620717539, 0.10239244620717539, 0.05119622310358769, 0.10239244620717539, 0.25598111551793845, 0.2976143847778949, 0.14880719238894746, 0.14880719238894746, 0.2976143847778949, 0.8674821535716595, 0.13657665137615818, 0.6828832568807909, 0.13657665137615818, 0.16402854326208166, 0.2460428148931225, 0.08201427163104083, 0.4100713581552042, 0.2900358918324344, 0.5800717836648688, 0.13787684188116164, 0.13787684188116164, 0.6893842094058082, 0.6528445474129916, 0.07253828304588796, 0.21761484913766385, 0.07253828304588796, 0.7962018509844487, 0.7927918111312988, 0.5368596709231624, 0.24400222773581903, 0.48800445547163807, 0.7277065721843998, 0.1874297178120887, 0.1955788359778317, 0.04889470899445793, 0.34226296296120545, 0.024447354497228964, 0.0651929453259439, 0.08964029982317286, 0.016298236331485975, 0.024447354497228964, 0.024447354497228964, 0.6098462011802379, 0.06776068902002644, 0.27104275608010575, 0.8042335336113543, 0.11489050480162204, 0.849992998386681, 0.6670543378469441, 0.7257309241644045, 0.541293626790431, 0.4875340152272823, 0.853795047728073, 0.6407174663336046, 0.8603870825351094, 0.4922314048671078, 0.5676690419321045, 0.2838345209660523, 0.056766904193210455, 0.056766904193210455, 0.056766904193210455, 0.056766904193210455, 0.6849782737362882, 0.48830564153063943, 0.20688984250170614, 0.3103347637525592, 0.17240820208475513, 0.03448164041695102, 0.10344492125085307, 0.1379265616678041, 0.33290273811240234, 0.33290273811240234, 0.19419326389890137, 0.027741894842700197, 0.055483789685400395, 0.027741894842700197, 0.027741894842700197, 0.013870947421350099, 0.6300891838787556, 0.7444536831900789, 0.5446701563113873, 0.15428679233338705, 0.11571509425004028, 0.5785754712502014, 0.03857169808334676, 0.03857169808334676, 0.03857169808334676, 0.03857169808334676, 0.8323624781767831, 0.06043490255940293, 0.06043490255940293, 0.24173961023761173, 0.12086980511880586, 0.06043490255940293, 0.06043490255940293, 0.36260941535641755, 0.06043490255940293, 0.8175868386250086, 0.16351736772500172, 0.6820376579222278, 0.17050941448055695, 0.3741493056311496, 0.3741493056311496, 0.5730640711093298, 0.5868847019468858, 0.14261329483725005, 0.10695997112793754, 0.6684998195496096, 0.017826661854656256, 0.008913330927328128, 0.017826661854656256, 0.026739992781984384, 0.008913330927328128, 0.5161825076378466, 0.11861320863831203, 0.11861320863831203, 0.7512169880426428, 0.1722754704524345, 0.08613773522621725, 0.689101881809738, 0.02871257840873908, 0.8190099873409016, 0.04824338862330251, 0.14473016586990753, 0.09648677724660502, 0.04824338862330251, 0.6271640521029327, 0.6025500866083466, 0.09484270564865115, 0.04742135282432557, 0.3793708225946046, 0.3793708225946046, 0.04742135282432557, 0.45695806464929273, 0.5197566550319432, 0.7840499679868562, 0.3642805981881418, 0.5464208972822127, 0.6491573842441738, 0.09367551099189124, 0.09367551099189124, 0.18735102198378248, 0.09367551099189124, 0.14051326648783685, 0.04683775549594562, 0.2810265329756737, 0.04683775549594562, 0.25519269458715954, 0.07655780837614787, 0.17863488621101167, 0.15311561675229574, 0.2807119640458755, 0.025519269458715955, 0.025519269458715955, 0.6415847738179637, 0.6226790892762697, 0.5267338291562105, 0.8682945187961653, 0.08411340913585683, 0.04205670456792841, 0.8411340913585682, 0.04205670456792841, 0.48830564153063943, 0.2374498234173918, 0.17808736756304383, 0.1582998822782612, 0.21766233813260913, 0.0791499411391306, 0.05936245585434795, 0.01978748528478265, 0.01978748528478265, 0.0395749705695653, 0.01978748528478265, 0.551450488601102, 0.09190841476685034, 0.21445296778931744, 0.030636138255616778, 0.061272276511233556, 0.030636138255616778, 0.7893039898072686, 0.6810387707314246, 0.24751962695771862, 0.1980157015661749, 0.09900785078308745, 0.049503925391543725, 0.24751962695771862, 0.14851177617463118, 0.11520728857159472, 0.11520728857159472, 0.4608291542863789, 0.11520728857159472, 0.3801208939101168, 0.21895566052039095, 0.14279716990460278, 0.17135660388552335, 0.16183679255854982, 0.06663867928881463, 0.0951981132697352, 0.06663867928881463, 0.0475990566348676, 0.009519811326973519, 0.019039622653947038, 0.24650034078179592, 0.16433356052119727, 0.08216678026059863, 0.49300068156359184, 0.07965439554717513, 0.15930879109435025, 0.07965439554717513, 0.637235164377401, 0.9568044516148398, 0.827430590165249, 0.4536844685592992, 0.4536844685592992, 0.14079757203641066, 0.14079757203641066, 0.02815951440728213, 0.05631902881456426, 0.4787117449237962, 0.16895708644369278, 0.2222819812500315, 0.08335574296876182, 0.05557049531250788, 0.2222819812500315, 0.11114099062501576, 0.2500672289062854, 0.02778524765625394, 0.23874355941855183, 0.07958118647285062, 0.42443299452186994, 0.07958118647285062, 0.15916237294570124, 0.7031385546407848, 0.7553078470261697, 0.12029887015307096, 0.06014943507653548, 0.8420920910714967, 0.7379808126182451, 0.07379808126182451, 0.07379808126182451, 0.07379808126182451, 0.19358770763225164, 0.15056821704730683, 0.34415592467955847, 0.021509745292472404, 0.021509745292472404, 0.10754872646236201, 0.08603898116988962, 0.08603898116988962, 0.7376128906269388, 0.8610237254446323, 0.10971950793476365, 0.10971950793476365, 0.4388780317390546, 0.32915852380429095, 0.7919919136086642, 0.09953474435083315, 0.09953474435083315, 0.09953474435083315, 0.09953474435083315, 0.49767372175416574, 0.7760246682468436, 0.2590700068207802, 0.21921308269450632, 0.23914154475764327, 0.019928462063136938, 0.1594276965050955, 0.019928462063136938, 0.039856924126273875, 0.019928462063136938, 0.019928462063136938, 0.2838050656259229, 0.24206902656328716, 0.23372181875076004, 0.050083246875162864, 0.04173603906263572, 0.05843045468769001, 0.04173603906263572, 0.016694415625054287, 0.016694415625054287, 0.016694415625054287, 0.24117699279322705, 0.12058849639661352, 0.24117699279322705, 0.24117699279322705, 0.5563121710107655, 0.13115847023028215, 0.13115847023028215, 0.13115847023028215, 0.13115847023028215, 0.39347541069084646, 0.11113717879168136, 0.11113717879168136, 0.14818290505557516, 0.05556858939584068, 0.018522863131946895, 0.5371630308264599, 0.018522863131946895, 0.04844732521374531, 0.24223662606872653, 0.04844732521374531, 0.24223662606872653, 0.09689465042749063, 0.04844732521374531, 0.04844732521374531, 0.14534197564123594, 0.04844732521374531, 0.5641138751690022, 0.1848954034141997, 0.2958326454627195, 0.1848954034141997, 0.1109372420485198, 0.036979080682839935, 0.14791632273135974, 0.2367106845703903, 0.7101320537111708, 0.21287610060367537, 0.17296183174048624, 0.39914268863189134, 0.07982853772637827, 0.02660951257545942, 0.039914268863189134, 0.02660951257545942, 0.02660951257545942, 0.02660951257545942, 0.8039819190274331, 0.09587468661108338, 0.09587468661108338, 0.766997492888667, 0.12765942579053455, 0.6382971289526728, 0.12765942579053455, 0.44178944442524853, 0.1562461675855189, 0.7421692960312148, 0.039061541896379726, 0.039061541896379726, 0.039061541896379726, 0.2546530314625676, 0.5093060629251353, 0.4730080195248001, 0.44004260181351085, 0.26891492333047884, 0.09778724484744686, 0.04889362242372343, 0.04889362242372343, 0.07334043363558514, 0.5052476101537582, 0.7825109123588008, 0.28270445427485064, 0.28270445427485064, 0.1837578952786529, 0.02827044542748506, 0.02827044542748506, 0.05654089085497012, 0.14135222713742532, 0.16709639297605808, 0.7519337683922614, 0.19948661905310705, 0.09207074725528018, 0.16879636996801367, 0.015345124542546697, 0.42966348719130754, 0.030690249085093393, 0.07672562271273349, 0.4440923197164294, 0.16848586558055795, 0.22464782077407727, 0.16848586558055795, 0.02808097759675966, 0.05616195519351932, 0.25272879837083695, 0.05616195519351932, 0.02808097759675966, 0.5052867948197527, 0.7834134809397229, 0.277474721679338, 0.2081060412595035, 0.0693686804198345, 0.34684340209917247, 0.0693686804198345, 0.8041158044827235, 0.11487368635467478, 0.11487368635467478, 0.3342435720432758, 0.1671217860216379, 0.3342435720432758, 0.2729674220112478, 0.1559813840064273, 0.11698603800482048, 0.038995346001606826, 0.07799069200321365, 0.038995346001606826, 0.038995346001606826, 0.19497673000803412, 0.07799069200321365, 0.7915521186165836, 0.1978880296541459, 0.33937534279442033, 0.22625022852961357, 0.19297813609878806, 0.03992651091699063, 0.059889766375485945, 0.03992651091699063, 0.05323534788932084, 0.019963255458495314, 0.006654418486165105, 0.006654418486165105, 0.7519439985035344, 0.14389120002520853, 0.09592746668347236, 0.19185493336694473, 0.33574613339215326, 0.04796373334173618, 0.04796373334173618, 0.04796373334173618, 0.9603047483005673, 0.05760223921793285, 0.8640335882689928, 0.05760223921793285, 0.2293886955151582, 0.17204152163636866, 0.1146943477575791, 0.019115724626263184, 0.09557862313131592, 0.2485044201414214, 0.07646289850505274, 0.03823144925252637, 0.12276933866588677, 0.18415400799883017, 0.5524620239964905, 0.12276933866588677, 0.061384669332943384, 0.6100990220600554, 0.19661758890327255, 0.21449191516720642, 0.3574865252786774, 0.06256014192376855, 0.03574865252786774, 0.03574865252786774, 0.026811489395900803, 0.053622978791801605, 0.008937163131966935, 0.008937163131966935, 0.22639393211618064, 0.21381649144305948, 0.1886616100968172, 0.12577440673121146, 0.07546464403872688, 0.10061952538496917, 0.025154881346242292, 0.012577440673121146, 0.025154881346242292, 0.012577440673121146, 0.6087096331250813, 0.679004683128605, 0.45778097590596045, 0.4327966606856663, 0.15457023595916652, 0.2009413067469165, 0.04637107078774996, 0.06182809438366661, 0.015457023595916653, 0.04637107078774996, 0.04637107078774996, 0.2101175167899384, 0.1575881375924538, 0.5778231711723306, 0.10935293153185277, 0.21870586306370554, 0.10935293153185277, 0.3280587945955583, 0.10935293153185277, 0.10935293153185277, 0.7505632049739275, 0.4715843591174679, 0.2610053689094823, 0.6960143170919527, 0.6125569445638759, 0.2009432749079331, 0.22606118427142474, 0.15070745618094983, 0.12558954681745818, 0.050235818726983274, 0.2009432749079331, 0.050235818726983274, 0.2694938603084245, 0.14822162316963347, 0.1616963161850547, 0.040424079046263675, 0.06737346507710612, 0.0538987720616849, 0.17517100920047593, 0.06737346507710612, 0.013474693015421224, 0.29476358266814057, 0.5895271653362811, 0.6297977797587306, 0.17000783645242298, 0.08500391822621149, 0.25501175467863446, 0.042501959113105746, 0.12750587733931723, 0.042501959113105746, 0.042501959113105746, 0.2125097955655287, 0.042501959113105746, 0.6182183268140992, 0.8296537458447085, 0.11403929649011438, 0.5701964824505719, 0.17105894473517158, 0.05701964824505719, 0.6905968423985566, 0.1381193684797113, 0.0920795789864742, 0.0460397894932371, 0.4433014244921382, 0.8180214986047909, 0.19776832678342293, 0.11301047244767025, 0.25427356300725806, 0.08475785433575268, 0.2825261811191756, 0.028252618111917562, 0.820746903079658, 0.16961378538503608, 0.06360516951938854, 0.06360516951938854, 0.04240344634625902, 0.12721033903877707, 0.2120172317312951, 0.1908155085581656, 0.04240344634625902, 0.04240344634625902, 0.04240344634625902, 0.23588143577677786, 0.21443766888797985, 0.12866260133278792, 0.021443766888797986, 0.04288753377759597, 0.25732520266557585, 0.04288753377759597, 0.021443766888797986, 0.021443766888797986, 0.47216526791234786, 0.6422044922332046, 0.07135605469257829, 0.14271210938515658, 0.07135605469257829, 0.8147992775590103, 0.8789087467802358, 0.21944890110629042, 0.21944890110629042, 0.10972445055314521, 0.054862225276572606, 0.27431112638286304, 0.054862225276572606, 0.7180012581799716, 0.5321014926153431, 0.03663567344758261, 0.10990702034274784, 0.5495351017137392, 0.03663567344758261, 0.03663567344758261, 0.10990702034274784, 0.07327134689516522, 0.20213260083592646, 0.6063978025077794, 0.6772620051376861, 0.08465775064221076, 0.16931550128442152, 0.4244695299693075, 0.920306598291253, 0.18175656360235506, 0.18175656360235506, 0.36351312720471013, 0.24445246773741464, 0.31112132257489133, 0.04444590322498448, 0.1111147580624612, 0.26667541934990685, 0.7663495805263567, 0.5398992310828721, 0.07198656414438294, 0.07198656414438294, 0.03599328207219147, 0.03599328207219147, 0.14397312828876588, 0.07198656414438294, 0.03599328207219147, 0.5641138751690022, 0.5358831606216578, 0.27903750516613307, 0.20293636739355134, 0.1522022755451635, 0.11415170665887261, 0.06341761481048479, 0.08878466073467871, 0.012683522962096959, 0.050734091848387834, 0.012683522962096959, 0.11604185585443189, 0.6962511351265913, 0.11604185585443189, 0.5001093816522387, 0.6182040301904683, 0.6294023605461937, 0.1888207081638581, 0.12588047210923872, 0.3989090427479468, 0.3989090427479468, 0.2751324546887544, 0.5502649093775088, 0.14613135644319583, 0.14613135644319583, 0.5845254257727833, 0.2239753350213177, 0.1567827345149224, 0.1343852010127906, 0.04479506700426354, 0.08959013400852708, 0.02239753350213177, 0.33596300253197653, 0.6626262569626593, 0.30880478012771034, 0.23160358509578274, 0.30880478012771034, 0.5768829568264567, 0.26308589532151877, 0.4604003168126578, 0.16442868457594922, 0.06577147383037969, 0.032885736915189846, 0.19096938446954562, 0.19096938446954562, 0.5729081534086368, 0.45928239754608535, 0.480843933207148, 0.12141195527533753, 0.12141195527533753, 0.6070597763766876, 0.21379803604037267, 0.641394108121118, 0.4740903043878937, 0.11852257609697342, 0.2963064402424335, 0.322287053089087, 0.08057176327227175, 0.1611435265445435, 0.1611435265445435, 0.24171528981681525, 0.2542990953392922, 0.1652944119705399, 0.18436684412098683, 0.19708179888795144, 0.050859819067858435, 0.06357477383482305, 0.04450234168437613, 0.006357477383482304, 0.012714954766964609, 0.019072432150446912, 0.8292043278799287, 0.1184577611257041, 0.8028015459925517, 0.7904109899612161, 0.5064798801219961, 0.19061669337882042, 0.14977025908335892, 0.19061669337882042, 0.29954051816671784, 0.04084643429546152, 0.08169286859092303, 0.04084643429546152, 0.013615478098487174, 0.26817010489060467, 0.21453608391248374, 0.10726804195624187, 0.26817010489060467, 0.08045103146718141, 0.026817010489060468, 0.026817010489060468, 0.2546663777115096, 0.5093327554230191, 0.221513531029088, 0.166135148271816, 0.221513531029088, 0.055378382757272, 0.055378382757272, 0.027689191378636, 0.221513531029088, 0.027689191378636, 0.4719187156296777, 0.1506123560520248, 0.14057153231522315, 0.22089812220963637, 0.010040823736801653, 0.18826718815988253, 0.1647337896398972, 0.18826718815988253, 0.07060019555995595, 0.04706679703997063, 0.23533398519985316, 0.035300097779977974, 0.011766699259992658, 0.023533398519985316, 0.035300097779977974, 0.6391746453211931, 0.35902036123480824, 0.24362095940933418, 0.21797664789256216, 0.038466467275158026, 0.038466467275158026, 0.051288623033544034, 0.038466467275158026, 0.012822155758386009, 0.012822155758386009, 0.4614486143642909, 0.5251781247288431, 0.5091557230738991, 0.8307253797615082, 0.10333357995008298, 0.06888905330005532, 0.7233350596505809, 0.06888905330005532, 0.7420869812304739, 0.7936840051067384, 0.15873680102134768, 0.25086901846683873, 0.25086901846683873, 0.5017380369336775, 0.25371775106936484, 0.12685887553468242, 0.38057662660404723, 0.8876296991126171, 0.30426809448776926, 0.10142269816258975, 0.405690792650359, 0.10142269816258975, 0.6175741578837878, 0.4962026988704388, 0.7760246682468436, 0.7502546354241602, 0.13540731306918652, 0.13540731306918652, 0.13540731306918652, 0.40622193920755956, 0.13540731306918652, 0.5585857252880562, 0.10473482349151053, 0.10473482349151053, 0.03491160783050351, 0.17455803915251755, 0.03491160783050351, 0.6284752238955617, 0.17534929097266813, 0.17534929097266813, 0.21041914916720175, 0.04909780147234708, 0.1402794327781345, 0.042083829833440355, 0.07715368802797398, 0.007013971638906725, 0.11923751786141433, 0.6487324059969632, 0.6749685724230355, 0.256097692906296, 0.2439025646726629, 0.2195123082053966, 0.06097564116816573, 0.07317076940179887, 0.04878051293453258, 0.036585384700899434, 0.036585384700899434, 0.02439025646726629, 0.41165514657747543, 0.5758258569822805, 0.7940367442609272, 0.35438907267653835, 0.2011397439515488, 0.2777644083140436, 0.03831233218124739, 0.05746849827187108, 0.019156166090623695, 0.047890415226559235, 0.9115837332405479, 0.6572428793240161, 0.6491573842441738, 0.5851677755042528, 0.7490262828704061, 0.13056056901983923, 0.3264014225495981, 0.19584085352975883, 0.06528028450991961, 0.19584085352975883, 0.26264805785115664, 0.15321136707984137, 0.17509870523410442, 0.2407607196968936, 0.06566201446278916, 0.06566201446278916, 0.021887338154263053, 0.021887338154263053, 0.4810476176340977, 0.1765287151913971, 0.24714020126795594, 0.10591722911483825, 0.423668916459353, 0.03530574303827942, 0.9192035048157322, 0.7859457129541565, 0.28967669942000185, 0.21015760546156997, 0.23287734659255052, 0.06247928811019648, 0.06247928811019648, 0.06247928811019648, 0.039759546979215944, 0.017039805848235404, 0.011359870565490269, 0.005679935282745134, 0.4803328326245695, 0.25507821229870825, 0.08502607076623608, 0.5101564245974165, 0.08502607076623608, 0.1959558799378823, 0.1959558799378823, 0.1959558799378823, 0.14251336722755076, 0.07125668361377538, 0.017814170903443845, 0.03562834180688769, 0.017814170903443845, 0.08907085451721923, 0.03562834180688769, 0.206266573962014, 0.12032216814450818, 0.18907769279851286, 0.2750220986160187, 0.06875552465400467, 0.0515666434905035, 0.0515666434905035, 0.034377762327002334, 0.47076831380204925, 0.6229344038884311, 0.8104721712367142, 0.09111112964941405, 0.09111112964941405, 0.09111112964941405, 0.6377779075458984, 0.09111112964941405, 0.8609044795424192, 0.07826404359476538, 0.783927481637047, 0.1483184591737139, 0.22247768876057084, 0.18539807396714236, 0.03707961479342847, 0.2966369183474278, 0.03707961479342847, 0.03707961479342847, 0.03707961479342847, 0.03707961479342847, 0.4738752443846742, 0.3066251581312598, 0.055750028751138145, 0.055750028751138145, 0.055750028751138145, 0.055750028751138145, 0.8194393344931136, 0.8521840384409611, 0.87047723888326, 0.18316348725023787, 0.18316348725023787, 0.5494904617507136, 0.1692625079676178, 0.22568334395682374, 0.4419632152487798, 0.06582430865407359, 0.009403472664867655, 0.07522778131894124, 0.009403472664867655, 0.009403472664867655, 0.5641138751690022, 0.814615734601812, 0.135769289100302, 0.5475299044748422, 0.13688247611871054, 0.22813746019785092, 0.04562749203957018, 0.04562749203957018, 0.1512879602546576, 0.3025759205093152, 0.22693194038198639, 0.0756439801273288, 0.025214660042442934, 0.0756439801273288, 0.05042932008488587, 0.0756439801273288, 0.21517616014663377, 0.6455284804399013, 0.218694818251251, 0.30617274555175145, 0.06560844547537531, 0.04373896365025021, 0.218694818251251, 0.1093474091256255, 0.021869481825125103, 0.08642642281548905, 0.6914113825239124, 0.02880880760516302, 0.05761761521032604, 0.02880880760516302, 0.05761761521032604, 0.02880880760516302, 0.3473303876477234, 0.11577679588257447, 0.1736651938238617, 0.05788839794128724, 0.23155359176514895, 0.5996606399464198, 0.4769571620572918, 0.4875340152272823, 0.8221386090698335, 0.167020949763868, 0.1503188547874812, 0.083510474881934, 0.4843607543152172, 0.083510474881934, 0.016702094976386802, 0.10384486209341498, 0.20768972418682996, 0.20768972418682996, 0.46730187942036744, 0.24341360577432164, 0.22989062767574822, 0.2839825400700419, 0.0540919123942937, 0.08113786859144055, 0.0540919123942937, 0.02704595619714685, 0.013522978098573425, 0.013522978098573425, 0.16336011511329393, 0.5989870887487444, 0.08168005755664696, 0.05445337170443131, 0.05445337170443131, 0.052297863057018994, 0.10459572611403799, 0.7321700827982659, 0.052297863057018994, 0.052297863057018994, 0.27320708100015917, 0.1912449567001114, 0.20490531075011936, 0.0956224783500557, 0.06830177025003979, 0.10928283240006366, 0.040981062150023874, 0.013660354050007957, 0.013660354050007957, 0.7604844482045593, 0.15209688964091186, 0.08309125336667779, 0.16618250673335558, 0.08309125336667779, 0.08309125336667779, 0.4985475202000667, 0.5986047914374157, 0.6958395993625413, 0.5653966613999482, 0.2560764419100313, 0.5121528838200626, 0.10974704653287057, 0.036582348844290194, 0.036582348844290194, 0.036582348844290194, 0.036582348844290194, 0.1637985688276117, 0.8189928441380586, 0.4672527638033175, 0.15559754512721952, 0.1867170541526634, 0.0933585270763317, 0.01555975451272195, 0.01555975451272195, 0.0311195090254439, 0.0311195090254439, 0.46679263538165855, 0.7651472056492454, 0.12752453427487423, 0.12752453427487423, 0.5985854081321237, 0.5712988178667735, 0.7037896681499474, 0.1760224540656139, 0.24643143569185946, 0.22882919028529808, 0.05280673621968417, 0.10561347243936833, 0.05280673621968417, 0.03520449081312278, 0.08801122703280695, 0.01760224540656139, 0.047449997085927086, 0.14234999125778125, 0.047449997085927086, 0.09489999417185417, 0.521949967945198, 0.14234999125778125, 0.047449997085927086, 0.6491573842441738, 0.17284615183244642, 0.17284615183244642, 0.17284615183244642, 0.08642307591622321, 0.34569230366489284, 0.2581015919297126, 0.2014451449207513, 0.21403546647829824, 0.08183709012405521, 0.050361286230187825, 0.08183709012405521, 0.0566564470089613, 0.025180643115093913, 0.012590321557546956, 0.018885482336320435, 0.8653585450059285, 0.2392792021468824, 0.047855840429376476, 0.6699817660112707, 0.023927920214688238, 0.926551946739494, 0.20856770226392482, 0.5214192556598121, 0.20856770226392482, 0.18414505642748605, 0.2511068951283901, 0.16740459675226005, 0.033480919350452006, 0.025110689512839006, 0.04185114918806501, 0.04185114918806501, 0.2511068951283901, 0.008370229837613001, 0.008370229837613001, 0.5269991179694243, 0.8022760426525359, 0.2532053386663577, 0.17264000363615298, 0.2186773379391271, 0.11509333575743533, 0.09207466860594826, 0.023018667151487066, 0.057546667878717664, 0.04603733430297413, 0.023018667151487066, 0.7760246682468436, 0.1561842749269077, 0.16919963117081668, 0.13015356243908974, 0.2993531936099064, 0.09110749370736282, 0.09110749370736282, 0.0520614249756359, 0.013015356243908975, 0.16690263558100576, 0.2503539533715086, 0.3004247440458104, 0.016690263558100576, 0.0667610542324023, 0.08345131779050288, 0.0667610542324023, 0.03338052711620115, 0.016690263558100576, 0.06668069106428917, 0.16670172766072291, 0.10002103659643376, 0.36674380085359043, 0.13336138212857834, 0.033340345532144586, 0.13336138212857834, 0.033340345532144586, 0.9009979455710153, 0.711426842836616, 0.8467377287340919, 0.44681433879357446, 0.6415847738179637, 0.574231782506375, 0.25772259434009126, 0.23059390019902903, 0.16277216484637344, 0.0678217353526556, 0.1356434707053112, 0.0678217353526556, 0.01356434707053112, 0.04069304121159336, 0.02712869414106224, 0.29239404101079247, 0.5847880820215849, 0.4542293292265362, 0.13764525128076854, 0.09635167589653798, 0.06882262564038427, 0.04129357538423056, 0.05505810051230742, 0.05505810051230742, 0.04129357538423056, 0.04129357538423056, 0.013764525128076854, 0.4297449215737916, 0.17906038398907986, 0.28649661438252777, 0.03581207679781597, 0.017906038398907986, 0.03581207679781597, 0.11312496163270885, 0.6787497697962531, 0.11312496163270885, 0.07680715625106908, 0.38403578125534543, 0.4608429375064145, 0.07680715625106908, 0.17448560093200666, 0.26172840139801, 0.08724280046600333, 0.17448560093200666, 0.3489712018640133, 0.9252583276684744, 0.11252756122340139, 0.11252756122340139, 0.11252756122340139, 0.45011024489360557, 0.07501837414893427, 0.07501837414893427, 0.03750918707446713, 0.11057283314466443, 0.8845826651573154, 0.17043560394341015, 0.6817424157736406, 0.2183453801149379, 0.2183453801149379, 0.6550361403448137, 0.09875965624808315, 0.8888369062327485, 0.1737392042012586, 0.2606088063018879, 0.0868696021006293, 0.4343480105031465, 0.7713256593797618, 0.9200048337803006, 0.7948513291166132, 0.05320526687382047, 0.6384632024858456, 0.1596158006214614, 0.05320526687382047, 0.05320526687382047, 0.8147992775590103, 0.7154598006425034, 0.6301634111961741, 0.14160520947224997, 0.14160520947224997, 0.5664208378889999, 0.7852463741490395, 0.22122409925750103, 0.031603442751071575, 0.5056550840171452, 0.031603442751071575, 0.18962065650642945, 0.26452996926468675, 0.5290599385293735, 0.6205867858428016, 0.8898418296810723, 0.6430406702315224, 0.8431169250236558, 0.6426997803208256, 0.11081030695186649, 0.11081030695186649, 0.022162061390373296, 0.04432412278074659, 0.022162061390373296, 0.06648618417111989, 0.47791322427666755, 0.8332483437950108, 0.03483557208805917, 0.17417786044029587, 0.48769800923282847, 0.03483557208805917, 0.06967114417611835, 0.03483557208805917, 0.03483557208805917, 0.06967114417611835, 0.8834009987580818, 0.12620014267972596, 0.9501507779971986, 0.16345103339639083, 0.6538041335855633, 0.16345103339639083, 0.5472965359461912, 0.1824321786487304, 0.23535501696612227, 0.07845167232204076, 0.07845167232204076, 0.07845167232204076, 0.47071003393224453, 0.1934038660202596, 0.1547230928162077, 0.07736154640810385, 0.4254885052445711, 0.07736154640810385, 0.07736154640810385, 0.03868077320405192, 0.10495304362885034, 0.20990608725770069, 0.05247652181442517, 0.5247652181442517, 0.05247652181442517, 0.48953485800426505, 0.1596858555467789, 0.22110349229554002, 0.19653643759603556, 0.11055174614777001, 0.20881996494578778, 0.024567054699504445, 0.012283527349752223, 0.06141763674876111, 0.11870163249756985, 0.2374032649951397, 0.5935081624878492, 0.11870163249756985, 0.18559755133203032, 0.7423902053281213, 0.09728947938173005, 0.26754606829975763, 0.07296710953629754, 0.31619080799062266, 0.07296710953629754, 0.024322369845432512, 0.048644739690865024, 0.09728947938173005, 0.5568676148229162, 0.5146488112655073, 0.26781801609884404, 0.13390900804942202, 0.5356360321976881, 0.1233016928833276, 0.07706355805207975, 0.16183347190936748, 0.06935720224687178, 0.4777940599228945, 0.0308254232208319, 0.0308254232208319, 0.0308254232208319, 0.007706355805207975, 0.6391746453211931, 0.20400218468280845, 0.20400218468280845, 0.10200109234140423, 0.30600327702421265, 0.10200109234140423, 0.4627737557945643, 0.10359806778776445, 0.7251864745143513, 0.10359806778776445, 0.44547730251133405, 0.5673743442772627, 0.4337316340152489, 0.2385523987083869, 0.2385523987083869, 0.06505974510228733, 0.021686581700762445, 0.021686581700762445, 0.7441366979720312, 0.23811584316668943, 0.47623168633337887, 0.5674630559888847, 0.8530950045694563, 0.18332789119846254, 0.7333115647938502, 0.6276330400245796, 0.2511768241653574, 0.5023536483307148, 0.18622424983990227, 0.2793363747598534, 0.04655606245997557, 0.09311212491995113, 0.18622424983990227, 0.04655606245997557, 0.1396681873799267, 0.16984915111876414, 0.16984915111876414, 0.08492457555938207, 0.5095474533562924, 0.6899222970347524, 0.17505329355080415, 0.17505329355080415, 0.17505329355080415, 0.3501065871016083, 0.5591592424317352, 0.273247473081191, 0.09936271748406945, 0.1987254349681389, 0.04968135874203473, 0.1987254349681389, 0.04968135874203473, 0.0745220381130521, 0.024840679371017364, 0.024840679371017364, 0.7833529447363465, 0.13121667831715716, 0.14996191807675102, 0.31866907591309596, 0.018745239759593878, 0.037490479519187755, 0.14996191807675102, 0.0937261987979694, 0.018745239759593878, 0.05623571927878164, 0.037490479519187755, 0.17044383283024767, 0.11362922188683178, 0.17044383283024767, 0.11362922188683178, 0.3977022766039112, 0.7793682808745696, 0.27404399662629153, 0.18269599775086104, 0.45673999437715257, 0.09134799887543052, 0.7914254654143237, 0.44538094457890476, 0.18690807881753035, 0.09345403940876518, 0.28036211822629553, 0.09345403940876518, 0.09345403940876518, 0.18690807881753035, 0.13752072982425453, 0.13752072982425453, 0.5500829192970181, 0.13752072982425453, 0.7348138408236159, 0.7391932574824268, 0.5455176387153788, 0.6087218713106854, 0.2075148537903311, 0.2075148537903311, 0.1729290448252759, 0.1729290448252759, 0.10375742689516555, 0.10375742689516555, 0.6202894501485701, 0.12413836985857894, 0.1862075547878684, 0.49655347943431577, 0.12413836985857894, 0.031034592464644736, 0.1566313418018968, 0.1566313418018968, 0.6265253672075872, 0.1918659558215217, 0.5755978674645651, 0.8310938044883355, 0.1850419217828587, 0.1850419217828587, 0.7401676871314348, 0.8643494192244787, 0.08643494192244787, 0.1698568939462542, 0.1698568939462542, 0.2335532291760995, 0.021232111743281774, 0.2335532291760995, 0.0849284469731271, 0.021232111743281774, 0.021232111743281774, 0.04246422348656355, 0.2993419871559685, 0.598683974311937, 0.8653907407886933, 0.5308852094794516, 0.11248010959486594, 0.11248010959486594, 0.33744032878459784, 0.037493369864955314, 0.07498673972991063, 0.11248010959486594, 0.18746684932477656, 0.9436059701882589, 0.17340903687601547, 0.1261156631825567, 0.4414048211389485, 0.03152891579563918, 0.07882228948909795, 0.06305783159127835, 0.03152891579563918, 0.04729337369345877, 0.01576445789781959, 0.3465994447668622, 0.2805805029065075, 0.16504735465088677, 0.016504735465088675, 0.08252367732544338, 0.049514206395266026, 0.03300947093017735, 0.016504735465088675, 0.016504735465088675, 0.4085723678997182, 0.22578999278668638, 0.13977475743937728, 0.021503808836827273, 0.13977475743937728, 0.021503808836827273, 0.021503808836827273, 0.021503808836827273, 0.7123708988115907, 0.11872848313526511, 0.11872848313526511, 0.21556144523903956, 0.2874152603187194, 0.21556144523903956, 0.07185381507967985, 0.035926907539839924, 0.035926907539839924, 0.10778072261951978, 0.12815890204289257, 0.7048739612359092, 0.06407945102144628, 0.06407945102144628, 0.49072014893044186, 0.49072014893044186, 0.9331451652619059, 0.28495159385452623, 0.2514278769304643, 0.20952323077538695, 0.04190464615507739, 0.03352371692406191, 0.058666504617108345, 0.09219022154117025, 0.008380929231015478, 0.008380929231015478, 0.008380929231015478, 0.37048019969133067, 0.555720299536996, 0.20160691155518487, 0.04480153590115219, 0.11200383975288047, 0.06720230385172829, 0.5376184308138263, 0.022400767950576096, 0.22797788475529052, 0.41450524500961916, 0.08290104900192383, 0.04145052450096191, 0.08290104900192383, 0.08290104900192383, 0.020725262250480957, 0.04145052450096191, 0.4524572259021866, 0.48287348897401633, 0.2897240933844098, 0.09657469779480327, 0.032191565931601086, 0.06438313186320217, 0.032191565931601086, 0.6472322535644204, 0.24806640303416475, 0.20672200252847062, 0.12403320151708237, 0.04134440050569413, 0.08268880101138826, 0.04134440050569413, 0.2894108035398589, 0.48830564153063943, 0.8011980506599818, 0.220235721928225, 0.14682381461881666, 0.5872952584752666, 0.35729481674539815, 0.27484216672722933, 0.19238951670906054, 0.0412263250090844, 0.0412263250090844, 0.0412263250090844, 0.0412263250090844, 0.013742108336361468, 0.013742108336361468, 0.4888396017747222, 0.8444472797100244, 0.1263677194902005, 0.758206316941203, 0.8147992775590103, 0.15465863497502183, 0.15465863497502183, 0.6186345399000873, 0.10326005947661722, 0.15489008921492584, 0.4130402379064689, 0.30978017842985167, 0.16016592715242883, 0.6406637086097153, 0.08008296357621442, 0.08008296357621442, 0.10847305537403623, 0.21694611074807246, 0.10847305537403623, 0.5423652768701812, 0.6552097172861845, 0.7745831511447007, 0.25491721700661857, 0.5098344340132371, 0.7805562521754836, 0.253948427890475, 0.24865783564275679, 0.19575191316557447, 0.04232473798174583, 0.06348710697261875, 0.06348710697261875, 0.08464947596349166, 0.015871776743154688, 0.010581184495436458, 0.015871776743154688, 0.22632496966642127, 0.27552605002868674, 0.17712388930415576, 0.04920108036226549, 0.05904129643471859, 0.06888151250717169, 0.11808259286943718, 0.009840216072453098, 0.009840216072453098, 0.15255603487673122, 0.17162553923632262, 0.13348653051713982, 0.038139008719182806, 0.09534752179795701, 0.038139008719182806, 0.2860425653938711, 0.038139008719182806, 0.019069504359591403, 0.019069504359591403, 0.2656412676464354, 0.3837040532670734, 0.1623363302283772, 0.04427354460773924, 0.02951569640515949, 0.02951569640515949, 0.04427354460773924, 0.014757848202579745, 0.014757848202579745, 0.9340958722980143, 0.13939901222581377, 0.13939901222581377, 0.5575960489032551, 0.05534734606058687, 0.22138938424234747, 0.27673673030293433, 0.05534734606058687, 0.11069469212117374, 0.22138938424234747, 0.1660420381817606, 0.1515970896670053, 0.22739563450050795, 0.4547912690010159, 0.07579854483350265, 0.7334691135984523, 0.16557491809154581, 0.19171832621126358, 0.16557491809154581, 0.043572346866196265, 0.08714469373239253, 0.061001285612674774, 0.09585916310563179, 0.008714469373239253, 0.1830038568380243, 0.8063824604050361, 0.16127649208100725, 0.2371276404260659, 0.5137765542564762, 0.11856382021303295, 0.03952127340434432, 0.03952127340434432, 0.03952127340434432, 0.8094933071816963, 0.25374880677623274, 0.1845445867463511, 0.19607862341799803, 0.046136146686587776, 0.12687440338811637, 0.023068073343293888, 0.08073825670152861, 0.046136146686587776, 0.023068073343293888, 0.03460211001494083, 0.7226529702348093, 0.28729812768116036, 0.5745962553623207, 0.5412160082133196, 0.8619822609115246, 0.2563215646760036, 0.47602576296972093, 0.07323473276457244, 0.10985209914685867, 0.03661736638228622, 0.2753792226773284, 0.16522753360639703, 0.2203033781418627, 0.02203033781418627, 0.08812135125674508, 0.06609101344255881, 0.08812135125674508, 0.04406067562837254, 0.011015168907093136, 0.04406067562837254, 0.14253087501293152, 0.11402470001034522, 0.08551852500775892, 0.5131111500465535, 0.05701235000517261, 0.028506175002586304, 0.028506175002586304, 0.9302448873883411, 0.07752040728236176, 0.7567376018472585, 0.12612293364120974, 0.8958653415588242, 0.678355817782837, 0.8047538162679011, 0.2386774794233769, 0.13561220421782777, 0.1518856687239671, 0.027122440843565555, 0.097640787036836, 0.04339590534970489, 0.06509385802455733, 0.1898570859049589, 0.021697952674852444, 0.032546929012278666, 0.15386865674107467, 0.15386865674107467, 0.20002925376339706, 0.0461605970223224, 0.33851104483036426, 0.03077373134821493, 0.0461605970223224, 0.015386865674107466, 0.015386865674107466, 0.10028441515726934, 0.15042662273590401, 0.25071103789317334, 0.10028441515726934, 0.05014220757863467, 0.10028441515726934, 0.20056883031453868, 0.05014220757863467, 0.6459966236889727, 0.2928445052401914, 0.21645028648188058, 0.2801121354471396, 0.038197109379155395, 0.0827604036548367, 0.031830924482629495, 0.038197109379155395, 0.012732369793051798, 0.006366184896525899, 0.006366184896525899, 0.79986794481186, 0.7089051966904706, 0.34880310687594035, 0.13952124275037614, 0.04650708091679205, 0.23253540458396024, 0.0930141618335841, 0.023253540458396026, 0.023253540458396026, 0.0930141618335841, 0.8749374336692445, 0.11845637356677188, 0.07897091571118126, 0.07897091571118126, 0.5527964099782687, 0.1579418314223625, 0.9248512821952181, 0.132056699070964, 0.19808504860644602, 0.08489359225990543, 0.066028349535482, 0.24524815541750458, 0.066028349535482, 0.12262407770875229, 0.009432621362211714, 0.04716310681105857, 0.04716310681105857, 0.7077103611824316, 0.32382240809690255, 0.10794080269896751, 0.43176321079587004], \"Term\": [\"21\", \"21\", \"220\", \"244\", \"2nd\", \"2nd\", \"34\", \"364\", \"364\", \"3x\", \"4x\", \"925\", \"accurately\", \"action\", \"advertising\", \"advertising\", \"advertising\", \"advertized\", \"age\", \"ainda\", \"already\", \"already\", \"already\", \"already\", \"already\", \"already\", \"already\", \"amt\", \"apart\", \"apart\", \"apart\", \"apart\", \"apart\", \"apart\", \"apart\", \"apologized\", \"arp\", \"arrival\", \"arrival\", \"arrived\", \"arrived\", \"arrived\", \"arrived\", \"arrived\", \"arrived\", \"arrived\", \"arrived\", \"arrived\", \"arriving\", \"artex\", \"ash\", \"away\", \"away\", \"away\", \"away\", \"away\", \"away\", \"away\", \"away\", \"awful\", \"awful\", \"awful\", \"awful\", \"awful\", \"awful\", \"awful\", \"awful\", \"awkward\", \"awkward\", \"back\", \"back\", \"back\", \"back\", \"back\", \"back\", \"back\", \"back\", \"back\", \"backwards\", \"backwards\", \"bad\", \"bad\", \"bad\", \"bad\", \"bad\", \"bad\", \"bad\", \"bad\", \"bad\", \"bath\", \"bead\", \"bead\", \"bead\", \"bead\", \"bead\", \"bead\", \"bead\", \"bead\", \"beadsmith\", \"beeswax\", \"beige\", \"bent\", \"bent\", \"bent\", \"bent\", \"bent\", \"bent\", \"better\", \"better\", \"better\", \"better\", \"better\", \"better\", \"better\", \"better\", \"better\", \"better\", \"beware\", \"beware\", \"beware\", \"beware\", \"beware\", \"bias\", \"bias\", \"big\", \"big\", \"big\", \"big\", \"big\", \"big\", \"big\", \"big\", \"bigger\", \"bigger\", \"bigger\", \"bigger\", \"binder\", \"black\", \"black\", \"black\", \"black\", \"black\", \"black\", \"black\", \"black\", \"blade\", \"blade\", \"blade\", \"blade\", \"blade\", \"blade\", \"blank\", \"blank\", \"blend\", \"blend\", \"blend\", \"blend\", \"blue\", \"blue\", \"blue\", \"blue\", \"blue\", \"bobbin\", \"bobbin\", \"bobbin\", \"bobbin\", \"bobbin\", \"bomb\", \"book\", \"book\", \"book\", \"book\", \"book\", \"border\", \"bothered\", \"bough\", \"bought\", \"bought\", \"bought\", \"bought\", \"bought\", \"bought\", \"bought\", \"bought\", \"bought\", \"bought\", \"bow\", \"bra\", \"brake\", \"brassy\", \"break\", \"break\", \"break\", \"break\", \"break\", \"break\", \"break\", \"bright\", \"bright\", \"bright\", \"brighter\", \"bristle\", \"bristle\", \"bristle\", \"broke\", \"broke\", \"broke\", \"broke\", \"broke\", \"broke\", \"broke\", \"broken\", \"broken\", \"broken\", \"broken\", \"broken\", \"broken\", \"bronze\", \"brother\", \"brother\", \"brother\", \"brother\", \"brown\", \"brown\", \"brown\", \"brush\", \"brush\", \"brush\", \"brush\", \"brush\", \"brush\", \"brush\", \"brush\", \"brush\", \"bulky\", \"bulky\", \"bulky\", \"bulky\", \"bunched\", \"buy\", \"buy\", \"buy\", \"buy\", \"buy\", \"buy\", \"buy\", \"buy\", \"buy\", \"buy\", \"buyer\", \"buyer\", \"buyer\", \"buyer\", \"buyer\", \"came\", \"came\", \"came\", \"came\", \"came\", \"came\", \"came\", \"came\", \"came\", \"came\", \"cameo\", \"cameo\", \"cancer\", \"canvas\", \"canvas\", \"canvas\", \"canvas\", \"canvas\", \"canvas\", \"cardstock\", \"cardstock\", \"cardstock\", \"carve\", \"cast\", \"ceap7\", \"chain\", \"chain\", \"chalk\", \"chalk\", \"chalk\", \"chalk\", \"chalk\", \"chalk\", \"cheap\", \"cheap\", \"cheap\", \"cheap\", \"cheap\", \"cheap\", \"cheap\", \"cheap\", \"cheap\", \"cheap\", \"cheaper\", \"cheaper\", \"cheaper\", \"cheaper\", \"cheaply\", \"cheaply\", \"cheaply\", \"cheaply\", \"cheaply\", \"cheep\", \"child\", \"child\", \"child\", \"child\", \"child\", \"child\", \"chinese\", \"chinese\", \"chinese\", \"chinese\", \"chipboard\", \"chipped\", \"chipped\", \"chipped\", \"christmas\", \"christmas\", \"christmas\", \"christmas\", \"chunky\", \"chunky\", \"circle\", \"circle\", \"circle\", \"clay\", \"clay\", \"clay\", \"clay\", \"cleanly\", \"cm\", \"coarser\", \"coated\", \"coated\", \"cold\", \"color\", \"color\", \"color\", \"color\", \"color\", \"color\", \"color\", \"color\", \"color\", \"color\", \"colored\", \"colored\", \"colored\", \"coloring\", \"coloring\", \"complex\", \"complicated\", \"compressor\", \"confusing\", \"consisted\", \"continually\", \"copic\", \"copper\", \"coral\", \"cord\", \"cord\", \"cord\", \"cord\", \"cord\", \"cord\", \"cordless\", \"correspond\", \"cost\", \"cost\", \"cost\", \"cost\", \"cost\", \"cost\", \"could\", \"could\", \"could\", \"could\", \"could\", \"could\", \"could\", \"could\", \"cove\", \"cr\", \"crafted\", \"crap\", \"crap\", \"crap\", \"crap\", \"crap\", \"crap\", \"crap\", \"crewel\", \"cricut\", \"cricut\", \"cricut\", \"cricut\", \"cricut\", \"cricut\", \"cricut\", \"cricut\", \"crimp\", \"crimp\", \"cross\", \"cross\", \"cupcake\", \"cupcake\", \"curl\", \"cushioned\", \"cut\", \"cut\", \"cut\", \"cut\", \"cut\", \"cut\", \"cut\", \"cut\", \"cuticle\", \"cutter\", \"cutter\", \"cutter\", \"cutting\", \"cutting\", \"cutting\", \"cutting\", \"cuttlebug\", \"damaged\", \"damaged\", \"damaged\", \"damaged\", \"damaged\", \"damaging\", \"dark\", \"dark\", \"dark\", \"dark\", \"dark\", \"deco\", \"decorate\", \"delighted\", \"delivered\", \"delivered\", \"deposed\", \"described\", \"described\", \"described\", \"described\", \"described\", \"described\", \"described\", \"described\", \"description\", \"description\", \"description\", \"description\", \"description\", \"description\", \"description\", \"dewent\", \"di\", \"dice\", \"didnt\", \"die\", \"die\", \"die\", \"die\", \"differant\", \"different\", \"different\", \"different\", \"different\", \"different\", \"different\", \"different\", \"different\", \"different\", \"different\", \"difficult\", \"difficult\", \"difficult\", \"difficult\", \"difficult\", \"difficult\", \"ding\", \"dinky\", \"direction\", \"direction\", \"direction\", \"direction\", \"direction\", \"direction\", \"dirty\", \"dirty\", \"dirty\", \"dirty\", \"disappears\", \"disappointed\", \"disappointed\", \"disappointed\", \"disappointed\", \"disappointed\", \"disappointed\", \"disappointed\", \"disappointed\", \"disappointed\", \"disappointed\", \"doesnt\", \"doesnt\", \"doesnt\", \"doesnt\", \"dont\", \"dont\", \"dont\", \"dont\", \"dp\", \"drab\", \"dress\", \"dress\", \"dried\", \"dried\", \"dried\", \"dried\", \"dried\", \"dried\", \"dry\", \"dry\", \"dry\", \"dry\", \"dry\", \"dry\", \"dry\", \"dull\", \"dull\", \"dull\", \"dull\", \"dull\", \"duplicate\", \"duty\", \"dy\", \"dy\", \"dy\", \"easier\", \"easier\", \"easier\", \"easier\", \"easily\", \"easily\", \"easily\", \"easily\", \"easily\", \"easily\", \"easily\", \"easily\", \"economic\", \"effectively\", \"elsewhere\", \"elsewhere\", \"elsewhere\", \"elsewhere\", \"embroidering\", \"empty\", \"empty\", \"empty\", \"empty\", \"empty\", \"encomenda\", \"enough\", \"enough\", \"enough\", \"enough\", \"enough\", \"enough\", \"enough\", \"enough\", \"enough\", \"even\", \"even\", \"even\", \"even\", \"even\", \"even\", \"even\", \"even\", \"even\", \"even\", \"exact\", \"exact\", \"exact\", \"exact\", \"existing\", \"expectation\", \"expectation\", \"expectation\", \"expectation\", \"expectation\", \"expected\", \"expected\", \"expected\", \"expected\", \"expected\", \"expected\", \"expected\", \"expecting\", \"expecting\", \"expecting\", \"expecting\", \"expecting\", \"expecting\", \"expecting\", \"expecting\", \"expecting\", \"expel\", \"expensive\", \"expensive\", \"expensive\", \"expensive\", \"expensive\", \"expensive\", \"explore\", \"explore\", \"fabric\", \"fabric\", \"fabric\", \"fabric\", \"fabric\", \"fabric\", \"fabric\", \"fabric\", \"fabric\", \"facepaint\", \"fake\", \"fake\", \"fake\", \"false\", \"false\", \"false\", \"falsely\", \"fell\", \"fell\", \"fell\", \"fell\", \"fell\", \"felting\", \"felting\", \"filler\", \"fine\", \"fine\", \"fine\", \"fine\", \"fine\", \"fine\", \"finely\", \"firm\", \"first\", \"first\", \"first\", \"first\", \"first\", \"first\", \"first\", \"fiskars\", \"fiskars\", \"fit\", \"fit\", \"fit\", \"fit\", \"fit\", \"fit\", \"fit\", \"flammable\", \"flimsy\", \"flimsy\", \"flimsy\", \"flimsy\", \"flimsy\", \"flimsy\", \"flimsy\", \"flimsy\", \"foiling\", \"follow\", \"followed\", \"followed\", \"followed\", \"followed\", \"followed\", \"fragile\", \"fragile\", \"fragile\", \"frame\", \"frame\", \"frame\", \"garbage\", \"garbage\", \"garbage\", \"garbage\", \"garbage\", \"garbage\", \"garbage\", \"garbage\", \"garbage\", \"gear\", \"gear\", \"get\", \"get\", \"get\", \"get\", \"get\", \"get\", \"get\", \"get\", \"get\", \"get\", \"gingher\", \"glass\", \"glass\", \"glass\", \"glass\", \"glass\", \"glass\", \"glass\", \"glossy\", \"glow\", \"glow\", \"glow\", \"glue\", \"glue\", \"glue\", \"glue\", \"glue\", \"glue\", \"glue\", \"glue\", \"gold\", \"gold\", \"gold\", \"gold\", \"gold\", \"golf\", \"good\", \"good\", \"good\", \"good\", \"good\", \"good\", \"good\", \"good\", \"good\", \"good\", \"got\", \"got\", \"got\", \"got\", \"got\", \"got\", \"got\", \"got\", \"got\", \"got\", \"gouch\", \"grain\", \"grandson\", \"great\", \"great\", \"great\", \"great\", \"great\", \"great\", \"great\", \"great\", \"green\", \"green\", \"green\", \"grey\", \"grey\", \"grey\", \"grey\", \"grey\", \"grey\", \"grommet\", \"grossly\", \"gun\", \"gun\", \"halfway\", \"happy\", \"happy\", \"happy\", \"happy\", \"happy\", \"happy\", \"happy\", \"hard\", \"hard\", \"hard\", \"hard\", \"hard\", \"hard\", \"hard\", \"hard\", \"hard\", \"hardware\", \"hardware\", \"harsh\", \"hate\", \"hate\", \"hate\", \"hate\", \"hate\", \"hate\", \"hate\", \"hate\", \"hate\", \"heal\", \"healing\", \"heavy\", \"heavy\", \"heavy\", \"heavy\", \"help\", \"help\", \"help\", \"help\", \"hemp\", \"hinge\", \"hole\", \"hole\", \"hole\", \"hole\", \"hole\", \"hole\", \"holtz\", \"hook\", \"hook\", \"hook\", \"hook\", \"hook\", \"hook\", \"hook\", \"hook\", \"hook\", \"hook\", \"horrible\", \"horrible\", \"horrible\", \"horrible\", \"horrible\", \"horrible\", \"horrible\", \"horrible\", \"horrible\", \"hose\", \"hot\", \"hot\", \"hot\", \"hot\", \"href\", \"ie\", \"immediately\", \"immediately\", \"immediately\", \"immediately\", \"immediately\", \"immediately\", \"imprint\", \"improvise\", \"inch\", \"inch\", \"inch\", \"inch\", \"inch\", \"inch\", \"inch\", \"include\", \"include\", \"included\", \"included\", \"included\", \"incomplete\", \"inconsistent\", \"incredibly\", \"incredibly\", \"incredibly\", \"ink\", \"ink\", \"ink\", \"ink\", \"ink\", \"inserted\", \"instruction\", \"instruction\", \"instruction\", \"instruction\", \"instruction\", \"instruction\", \"instruction\", \"instruction\", \"introduce\", \"itchy\", \"item\", \"item\", \"item\", \"item\", \"item\", \"item\", \"item\", \"item\", \"item\", \"jar\", \"jar\", \"jar\", \"jerrysartarama\", \"joannes\", \"job\", \"job\", \"job\", \"joint\", \"joint\", \"jumbo\", \"jumbo\", \"jump\", \"jump\", \"jump\", \"junk\", \"junk\", \"junk\", \"junk\", \"junk\", \"junk\", \"junk\", \"kleenex\", \"knot\", \"knot\", \"knot\", \"lane\", \"last\", \"last\", \"last\", \"last\", \"last\", \"latch\", \"latch\", \"latch\", \"lavender\", \"leakage\", \"leaked\", \"leaked\", \"leaked\", \"leaking\", \"leaking\", \"leather\", \"leather\", \"leather\", \"letter\", \"letter\", \"letter\", \"letter\", \"letter\", \"like\", \"like\", \"like\", \"like\", \"like\", \"like\", \"like\", \"like\", \"like\", \"like\", \"link\", \"link\", \"linked\", \"lobster\", \"location\", \"look\", \"look\", \"look\", \"look\", \"look\", \"look\", \"look\", \"look\", \"looking\", \"looking\", \"looking\", \"looking\", \"looking\", \"looking\", \"looking\", \"loom\", \"loom\", \"love\", \"love\", \"love\", \"love\", \"love\", \"love\", \"love\", \"love\", \"machine\", \"machine\", \"machine\", \"machine\", \"machine\", \"made\", \"made\", \"made\", \"made\", \"made\", \"made\", \"made\", \"made\", \"made\", \"made\", \"maintains\", \"make\", \"make\", \"make\", \"make\", \"make\", \"make\", \"make\", \"make\", \"make\", \"mandrel\", \"marbling\", \"maroon\", \"master\", \"mat\", \"mat\", \"mat\", \"mat\", \"matte\", \"measurement\", \"measurement\", \"measuring\", \"measuring\", \"measuring\", \"meet\", \"meet\", \"meet\", \"mesh\", \"messy\", \"messy\", \"messy\", \"messy\", \"mildew\", \"milky\", \"minha\", \"minimal\", \"misleading\", \"misleading\", \"misleading\", \"misleading\", \"misleading\", \"missing\", \"missing\", \"missing\", \"missing\", \"missing\", \"missing\", \"moda\", \"money\", \"money\", \"money\", \"money\", \"money\", \"money\", \"money\", \"money\", \"money\", \"mouth\", \"moving\", \"much\", \"much\", \"much\", \"much\", \"much\", \"much\", \"much\", \"much\", \"much\", \"mud\", \"mug\", \"nbsp\", \"needle\", \"needle\", \"needle\", \"needle\", \"needle\", \"needle\", \"needle\", \"net\", \"nickel\", \"nigerian\", \"noir\", \"noise\", \"normal\", \"normal\", \"normal\", \"normal\", \"normal\", \"nothing\", \"nothing\", \"nothing\", \"nothing\", \"nothing\", \"nothing\", \"nothing\", \"nothing\", \"notreceive\", \"ok\", \"ok\", \"ok\", \"ok\", \"ok\", \"olfa\", \"omg\", \"one\", \"one\", \"one\", \"one\", \"one\", \"one\", \"one\", \"one\", \"one\", \"one\", \"oracle\", \"orange\", \"orange\", \"orange\", \"orange\", \"order\", \"order\", \"order\", \"order\", \"order\", \"order\", \"order\", \"order\", \"order\", \"order\", \"ordered\", \"ordered\", \"ordered\", \"ordered\", \"ordered\", \"ordered\", \"ordered\", \"ordered\", \"outfit\", \"overcharged\", \"overlay\", \"overpriced\", \"overpriced\", \"overpriced\", \"overpriced\", \"overpriced\", \"oz\", \"oz\", \"packet\", \"paid\", \"paid\", \"paid\", \"paid\", \"paid\", \"paid\", \"paid\", \"paid\", \"paid\", \"paint\", \"paint\", \"paint\", \"paint\", \"paint\", \"paint\", \"pale\", \"palette\", \"pan\", \"panel\", \"panel\", \"panel\", \"paper\", \"paper\", \"paper\", \"paper\", \"paper\", \"paper\", \"paper\", \"paper\", \"pastime\", \"patch\", \"patch\", \"pattern\", \"pattern\", \"pattern\", \"pattern\", \"pattern\", \"pay\", \"pay\", \"pay\", \"pay\", \"pay\", \"pay\", \"pay\", \"pay\", \"peg\", \"peg\", \"pen\", \"pen\", \"pen\", \"pen\", \"pen\", \"pen\", \"pen\", \"pencil\", \"pencil\", \"pencil\", \"pencil\", \"pencil\", \"pencil\", \"pencil\", \"perfect\", \"perfect\", \"perfect\", \"perfect\", \"perfect\", \"perforate\", \"perforated\", \"periodically\", \"pfaff\", \"picture\", \"picture\", \"picture\", \"picture\", \"picture\", \"picture\", \"pictured\", \"pictured\", \"pictured\", \"pictured\", \"piece\", \"piece\", \"piece\", \"piece\", \"piece\", \"piece\", \"piece\", \"piece\", \"piece\", \"pin\", \"pin\", \"pin\", \"pin\", \"pin\", \"pink\", \"pink\", \"pink\", \"pink\", \"pink\", \"plastic\", \"plastic\", \"plastic\", \"plastic\", \"plastic\", \"plastic\", \"plastic\", \"plastic\", \"plastic\", \"play\", \"play\", \"pleased\", \"pleased\", \"pleased\", \"pleased\", \"pleased\", \"pliable\", \"plural\", \"pmps\", \"point\", \"point\", \"point\", \"point\", \"point\", \"point\", \"point\", \"pom\", \"pom\", \"pool\", \"poor\", \"poor\", \"poor\", \"poor\", \"poor\", \"poor\", \"poor\", \"poor\", \"pop\", \"pop\", \"pop\", \"pounder\", \"powdery\", \"practicing\", \"price\", \"price\", \"price\", \"price\", \"price\", \"price\", \"price\", \"price\", \"price\", \"priced\", \"priced\", \"priced\", \"priced\", \"priced\", \"priced\", \"priced\", \"prince\", \"print\", \"print\", \"print\", \"print\", \"print\", \"product\", \"product\", \"product\", \"product\", \"product\", \"product\", \"product\", \"product\", \"product\", \"product\", \"program\", \"punch\", \"punch\", \"punch\", \"punch\", \"punching\", \"purple\", \"purple\", \"purple\", \"quality\", \"quality\", \"quality\", \"quality\", \"quality\", \"quality\", \"quality\", \"quality\", \"quality\", \"quality\", \"rack\", \"rainbow\", \"really\", \"really\", \"really\", \"really\", \"really\", \"really\", \"really\", \"really\", \"really\", \"recebi\", \"received\", \"received\", \"received\", \"received\", \"received\", \"received\", \"received\", \"received\", \"recommend\", \"recommend\", \"recommend\", \"recommend\", \"recommend\", \"recommend\", \"recommend\", \"recommend\", \"recommend\", \"red\", \"red\", \"red\", \"red\", \"red\", \"red\", \"red\", \"red\", \"ref\", \"released\", \"reorder\", \"represented\", \"rereceived\", \"resort\", \"return\", \"return\", \"return\", \"return\", \"return\", \"return\", \"return\", \"return\", \"return\", \"returnable\", \"returnable\", \"returned\", \"returned\", \"returned\", \"returned\", \"returned\", \"returned\", \"returned\", \"returned\", \"returned\", \"returned\", \"review\", \"review\", \"review\", \"review\", \"review\", \"review\", \"rhinestone\", \"rhinestone\", \"rhinestone\", \"ribbon\", \"ribbon\", \"ribbon\", \"ribbon\", \"ridiculous\", \"ridiculous\", \"ridiculous\", \"ridiculous\", \"ridiculous\", \"ridiculously\", \"ring\", \"ring\", \"ring\", \"ring\", \"ring\", \"ring\", \"ring\", \"ripoff\", \"ripoff\", \"ripper\", \"ripper\", \"rock\", \"rock\", \"rock\", \"rotary\", \"rotary\", \"rubber\", \"rubber\", \"rubber\", \"rubber\", \"rubbish\", \"ruby\", \"rug\", \"ruler\", \"ruler\", \"ruler\", \"ruler\", \"ruler\", \"rvw\", \"sakura\", \"sash\", \"saver\", \"saver\", \"saver\", \"scent\", \"scissors\", \"scissors\", \"scissors\", \"scissors\", \"scissors\", \"scratchy\", \"scratchy\", \"screne\", \"screwed\", \"scrubber\", \"se400\", \"sent\", \"sent\", \"sent\", \"sent\", \"sent\", \"sent\", \"sent\", \"separting\", \"serger\", \"sharp\", \"sharp\", \"sharp\", \"sharp\", \"sharp\", \"sharp\", \"sharp\", \"sharp\", \"sharpen\", \"sharpen\", \"sharpener\", \"sharpie\", \"sharpie\", \"sharpie\", \"shed\", \"shed\", \"ship\", \"ship\", \"ship\", \"ship\", \"ship\", \"show\", \"show\", \"show\", \"show\", \"show\", \"show\", \"show\", \"shown\", \"shown\", \"shown\", \"shown\", \"shown\", \"shuttle\", \"size\", \"size\", \"size\", \"size\", \"size\", \"size\", \"size\", \"size\", \"sized\", \"sized\", \"sized\", \"sized\", \"sizzix\", \"sizzix\", \"skein\", \"skein\", \"skein\", \"skein\", \"skein\", \"skein\", \"skein\", \"skein\", \"skewer\", \"skiens\", \"slow\", \"slow\", \"slow\", \"small\", \"small\", \"small\", \"small\", \"small\", \"small\", \"small\", \"small\", \"small\", \"smarter\", \"smell\", \"smell\", \"smell\", \"smell\", \"smell\", \"smelling\", \"snapped\", \"snapped\", \"snapped\", \"softer\", \"solder\", \"something\", \"something\", \"something\", \"something\", \"something\", \"something\", \"spacers\", \"sparkle\", \"sparkle\", \"spectrum\", \"speed\", \"spellbinder\", \"spellbinder\", \"spindle\", \"splinter\", \"splinter\", \"spool\", \"spool\", \"spool\", \"spool\", \"spool\", \"spool\", \"spool\", \"spray\", \"spray\", \"spray\", \"spray\", \"stained\", \"stamping\", \"stamping\", \"stamping\", \"stamping\", \"static\", \"stay\", \"stay\", \"stay\", \"stay\", \"stay\", \"stay\", \"stay\", \"stay\", \"stay\", \"stazon\", \"stick\", \"stick\", \"stick\", \"stick\", \"stick\", \"stick\", \"stick\", \"stick\", \"stick\", \"stick\", \"stiff\", \"stiff\", \"stiff\", \"stiff\", \"stiff\", \"stolen\", \"strand\", \"strand\", \"strand\", \"strand\", \"stripe\", \"stud\", \"sturdy\", \"sturdy\", \"sturdy\", \"sturdy\", \"sturdy\", \"sturdy\", \"style\", \"style\", \"style\", \"style\", \"subpar\", \"sucked\", \"sue\", \"sugru\", \"super\", \"super\", \"super\", \"super\", \"super\", \"super\", \"syicking\", \"tape\", \"tape\", \"tape\", \"tape\", \"tape\", \"tarnish\", \"tarnish\", \"tarnish\", \"tarnished\", \"tarnished\", \"tearing\", \"teeny\", \"teeny\", \"teeny\", \"tension\", \"tension\", \"terrible\", \"terrible\", \"terrible\", \"terrible\", \"terrible\", \"terrible\", \"terrible\", \"terrible\", \"terrible\", \"terribly\", \"terribly\", \"thats\", \"thermoweb\", \"thick\", \"thick\", \"thick\", \"thick\", \"thick\", \"thick\", \"thick\", \"thimble\", \"thin\", \"thin\", \"thin\", \"thin\", \"thin\", \"thin\", \"thin\", \"thin\", \"thin\", \"thing\", \"thing\", \"thing\", \"thing\", \"thing\", \"thing\", \"thing\", \"thing\", \"thing\", \"thread\", \"thread\", \"thread\", \"thread\", \"thread\", \"thread\", \"thread\", \"thread\", \"threading\", \"threading\", \"threading\", \"three\", \"three\", \"three\", \"three\", \"three\", \"three\", \"three\", \"throw\", \"throw\", \"throw\", \"throw\", \"tied\", \"tied\", \"tim\", \"time\", \"time\", \"time\", \"time\", \"time\", \"time\", \"time\", \"time\", \"time\", \"time\", \"tin\", \"tin\", \"tiny\", \"tiny\", \"tiny\", \"tiny\", \"tiny\", \"tiny\", \"tip\", \"tip\", \"tip\", \"tip\", \"tip\", \"tip\", \"tip\", \"tip\", \"toothpick\", \"top\", \"top\", \"top\", \"top\", \"top\", \"top\", \"topaz\", \"total\", \"total\", \"total\", \"total\", \"total\", \"total\", \"total\", \"totaly\", \"trace\", \"transfer\", \"transfer\", \"transfer\", \"tried\", \"tried\", \"tried\", \"tried\", \"tried\", \"tried\", \"tried\", \"tried\", \"tried\", \"trigger\", \"trimmer\", \"truly\", \"truly\", \"txt\", \"ugh\", \"ugh\", \"ugh\", \"ugly\", \"ugly\", \"ugly\", \"ugly\", \"unable\", \"unable\", \"unable\", \"unable\", \"uncomfortable\", \"uncomfortable\", \"uncomfortable\", \"uncomfortable\", \"uniball\", \"unlucky\", \"unpleasant\", \"unpleasant\", \"unraveled\", \"use\", \"use\", \"use\", \"use\", \"use\", \"use\", \"use\", \"use\", \"use\", \"use\", \"used\", \"used\", \"used\", \"used\", \"used\", \"used\", \"used\", \"used\", \"used\", \"useless\", \"useless\", \"useless\", \"useless\", \"useless\", \"useless\", \"useless\", \"useless\", \"useless\", \"useless\", \"using\", \"using\", \"using\", \"using\", \"using\", \"using\", \"using\", \"using\", \"using\", \"utf8\", \"variety\", \"variety\", \"variety\", \"vinyl\", \"vinyl\", \"vinyl\", \"vinyl\", \"vinyl\", \"vinyl\", \"vinyl\", \"wash\", \"wash\", \"wash\", \"wash\", \"wast\", \"waste\", \"waste\", \"waste\", \"waste\", \"waste\", \"waste\", \"waste\", \"waste\", \"waste\", \"watched\", \"watched\", \"water\", \"water\", \"water\", \"water\", \"water\", \"water\", \"watery\", \"way\", \"way\", \"way\", \"way\", \"way\", \"way\", \"way\", \"way\", \"way\", \"way\", \"weave\", \"weaving\", \"weaving\", \"webcaster\", \"weeding\", \"week\", \"week\", \"week\", \"week\", \"week\", \"well\", \"well\", \"well\", \"well\", \"well\", \"well\", \"well\", \"well\", \"well\", \"well\", \"white\", \"white\", \"white\", \"white\", \"white\", \"white\", \"white\", \"wind\", \"wind\", \"winder\", \"winder\", \"winding\", \"wobbly\", \"wont\", \"work\", \"work\", \"work\", \"work\", \"work\", \"work\", \"work\", \"work\", \"work\", \"work\", \"worth\", \"worth\", \"worth\", \"worth\", \"worth\", \"worth\", \"worth\", \"worth\", \"worth\", \"worthless\", \"worthless\", \"worthless\", \"worthless\", \"worthless\", \"worthless\", \"worthless\", \"worthless\", \"worthy\", \"would\", \"would\", \"would\", \"would\", \"would\", \"would\", \"would\", \"would\", \"would\", \"would\", \"wouldnt\", \"woven\", \"wrong\", \"wrong\", \"wrong\", \"wrong\", \"wrong\", \"wrong\", \"wrong\", \"wrong\", \"ya\", \"yard\", \"yard\", \"yard\", \"yard\", \"yard\", \"yardage\", \"yarn\", \"yarn\", \"yarn\", \"yarn\", \"yarn\", \"yarn\", \"yarn\", \"yarn\", \"yarn\", \"yarn\", \"zebra\", \"zipper\", \"zipper\", \"zipper\"]}, \"R\": 30, \"lambda.step\": 0.01, \"plot.opts\": {\"xlab\": \"PC1\", \"ylab\": \"PC2\"}, \"topic.order\": [1, 4, 5, 8, 3, 9, 2, 7, 6, 10]};\n",
       "\n",
       "function LDAvis_load_lib(url, callback){\n",
       "  var s = document.createElement('script');\n",
       "  s.src = url;\n",
       "  s.async = true;\n",
       "  s.onreadystatechange = s.onload = callback;\n",
       "  s.onerror = function(){console.warn(\"failed to load library \" + url);};\n",
       "  document.getElementsByTagName(\"head\")[0].appendChild(s);\n",
       "}\n",
       "\n",
       "if(typeof(LDAvis) !== \"undefined\"){\n",
       "   // already loaded: just create the visualization\n",
       "   !function(LDAvis){\n",
       "       new LDAvis(\"#\" + \"ldavis_el6550961966261441047736459\", ldavis_el6550961966261441047736459_data);\n",
       "   }(LDAvis);\n",
       "}else if(typeof define === \"function\" && define.amd){\n",
       "   // require.js is available: use it to load d3/LDAvis\n",
       "   require.config({paths: {d3: \"https://d3js.org/d3.v5\"}});\n",
       "   require([\"d3\"], function(d3){\n",
       "      window.d3 = d3;\n",
       "      LDAvis_load_lib(\"https://cdn.jsdelivr.net/gh/bmabey/pyLDAvis@3.4.0/pyLDAvis/js/ldavis.v3.0.0.js\", function(){\n",
       "        new LDAvis(\"#\" + \"ldavis_el6550961966261441047736459\", ldavis_el6550961966261441047736459_data);\n",
       "      });\n",
       "    });\n",
       "}else{\n",
       "    // require.js not available: dynamically load d3 & LDAvis\n",
       "    LDAvis_load_lib(\"https://d3js.org/d3.v5.js\", function(){\n",
       "         LDAvis_load_lib(\"https://cdn.jsdelivr.net/gh/bmabey/pyLDAvis@3.4.0/pyLDAvis/js/ldavis.v3.0.0.js\", function(){\n",
       "                 new LDAvis(\"#\" + \"ldavis_el6550961966261441047736459\", ldavis_el6550961966261441047736459_data);\n",
       "            })\n",
       "         });\n",
       "}\n",
       "</script>"
      ],
      "text/plain": [
       "<IPython.core.display.HTML object>"
      ]
     },
     "execution_count": 39,
     "metadata": {},
     "output_type": "execute_result"
    }
   ],
   "source": [
    "# Visualize low-rated topics\n",
    "panel_low = pyLDAvis.lda_model.prepare(lda_low, low, vectorizer, mds='tsne')\n",
    "pyLDAvis.display(panel_low)"
   ]
  }
 ],
 "metadata": {
  "kernelspec": {
   "display_name": "base",
   "language": "python",
   "name": "python3"
  },
  "language_info": {
   "codemirror_mode": {
    "name": "ipython",
    "version": 3
   },
   "file_extension": ".py",
   "mimetype": "text/x-python",
   "name": "python",
   "nbconvert_exporter": "python",
   "pygments_lexer": "ipython3",
   "version": "3.9.12"
  }
 },
 "nbformat": 4,
 "nbformat_minor": 2
}
